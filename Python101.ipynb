{
  "nbformat": 4,
  "nbformat_minor": 0,
  "metadata": {
    "colab": {
      "name": "Python101.ipynb",
      "provenance": [],
      "include_colab_link": true
    },
    "kernelspec": {
      "name": "python3",
      "display_name": "Python 3"
    }
  },
  "cells": [
    {
      "cell_type": "markdown",
      "metadata": {
        "id": "view-in-github",
        "colab_type": "text"
      },
      "source": [
        "<a href=\"https://colab.research.google.com/github/Wikanes-k/multivariate/blob/main/Python101.ipynb\" target=\"_parent\"><img src=\"https://colab.research.google.com/assets/colab-badge.svg\" alt=\"Open In Colab\"/></a>"
      ]
    },
    {
      "cell_type": "markdown",
      "metadata": {
        "id": "hoM-Ole6L5iG"
      },
      "source": [
        "ตัวแปร variable\r\n",
        "\r\n",
        "หลักการตั้งชื่อตัวแปรเบื้องต้น\r\n",
        "\r\n",
        "\r\n",
        "1.   ตั้งให้สื่อ\r\n",
        "2.   ภาษาอังกฤษ\r\n",
        "3.   ใช้ตัวเลขได้แต่ห้ามขึ้นต้นด้วยตัวเลข\r\n",
        "4.   ห้ามเว้นวรรค\r\n",
        "5.   ตัวเล็กกับตัวใหญ่ไม่เหมือนกัน\r\n",
        "\r\n",
        "มี output 2 mode : ออกหน้าจอ กับ เข้าไปเก็บในตัวแปร \r\n",
        "\r\n",
        "\r\n",
        "\r\n"
      ]
    },
    {
      "cell_type": "code",
      "metadata": {
        "colab": {
          "base_uri": "https://localhost:8080/"
        },
        "id": "eHg8lqkBLvne",
        "outputId": "8c1c9545-a447-4f3b-9312-6f5e4b2c186f"
      },
      "source": [
        "3.14159   # hashtag  หรือ  sharp  คือ comment >> อันนี้คือ output "
      ],
      "execution_count": 1,
      "outputs": [
        {
          "output_type": "execute_result",
          "data": {
            "text/plain": [
              "3.14159"
            ]
          },
          "metadata": {
            "tags": []
          },
          "execution_count": 1
        }
      ]
    },
    {
      "cell_type": "code",
      "metadata": {
        "id": "UwyXD-o2MvtP"
      },
      "source": [
        "pi = 3.14159       #out put ที่เข้าไปอยู่ในตัวแปร"
      ],
      "execution_count": 2,
      "outputs": []
    },
    {
      "cell_type": "code",
      "metadata": {
        "colab": {
          "base_uri": "https://localhost:8080/"
        },
        "id": "0CAJDxEWNCgE",
        "outputId": "5d954988-28b3-49c7-d16f-5e579e2731c4"
      },
      "source": [
        "pi                       #run ตัวแปร แล้วจะได้ out put ออกมา"
      ],
      "execution_count": 3,
      "outputs": [
        {
          "output_type": "execute_result",
          "data": {
            "text/plain": [
              "3.14159"
            ]
          },
          "metadata": {
            "tags": []
          },
          "execution_count": 3
        }
      ]
    },
    {
      "cell_type": "code",
      "metadata": {
        "colab": {
          "base_uri": "https://localhost:8080/"
        },
        "id": "sqbe6l12NEou",
        "outputId": "780793d5-f4bf-4dd5-d96e-4649e0f2cb6a"
      },
      "source": [
        "a = 1234567       # out put ที่เข้าไปอยู่ในตัวแปร แล้วก็แสดงผล a ออกมา\r\n",
        "print(a)"
      ],
      "execution_count": 4,
      "outputs": [
        {
          "output_type": "stream",
          "text": [
            "1234567\n"
          ],
          "name": "stdout"
        }
      ]
    },
    {
      "cell_type": "markdown",
      "metadata": {
        "id": "zoG0ULyHNvnu"
      },
      "source": [
        "#ชนิดของตัวแปร 3 ชนิด"
      ]
    },
    {
      "cell_type": "markdown",
      "metadata": {
        "id": "EFe94-P2Oo9k"
      },
      "source": [
        "###1จำนวนเต็ม(integer, int)"
      ]
    },
    {
      "cell_type": "code",
      "metadata": {
        "colab": {
          "base_uri": "https://localhost:8080/"
        },
        "id": "ypi4xEJCOydS",
        "outputId": "c39de7ed-24b5-4193-9791-fbd749caafe1"
      },
      "source": [
        "aaa = 1092       # ให้ aaa เท่ากับจำนวนเต็มแล้วแสดงผลออกมา\r\n",
        "print(aaa)"
      ],
      "execution_count": 5,
      "outputs": [
        {
          "output_type": "stream",
          "text": [
            "1092\n"
          ],
          "name": "stdout"
        }
      ]
    },
    {
      "cell_type": "markdown",
      "metadata": {
        "id": "TeqpvIqBO9bV"
      },
      "source": [
        "###2จำนวนจริง(float)"
      ]
    },
    {
      "cell_type": "code",
      "metadata": {
        "colab": {
          "base_uri": "https://localhost:8080/"
        },
        "id": "DDf3ZPwROzFs",
        "outputId": "d974cb2f-6144-4020-b52a-723c40be1610"
      },
      "source": [
        "bbb = 11.      # ให้ bbb เท่ากับจำนวนจริงแล้วแสดงผลออกมา\r\n",
        "print(bbb)"
      ],
      "execution_count": 6,
      "outputs": [
        {
          "output_type": "stream",
          "text": [
            "11.0\n"
          ],
          "name": "stdout"
        }
      ]
    },
    {
      "cell_type": "markdown",
      "metadata": {
        "id": "l-yerTDaPPxi"
      },
      "source": [
        "###3ตัวอักษร-ข้อความ (character และ text,string)"
      ]
    },
    {
      "cell_type": "code",
      "metadata": {
        "colab": {
          "base_uri": "https://localhost:8080/"
        },
        "id": "cZyyNgOAPI3J",
        "outputId": "64b674af-cd4b-4ce2-a9b2-ca1bd31c99ca"
      },
      "source": [
        "ccc = '123456' #เราใช้ sring quote ' หรือ double quote \" ล้อมรอบตัวหนังสือเพื่อระบุว่าเป็น character-string\r\n",
        "print(ccc)"
      ],
      "execution_count": 7,
      "outputs": [
        {
          "output_type": "stream",
          "text": [
            "123456\n"
          ],
          "name": "stdout"
        }
      ]
    },
    {
      "cell_type": "code",
      "metadata": {
        "colab": {
          "base_uri": "https://localhost:8080/"
        },
        "id": "YGPEud9KP55_",
        "outputId": "2e0e9432-eba7-4f00-f35c-618fd17addde"
      },
      "source": [
        "aaa+bbb  #float + int = float"
      ],
      "execution_count": 8,
      "outputs": [
        {
          "output_type": "execute_result",
          "data": {
            "text/plain": [
              "1103.0"
            ]
          },
          "metadata": {
            "tags": []
          },
          "execution_count": 8
        }
      ]
    },
    {
      "cell_type": "code",
      "metadata": {
        "colab": {
          "base_uri": "https://localhost:8080/"
        },
        "id": "_U-Zdaa7QEhi",
        "outputId": "14ee8811-b493-4cc1-f02a-30d6b8d84e39"
      },
      "source": [
        "ddd = 'วิฆเนศ'   #สามาถใช้ภาษาไทยได้\r\n",
        "print(ddd)"
      ],
      "execution_count": 9,
      "outputs": [
        {
          "output_type": "stream",
          "text": [
            "วิฆเนศ\n"
          ],
          "name": "stdout"
        }
      ]
    },
    {
      "cell_type": "markdown",
      "metadata": {
        "id": "B2lpSVmjQ4aq"
      },
      "source": [
        "##การเปลี่ยนชนิดของตัวแปร variable casting"
      ]
    },
    {
      "cell_type": "code",
      "metadata": {
        "colab": {
          "base_uri": "https://localhost:8080/"
        },
        "id": "GW4dmWrSQyi_",
        "outputId": "350e787b-d862-4d71-be4f-5e2c2f33bdc5"
      },
      "source": [
        "aaa + int(ccc)  #ใส่ int หน้า ccc เพื่อแปลงเป็นจำนวนเต็ม\r\n"
      ],
      "execution_count": 10,
      "outputs": [
        {
          "output_type": "execute_result",
          "data": {
            "text/plain": [
              "124548"
            ]
          },
          "metadata": {
            "tags": []
          },
          "execution_count": 10
        }
      ]
    },
    {
      "cell_type": "code",
      "metadata": {
        "colab": {
          "base_uri": "https://localhost:8080/"
        },
        "id": "nydm8G09RnVF",
        "outputId": "a5fab09e-80fe-454c-cc72-3ae30bab0417"
      },
      "source": [
        "aaa + float(ccc)   #ใส่ float หน้า ccc เพื่อแปลงเป็นจำนวนจริง   /    int + float = float\r\n"
      ],
      "execution_count": 11,
      "outputs": [
        {
          "output_type": "execute_result",
          "data": {
            "text/plain": [
              "124548.0"
            ]
          },
          "metadata": {
            "tags": []
          },
          "execution_count": 11
        }
      ]
    },
    {
      "cell_type": "code",
      "metadata": {
        "colab": {
          "base_uri": "https://localhost:8080/",
          "height": 35
        },
        "id": "mtZhxQFaRsbj",
        "outputId": "7f7f1101-cebf-4283-ccaf-419feec482f5"
      },
      "source": [
        "str(aaa)   # ใส่ str หน้า aaa เพื่อแปลงเป็นตัวอักษร"
      ],
      "execution_count": 12,
      "outputs": [
        {
          "output_type": "execute_result",
          "data": {
            "application/vnd.google.colaboratory.intrinsic+json": {
              "type": "string"
            },
            "text/plain": [
              "'1092'"
            ]
          },
          "metadata": {
            "tags": []
          },
          "execution_count": 12
        }
      ]
    },
    {
      "cell_type": "markdown",
      "metadata": {
        "id": "9n6CVH_ySZM0"
      },
      "source": [
        "##การดำเนินการ Operation (Operator +,-,*,/,%)"
      ]
    },
    {
      "cell_type": "code",
      "metadata": {
        "colab": {
          "base_uri": "https://localhost:8080/",
          "height": 163
        },
        "id": "bWYXlR4dR0Ua",
        "outputId": "24797a53-2edd-49b9-852d-530b908ffaa0"
      },
      "source": [
        "a+b   # Error เพราะ ไม่มีตัวแปร b"
      ],
      "execution_count": 13,
      "outputs": [
        {
          "output_type": "error",
          "ename": "NameError",
          "evalue": "ignored",
          "traceback": [
            "\u001b[0;31m---------------------------------------------------------------------------\u001b[0m",
            "\u001b[0;31mNameError\u001b[0m                                 Traceback (most recent call last)",
            "\u001b[0;32m<ipython-input-13-71be8ac2a879>\u001b[0m in \u001b[0;36m<module>\u001b[0;34m()\u001b[0m\n\u001b[0;32m----> 1\u001b[0;31m \u001b[0ma\u001b[0m\u001b[0;34m+\u001b[0m\u001b[0mb\u001b[0m   \u001b[0;31m# Error เพราะ ไม่มีตัวแปร b\u001b[0m\u001b[0;34m\u001b[0m\u001b[0;34m\u001b[0m\u001b[0m\n\u001b[0m",
            "\u001b[0;31mNameError\u001b[0m: name 'b' is not defined"
          ]
        }
      ]
    },
    {
      "cell_type": "code",
      "metadata": {
        "id": "Ktv1iGecS1Wx",
        "outputId": "a0337285-ca75-4d9c-9cb4-8fc20fe5e4f7",
        "colab": {
          "base_uri": "https://localhost:8080/"
        }
      },
      "source": [
        "aaa+bbb              #บวกเลข   /   int + float  = float"
      ],
      "execution_count": 14,
      "outputs": [
        {
          "output_type": "execute_result",
          "data": {
            "text/plain": [
              "1103.0"
            ]
          },
          "metadata": {
            "tags": []
          },
          "execution_count": 14
        }
      ]
    },
    {
      "cell_type": "code",
      "metadata": {
        "id": "iM4bSEqEf-nG",
        "outputId": "52d6e9d5-80f8-41f9-a835-a2fbe83aa678",
        "colab": {
          "base_uri": "https://localhost:8080/"
        }
      },
      "source": [
        "aaa-bbb               #ลบเลข    /   int - float  = float"
      ],
      "execution_count": 15,
      "outputs": [
        {
          "output_type": "execute_result",
          "data": {
            "text/plain": [
              "1081.0"
            ]
          },
          "metadata": {
            "tags": []
          },
          "execution_count": 15
        }
      ]
    },
    {
      "cell_type": "code",
      "metadata": {
        "id": "qti5F93rS3-z",
        "outputId": "bcb3e0ad-e66b-4e15-9af7-67cbcc2bdbcf",
        "colab": {
          "base_uri": "https://localhost:8080/"
        }
      },
      "source": [
        "ab = aaa*bbb      #aaa คูณ bbb ในตัวแปร ab แล้วแสดงผลตัวแปร ab\r\n",
        "print(ab)"
      ],
      "execution_count": 16,
      "outputs": [
        {
          "output_type": "stream",
          "text": [
            "12012.0\n"
          ],
          "name": "stdout"
        }
      ]
    },
    {
      "cell_type": "code",
      "metadata": {
        "id": "tFBpQkiBTFbo",
        "outputId": "fa26016c-c3c3-4753-fec4-62227e48e34e",
        "colab": {
          "base_uri": "https://localhost:8080/"
        }
      },
      "source": [
        "ab+int(ccc)          #ใส่ int หน้า ccc เพื่อแปลงเป็นจำนวนเต็ม แล้วบวกกับตัวแปร ab    /   float + int = float"
      ],
      "execution_count": 17,
      "outputs": [
        {
          "output_type": "execute_result",
          "data": {
            "text/plain": [
              "135468.0"
            ]
          },
          "metadata": {
            "tags": []
          },
          "execution_count": 17
        }
      ]
    },
    {
      "cell_type": "markdown",
      "metadata": {
        "id": "-e5E5eqGTMMI"
      },
      "source": [
        "###% คือ modulo "
      ]
    },
    {
      "cell_type": "code",
      "metadata": {
        "id": "-f3z59wuTJ_o",
        "outputId": "a558a188-8472-488a-80fa-fc5baf6d20e7",
        "colab": {
          "base_uri": "https://localhost:8080/"
        }
      },
      "source": [
        "5%3  #หารเอาเศษ"
      ],
      "execution_count": 18,
      "outputs": [
        {
          "output_type": "execute_result",
          "data": {
            "text/plain": [
              "2"
            ]
          },
          "metadata": {
            "tags": []
          },
          "execution_count": 18
        }
      ]
    },
    {
      "cell_type": "code",
      "metadata": {
        "id": "fLL-KJLoTmfH",
        "outputId": "f1f360dd-e042-4844-e154-62e5c98c11bb",
        "colab": {
          "base_uri": "https://localhost:8080/"
        }
      },
      "source": [
        "7%3  #หารเอาเศษ"
      ],
      "execution_count": 19,
      "outputs": [
        {
          "output_type": "execute_result",
          "data": {
            "text/plain": [
              "1"
            ]
          },
          "metadata": {
            "tags": []
          },
          "execution_count": 19
        }
      ]
    },
    {
      "cell_type": "markdown",
      "metadata": {
        "id": "AFThDxWsTzZJ"
      },
      "source": [
        "#คำสั่ง print แบบพิเศษ (การ format string)"
      ]
    },
    {
      "cell_type": "code",
      "metadata": {
        "id": "IADLB-xGTtW1",
        "outputId": "5dd24103-be9f-4a9c-ff3e-bcf7fb1c9e9a",
        "colab": {
          "base_uri": "https://localhost:8080/"
        }
      },
      "source": [
        "print('ตัวแปร')  #สิ่งที่อยู่ในวงเล็บคือ ตัวแปร และ string"
      ],
      "execution_count": 20,
      "outputs": [
        {
          "output_type": "stream",
          "text": [
            "ตัวแปร\n"
          ],
          "name": "stdout"
        }
      ]
    },
    {
      "cell_type": "code",
      "metadata": {
        "id": "xW3IWUHAUT2a",
        "outputId": "7d12d2ca-7dba-4c30-d79e-90e2969c29d9",
        "colab": {
          "base_uri": "https://localhost:8080/"
        }
      },
      "source": [
        "print(f'% คือการหารเอาเศษ เช่น 7%3 = {7%3}')  #เพื่ม f หน้า 'string' และใช้ {} ใส่ code ข้างในปีกกาใส่โค้ด"
      ],
      "execution_count": 21,
      "outputs": [
        {
          "output_type": "stream",
          "text": [
            "% คือการหารเอาเศษ เช่น 7%3 = 1\n"
          ],
          "name": "stdout"
        }
      ]
    },
    {
      "cell_type": "code",
      "metadata": {
        "id": "8V-qC3IUUuLZ",
        "outputId": "009415da-d71e-4383-d838-d953c302030a",
        "colab": {
          "base_uri": "https://localhost:8080/",
          "height": 130
        }
      },
      "source": [
        "print(f'% คือการหารเอาเศษ เช่น {7%3}\\ \r\n",
        "แต่\\n/คือการหารปกติ เช่น 7/3 ={7/3}\\\r\n",
        "และ\\n//คือการหารเอาเศษ เช่น 7//3 = {7//3}\\\r\n",
        "หรือ\\nใช้int() เพื่อหารเอาส่วน เช่น int(7/3) = {int(7/3)}')  #\\nคือการขึ้นบรรทัดใหม่ คอมเห็น   \\ทำให้คอมมองไม่เห็นแต่เราเห็น"
      ],
      "execution_count": 22,
      "outputs": [
        {
          "output_type": "error",
          "ename": "SyntaxError",
          "evalue": "ignored",
          "traceback": [
            "\u001b[0;36m  File \u001b[0;32m\"<ipython-input-22-dcd661290cbe>\"\u001b[0;36m, line \u001b[0;32m1\u001b[0m\n\u001b[0;31m    print(f'% คือการหารเอาเศษ เช่น {7%3}\\\u001b[0m\n\u001b[0m                                          ^\u001b[0m\n\u001b[0;31mSyntaxError\u001b[0m\u001b[0;31m:\u001b[0m EOL while scanning string literal\n"
          ]
        }
      ]
    },
    {
      "cell_type": "markdown",
      "metadata": {
        "id": "m5MudCkzXABD"
      },
      "source": [
        "#DATA STRUCTURE(โครงสร้างข้อมูล)"
      ]
    },
    {
      "cell_type": "code",
      "metadata": {
        "id": "Qiq0YmHiWWqy"
      },
      "source": [
        "[111,'c','งง',aaa]     # ข้อมูล list out put"
      ],
      "execution_count": null,
      "outputs": []
    },
    {
      "cell_type": "markdown",
      "metadata": {
        "id": "kr53VHeBXKRo"
      },
      "source": [
        "##list คือ การเอาข้อมูลหลายๆตัวมาเรียงต่อกัน\r\n",
        "###list สามารถสร้างได้2แบบ ดังนี้"
      ]
    },
    {
      "cell_type": "markdown",
      "metadata": {
        "id": "MMp3CO9dXqeI"
      },
      "source": [
        "### แบบที่1 > square brackets"
      ]
    },
    {
      "cell_type": "code",
      "metadata": {
        "colab": {
          "base_uri": "https://localhost:8080/"
        },
        "id": "JnWuUPgOXixe",
        "outputId": "da1e744c-fd8e-4036-9b7f-00db0b83f03f"
      },
      "source": [
        "list_a = []  #listว่าง\r\n",
        "print(list_a)"
      ],
      "execution_count": 23,
      "outputs": [
        {
          "output_type": "stream",
          "text": [
            "[]\n"
          ],
          "name": "stdout"
        }
      ]
    },
    {
      "cell_type": "code",
      "metadata": {
        "colab": {
          "base_uri": "https://localhost:8080/"
        },
        "id": "BI7tWQQmX66m",
        "outputId": "fffa24ca-74f0-4613-c485-3edea77ca2d5"
      },
      "source": [
        "list_b = [111,'c','งง',aaa]   # แสดงผลตัวแปร \r\n",
        "print(list_b)"
      ],
      "execution_count": 24,
      "outputs": [
        {
          "output_type": "stream",
          "text": [
            "[111, 'c', 'งง', 1092]\n"
          ],
          "name": "stdout"
        }
      ]
    },
    {
      "cell_type": "markdown",
      "metadata": {
        "id": "vgzbvVv_YGCS"
      },
      "source": [
        "####ลำดับที่อยู่ใน list มีความสำคัญ (ลำดับใน list เริ่มจาก 0,1,2,...)"
      ]
    },
    {
      "cell_type": "code",
      "metadata": {
        "colab": {
          "base_uri": "https://localhost:8080/",
          "height": 35
        },
        "id": "2W76rXTQYYXP",
        "outputId": "e0eb4dfa-d5db-4f0a-907a-274edeaaf9c6"
      },
      "source": [
        "list_b[2]   # แสดงผล ตัวที่3ใน list_b"
      ],
      "execution_count": 25,
      "outputs": [
        {
          "output_type": "execute_result",
          "data": {
            "application/vnd.google.colaboratory.intrinsic+json": {
              "type": "string"
            },
            "text/plain": [
              "'งง'"
            ]
          },
          "metadata": {
            "tags": []
          },
          "execution_count": 25
        }
      ]
    },
    {
      "cell_type": "markdown",
      "metadata": {
        "id": "rEWMn3buYUMi"
      },
      "source": [
        "###แบบที่2"
      ]
    },
    {
      "cell_type": "code",
      "metadata": {
        "colab": {
          "base_uri": "https://localhost:8080/"
        },
        "id": "8LourXWtYFSf",
        "outputId": "edd95269-919a-41bd-f07a-5839de2c702d"
      },
      "source": [
        "list_c = list()   #list ว่าง\r\n",
        "print(list_c)"
      ],
      "execution_count": 26,
      "outputs": [
        {
          "output_type": "stream",
          "text": [
            "[]\n"
          ],
          "name": "stdout"
        }
      ]
    },
    {
      "cell_type": "markdown",
      "metadata": {
        "id": "-ZfuTo8DYlzG"
      },
      "source": [
        "###append() เพิ่มสมาชิกใน list"
      ]
    },
    {
      "cell_type": "code",
      "metadata": {
        "colab": {
          "base_uri": "https://localhost:8080/"
        },
        "id": "rWfurFFkYkcg",
        "outputId": "11b35951-8b93-4b0c-909c-2511bd81fdd2"
      },
      "source": [
        "list_b.append('u')   # เพิ่ม u ใน list_b\r\n",
        "print(list_b)"
      ],
      "execution_count": 27,
      "outputs": [
        {
          "output_type": "stream",
          "text": [
            "[111, 'c', 'งง', 1092, 'u']\n"
          ],
          "name": "stdout"
        }
      ]
    },
    {
      "cell_type": "markdown",
      "metadata": {
        "id": "-jD-QAJFZV09"
      },
      "source": [
        "ตัวที่อยู่ในวงเล็บหลังจากตัวแปร list เรียกว่า index ใช้สำหรับชี้ข้อมูลใน list\r\n",
        "\r\n",
        "(ชี้จากข้างหน้า,ชี้จากข้างหลัง)\r\n",
        "\r\n",
        "0 คือสมาชิกตัวแรก , -1 คือสมาชิกตัวสุดท้าย"
      ]
    },
    {
      "cell_type": "code",
      "metadata": {
        "colab": {
          "base_uri": "https://localhost:8080/",
          "height": 35
        },
        "id": "gdzzCsJ4Y1BK",
        "outputId": "abb44b99-7514-4e2b-a16a-b618af62e53c"
      },
      "source": [
        "list_b[-1]   # แสดงผลตัวที่1นับจากสุดท้ายใน list_b "
      ],
      "execution_count": 28,
      "outputs": [
        {
          "output_type": "execute_result",
          "data": {
            "application/vnd.google.colaboratory.intrinsic+json": {
              "type": "string"
            },
            "text/plain": [
              "'u'"
            ]
          },
          "metadata": {
            "tags": []
          },
          "execution_count": 28
        }
      ]
    },
    {
      "cell_type": "markdown",
      "metadata": {
        "id": "LHO8MIatZl9n"
      },
      "source": [
        "###String > list of characters\r\n",
        "\r\n"
      ]
    },
    {
      "cell_type": "code",
      "metadata": {
        "colab": {
          "base_uri": "https://localhost:8080/"
        },
        "id": "K4pOsTY9Y40M",
        "outputId": "d5244ae2-23c1-454e-e35a-c146a49cd22d"
      },
      "source": [
        "t = 'python is easy'       # แสดงตัวหนังสือ\r\n",
        "print(t)"
      ],
      "execution_count": 29,
      "outputs": [
        {
          "output_type": "stream",
          "text": [
            "python is easy\n"
          ],
          "name": "stdout"
        }
      ]
    },
    {
      "cell_type": "code",
      "metadata": {
        "colab": {
          "base_uri": "https://localhost:8080/",
          "height": 35
        },
        "id": "xfactSNdZ8Ck",
        "outputId": "0972e1cc-e8b8-404b-a18a-8e79ad1d4a77"
      },
      "source": [
        "t[1]                         #ตัวหนังสือตัวที่2 (โดยนับจากข้างหน้า 0,1,...)"
      ],
      "execution_count": 30,
      "outputs": [
        {
          "output_type": "execute_result",
          "data": {
            "application/vnd.google.colaboratory.intrinsic+json": {
              "type": "string"
            },
            "text/plain": [
              "'y'"
            ]
          },
          "metadata": {
            "tags": []
          },
          "execution_count": 30
        }
      ]
    },
    {
      "cell_type": "code",
      "metadata": {
        "colab": {
          "base_uri": "https://localhost:8080/",
          "height": 35
        },
        "id": "MuCxGj4oZ-Xp",
        "outputId": "7b9e7cd7-cf45-4bd5-a127-515f543fdc47"
      },
      "source": [
        "t[-4]                        #ตัวหนังสือตัวที่4 (โดยนับจากข้างหลัง)"
      ],
      "execution_count": 31,
      "outputs": [
        {
          "output_type": "execute_result",
          "data": {
            "application/vnd.google.colaboratory.intrinsic+json": {
              "type": "string"
            },
            "text/plain": [
              "'e'"
            ]
          },
          "metadata": {
            "tags": []
          },
          "execution_count": 31
        }
      ]
    },
    {
      "cell_type": "code",
      "metadata": {
        "colab": {
          "base_uri": "https://localhost:8080/",
          "height": 35
        },
        "id": "b9iJoveTaCRH",
        "outputId": "8e9b819b-c372-4674-8504-2bdd7c50baa9"
      },
      "source": [
        "t[4]                         #ตัวหนังสือตัวที่4 (โดยนับจากข้างหน้า 0,1,2,3,4,...)"
      ],
      "execution_count": 32,
      "outputs": [
        {
          "output_type": "execute_result",
          "data": {
            "application/vnd.google.colaboratory.intrinsic+json": {
              "type": "string"
            },
            "text/plain": [
              "'o'"
            ]
          },
          "metadata": {
            "tags": []
          },
          "execution_count": 32
        }
      ]
    },
    {
      "cell_type": "code",
      "metadata": {
        "colab": {
          "base_uri": "https://localhost:8080/",
          "height": 35
        },
        "id": "vJkoGjSPaO3f",
        "outputId": "68dfcd6c-54dc-43e7-dc97-bea705e4e91a"
      },
      "source": [
        "t[6]                         #ตัวหนังสือตัวที่6 (โดยนับจากข้างหน้า 0,1,2,3,4,5,6,...)"
      ],
      "execution_count": 33,
      "outputs": [
        {
          "output_type": "execute_result",
          "data": {
            "application/vnd.google.colaboratory.intrinsic+json": {
              "type": "string"
            },
            "text/plain": [
              "' '"
            ]
          },
          "metadata": {
            "tags": []
          },
          "execution_count": 33
        }
      ]
    },
    {
      "cell_type": "markdown",
      "metadata": {
        "id": "TFO2_wJniy5a"
      },
      "source": [
        "จบ5/1/64"
      ]
    },
    {
      "cell_type": "code",
      "metadata": {
        "id": "vZkVZ0rniwvH",
        "colab": {
          "base_uri": "https://localhost:8080/"
        },
        "outputId": "5a320c1f-4e86-432a-9dc0-a8a9661ef664"
      },
      "source": [
        "len(t)"
      ],
      "execution_count": 34,
      "outputs": [
        {
          "output_type": "execute_result",
          "data": {
            "text/plain": [
              "14"
            ]
          },
          "metadata": {
            "tags": []
          },
          "execution_count": 34
        }
      ]
    },
    {
      "cell_type": "code",
      "metadata": {
        "id": "PcZLFthSk_Od",
        "colab": {
          "base_uri": "https://localhost:8080/"
        },
        "outputId": "88783af2-b58e-486b-c8f9-9bf4c5aae987"
      },
      "source": [
        "list_b"
      ],
      "execution_count": 35,
      "outputs": [
        {
          "output_type": "execute_result",
          "data": {
            "text/plain": [
              "[111, 'c', 'งง', 1092, 'u']"
            ]
          },
          "metadata": {
            "tags": []
          },
          "execution_count": 35
        }
      ]
    },
    {
      "cell_type": "code",
      "metadata": {
        "id": "5sU-fUuYi5BV",
        "colab": {
          "base_uri": "https://localhost:8080/"
        },
        "outputId": "2efe0203-43f3-42e3-a9fa-53f5e1d5990e"
      },
      "source": [
        "len(list_b)  # len คือคำสั่งตรวจสอบความยาวของ list (จำนวนสมาชิก)"
      ],
      "execution_count": 36,
      "outputs": [
        {
          "output_type": "execute_result",
          "data": {
            "text/plain": [
              "5"
            ]
          },
          "metadata": {
            "tags": []
          },
          "execution_count": 36
        }
      ]
    },
    {
      "cell_type": "code",
      "metadata": {
        "id": "jfpnPp8-lN5y",
        "colab": {
          "base_uri": "https://localhost:8080/"
        },
        "outputId": "964dfd39-4c63-42fb-c788-bfc89551e86e"
      },
      "source": [
        "list_b.append(t)\r\n",
        "print(list_b)"
      ],
      "execution_count": 37,
      "outputs": [
        {
          "output_type": "stream",
          "text": [
            "[111, 'c', 'งง', 1092, 'u', 'python is easy']\n"
          ],
          "name": "stdout"
        }
      ]
    },
    {
      "cell_type": "code",
      "metadata": {
        "id": "cPiICiqajBjV",
        "colab": {
          "base_uri": "https://localhost:8080/",
          "height": 35
        },
        "outputId": "344d26ed-d587-46be-a97b-0b34f7dd5b86"
      },
      "source": [
        "t[-4]"
      ],
      "execution_count": 38,
      "outputs": [
        {
          "output_type": "execute_result",
          "data": {
            "application/vnd.google.colaboratory.intrinsic+json": {
              "type": "string"
            },
            "text/plain": [
              "'e'"
            ]
          },
          "metadata": {
            "tags": []
          },
          "execution_count": 38
        }
      ]
    },
    {
      "cell_type": "markdown",
      "metadata": {
        "id": "nw1WS6__jgZP"
      },
      "source": [
        "###ตัวที่อยู่ข้างใน [ ] เราเรียกว่า index (ตัวชี้)"
      ]
    },
    {
      "cell_type": "markdown",
      "metadata": {
        "id": "DkOlbCxil0Ml"
      },
      "source": [
        "List slicing สามารถทำได้โดยใช้ colon :      *ตัดlistออกมา\r\n",
        "[a:c] -> [a,c) เอาa b ไม่เอาc"
      ]
    },
    {
      "cell_type": "code",
      "metadata": {
        "id": "6A_9UmCejlSh",
        "colab": {
          "base_uri": "https://localhost:8080/"
        },
        "outputId": "80411fc9-2842-48d5-94bb-94a121e25e3a"
      },
      "source": [
        "print(t)                 #แสดงผลt   \r\n",
        "print(t[7:9])          #ตัด7 8\r\n",
        "print(len(t[7:9]))  #t มีสมาชิกเท่าไร"
      ],
      "execution_count": 39,
      "outputs": [
        {
          "output_type": "stream",
          "text": [
            "python is easy\n",
            "is\n",
            "2\n"
          ],
          "name": "stdout"
        }
      ]
    },
    {
      "cell_type": "code",
      "metadata": {
        "id": "_YbIp7LlmIJ-",
        "colab": {
          "base_uri": "https://localhost:8080/",
          "height": 35
        },
        "outputId": "341c04f4-b4e6-4b8d-a4b4-414d14888e77"
      },
      "source": [
        "t[0:14:2]   #นอกจากบอกเริ่มตรงไหนจบตรงไหนแล้ว โคลอนตัวสุดท้ายจะกระโดดหนึ่งตัวไปเอาตัวต่อไป"
      ],
      "execution_count": 40,
      "outputs": [
        {
          "output_type": "execute_result",
          "data": {
            "application/vnd.google.colaboratory.intrinsic+json": {
              "type": "string"
            },
            "text/plain": [
              "'pto ses'"
            ]
          },
          "metadata": {
            "tags": []
          },
          "execution_count": 40
        }
      ]
    },
    {
      "cell_type": "code",
      "metadata": {
        "id": "b_6tDCOwnw3T",
        "colab": {
          "base_uri": "https://localhost:8080/"
        },
        "outputId": "b9c309d7-65e1-4803-b7c3-bcc277f4bbe0"
      },
      "source": [
        "z=[1,2,3,4,5,6,7,8,9,10]      #0,1,2,... เอา1ถึงตัว10แล้วโดดที่ละ2\r\n",
        "print(z[1:10:2])                  "
      ],
      "execution_count": 41,
      "outputs": [
        {
          "output_type": "stream",
          "text": [
            "[2, 4, 6, 8, 10]\n"
          ],
          "name": "stdout"
        }
      ]
    },
    {
      "cell_type": "markdown",
      "metadata": {
        "id": "H1ylU8CqooxH"
      },
      "source": [
        "quiz ใหใช้ list \r\n"
      ]
    },
    {
      "cell_type": "markdown",
      "metadata": {
        "id": "lnUZsBUZpW5u"
      },
      "source": [
        "ถ้าเว้นว่างหน้า : หมายความว่า เริ่มตั้งแต่ตัวแรก (0)\r\n",
        "\r\n",
        "ถ้าเว้นว่างหลัง : หมายความว่า ไปจนถึงตัวสุดท้าย  (len(list))"
      ]
    },
    {
      "cell_type": "code",
      "metadata": {
        "id": "joRELnwwoUTy",
        "colab": {
          "base_uri": "https://localhost:8080/"
        },
        "outputId": "0cea685f-d95a-4ab1-e099-a5f0fe2c78cb"
      },
      "source": [
        "print(t)\r\n",
        "print(t[:6])     #ตัวแรกถึงตัวที่6   เริ่มนับที่0\r\n",
        "print(t[10:])   #ตัวที่10ถึงตัวสุดท้าย\r\n",
        "print(t[-4:])    #เริ่มนับจากตัวสุดท้ายมา4ตัว ถึงตัวสุดท้าย    เริ่มนับ-1\r\n",
        "print(t[:])       #เอาทั้งหมด"
      ],
      "execution_count": 42,
      "outputs": [
        {
          "output_type": "stream",
          "text": [
            "python is easy\n",
            "python\n",
            "easy\n",
            "easy\n",
            "python is easy\n"
          ],
          "name": "stdout"
        }
      ]
    },
    {
      "cell_type": "code",
      "metadata": {
        "id": "7ygYjG9fpqQZ",
        "colab": {
          "base_uri": "https://localhost:8080/"
        },
        "outputId": "b798e423-9c70-4642-b1ce-6fdf06f87ac3"
      },
      "source": [
        "print(z[::2])   #เริ่มตัวแรกไปตัวสุดท้ายแล้วข้ามที่ละ2"
      ],
      "execution_count": 43,
      "outputs": [
        {
          "output_type": "stream",
          "text": [
            "[1, 3, 5, 7, 9]\n"
          ],
          "name": "stdout"
        }
      ]
    },
    {
      "cell_type": "markdown",
      "metadata": {
        "id": "M3xTPpPjp8fi"
      },
      "source": [
        "###เราสามารถเอา list มาต่อกันได้ด้วย +"
      ]
    },
    {
      "cell_type": "code",
      "metadata": {
        "id": "q7AEPnUpr72k",
        "colab": {
          "base_uri": "https://localhost:8080/",
          "height": 35
        },
        "outputId": "b96f808e-88de-47e6-e845-ebeed58a23b1"
      },
      "source": [
        "t+'??'"
      ],
      "execution_count": 44,
      "outputs": [
        {
          "output_type": "execute_result",
          "data": {
            "application/vnd.google.colaboratory.intrinsic+json": {
              "type": "string"
            },
            "text/plain": [
              "'python is easy??'"
            ]
          },
          "metadata": {
            "tags": []
          },
          "execution_count": 44
        }
      ]
    },
    {
      "cell_type": "code",
      "metadata": {
        "id": "NYp0GUiUsCC4",
        "colab": {
          "base_uri": "https://localhost:8080/",
          "height": 163
        },
        "outputId": "b5c0b7e6-5dd0-4677-83a7-b0bb0c996083"
      },
      "source": [
        "t + list_b    ## ไม่สามารถเอา list ปกติมาต่อกับ string ได้"
      ],
      "execution_count": 45,
      "outputs": [
        {
          "output_type": "error",
          "ename": "TypeError",
          "evalue": "ignored",
          "traceback": [
            "\u001b[0;31m---------------------------------------------------------------------------\u001b[0m",
            "\u001b[0;31mTypeError\u001b[0m                                 Traceback (most recent call last)",
            "\u001b[0;32m<ipython-input-45-6e45657c8fa9>\u001b[0m in \u001b[0;36m<module>\u001b[0;34m()\u001b[0m\n\u001b[0;32m----> 1\u001b[0;31m \u001b[0mt\u001b[0m \u001b[0;34m+\u001b[0m \u001b[0mlist_b\u001b[0m    \u001b[0;31m## ไม่สามารถเอา list ปกติมาต่อกับ string ได้\u001b[0m\u001b[0;34m\u001b[0m\u001b[0;34m\u001b[0m\u001b[0m\n\u001b[0m",
            "\u001b[0;31mTypeError\u001b[0m: must be str, not list"
          ]
        }
      ]
    },
    {
      "cell_type": "code",
      "metadata": {
        "id": "cXPblbQPsIIe",
        "colab": {
          "base_uri": "https://localhost:8080/"
        },
        "outputId": "4a0b0660-428a-4de6-902b-d9ac59c026bb"
      },
      "source": [
        "print(list_a)\r\n",
        "print(list_b)\r\n",
        "print(list_b + list_a)    #ไม่เหมือนกับappend # + คือเอาสมาชิกมารวมกัน"
      ],
      "execution_count": 46,
      "outputs": [
        {
          "output_type": "stream",
          "text": [
            "[]\n",
            "[111, 'c', 'งง', 1092, 'u', 'python is easy']\n",
            "[111, 'c', 'งง', 1092, 'u', 'python is easy']\n"
          ],
          "name": "stdout"
        }
      ]
    },
    {
      "cell_type": "code",
      "metadata": {
        "id": "JEi5ejl_sQeb",
        "colab": {
          "base_uri": "https://localhost:8080/"
        },
        "outputId": "05e15f32-e024-4c2e-ed19-97484abbcb23"
      },
      "source": [
        "list_b.append(list_a)  # append จะเอาสมาชิกมาต่อเลย\r\n",
        "print(list_b)"
      ],
      "execution_count": 47,
      "outputs": [
        {
          "output_type": "stream",
          "text": [
            "[111, 'c', 'งง', 1092, 'u', 'python is easy', []]\n"
          ],
          "name": "stdout"
        }
      ]
    },
    {
      "cell_type": "markdown",
      "metadata": {
        "id": "HrvOJmYnt2rL"
      },
      "source": [
        "###การแบ่ง string ตามสัญลักษณ์ที่กำหนด -> split string   #แบ่ง"
      ]
    },
    {
      "cell_type": "code",
      "metadata": {
        "id": "st7zq3_0uA0U",
        "colab": {
          "base_uri": "https://localhost:8080/",
          "height": 35
        },
        "outputId": "92a5d9b1-aeca-4036-a610-e3ad1dd57480"
      },
      "source": [
        "t"
      ],
      "execution_count": 48,
      "outputs": [
        {
          "output_type": "execute_result",
          "data": {
            "application/vnd.google.colaboratory.intrinsic+json": {
              "type": "string"
            },
            "text/plain": [
              "'python is easy'"
            ]
          },
          "metadata": {
            "tags": []
          },
          "execution_count": 48
        }
      ]
    },
    {
      "cell_type": "code",
      "metadata": {
        "id": "IvwUo1HUtpjH",
        "colab": {
          "base_uri": "https://localhost:8080/"
        },
        "outputId": "e426a02a-3512-4cb0-a35b-e877a59929cf"
      },
      "source": [
        "t.split(' ')      #แบ่งใน' '"
      ],
      "execution_count": 49,
      "outputs": [
        {
          "output_type": "execute_result",
          "data": {
            "text/plain": [
              "['python', 'is', 'easy']"
            ]
          },
          "metadata": {
            "tags": []
          },
          "execution_count": 49
        }
      ]
    },
    {
      "cell_type": "code",
      "metadata": {
        "id": "r25z-8OVuC-N"
      },
      "source": [
        "time = '12:30:15'   #เอา:ออก"
      ],
      "execution_count": 79,
      "outputs": []
    },
    {
      "cell_type": "code",
      "metadata": {
        "id": "PnL0eCjSu0TA",
        "colab": {
          "base_uri": "https://localhost:8080/"
        },
        "outputId": "4bc37839-6a2a-42a0-d732-c7a59ece80c1"
      },
      "source": [
        "time.split(':')"
      ],
      "execution_count": 51,
      "outputs": [
        {
          "output_type": "execute_result",
          "data": {
            "text/plain": [
              "['12', '30', '15']"
            ]
          },
          "metadata": {
            "tags": []
          },
          "execution_count": 51
        }
      ]
    },
    {
      "cell_type": "code",
      "metadata": {
        "id": "Fi23DE9_vSxa",
        "colab": {
          "base_uri": "https://localhost:8080/"
        },
        "outputId": "691dd129-c08e-4716-fb4a-84b1f44f17d9"
      },
      "source": [
        "t_sp = t.split(' ')\r\n",
        "print(t_sp)\r\n",
        "print(':'.join(t_sp))      ## วิธีรวมกลับ"
      ],
      "execution_count": 52,
      "outputs": [
        {
          "output_type": "stream",
          "text": [
            "['python', 'is', 'easy']\n",
            "python:is:easy\n"
          ],
          "name": "stdout"
        }
      ]
    },
    {
      "cell_type": "markdown",
      "metadata": {
        "id": "B2qP03sKvvUk"
      },
      "source": [
        "###HW คำนวณเวลาเป็นวินาทีของเวลาต่อไปนี้โดยใช้คำสั่ง split() ช่วย (print ออกมาให้สวยงาม)\r\n",
        "\r\n",
        "12:30:15\r\n",
        "\r\n",
        "13:41:07\r\n",
        "\r\n",
        "12:53:15\r\n",
        "\r\n",
        "00:59:25\r\n",
        "\r\n",
        "11:11:11\r\n",
        "\r\n",
        "16:06:09\r\n",
        "\r\n",
        "21:12:30\r\n",
        "\r\n",
        "10:06:15\r\n",
        "\r\n",
        "ตัวอย่าง > 00:01:10 = 70 วินาที\r\n",
        "\r\n",
        "ตัวอย่าง > 01:00:01 = 3601 วินาที"
      ]
    },
    {
      "cell_type": "code",
      "metadata": {
        "id": "t8_s1ec1vq9P",
        "outputId": "20f0a743-a923-406c-a7a1-a19f2696ee0c",
        "colab": {
          "base_uri": "https://localhost:8080/"
        }
      },
      "source": [
        "q1 = '12:30:15'\r\n",
        "q1.split(':')\r\n",
        "list_q1= [12,30,15]\r\n",
        "H1  = list_q1[0]*3600\r\n",
        "min1 = list_q1[1]*60\r\n",
        "sec1  = list_q1[2]\r\n",
        "ans1 = h1+min1+sec1 \r\n",
        "print(ans1,'วินาที')"
      ],
      "execution_count": 90,
      "outputs": [
        {
          "output_type": "stream",
          "text": [
            "45015 วินาที\n"
          ],
          "name": "stdout"
        }
      ]
    },
    {
      "cell_type": "code",
      "metadata": {
        "id": "FCJYCGsMf4dI",
        "outputId": "9143c150-3ac1-440a-883a-03725ce570a7",
        "colab": {
          "base_uri": "https://localhost:8080/"
        }
      },
      "source": [
        "q2 = '13:41:07'\r\n",
        "q2.split(':')\r\n",
        "list_q2 = [13,41,7]\r\n",
        "h2  = list_q2[0]*3600\r\n",
        "min2 = list_q2[1]*60\r\n",
        "sec2  = list_q2[2]\r\n",
        "ans2 = h2+min2+sec2 \r\n",
        "print(ans2,'วินาที')"
      ],
      "execution_count": 91,
      "outputs": [
        {
          "output_type": "stream",
          "text": [
            "49267 วินาที\n"
          ],
          "name": "stdout"
        }
      ]
    },
    {
      "cell_type": "code",
      "metadata": {
        "id": "Oo4spjXchYqg",
        "outputId": "24df6023-5ced-40fa-9bc2-11bea85d488c",
        "colab": {
          "base_uri": "https://localhost:8080/"
        }
      },
      "source": [
        "q3 = '12:53:15'\r\n",
        "q3.split(':')\r\n",
        "list_q3 = [12,53,15]\r\n",
        "h3  = list_q3[0]*3600\r\n",
        "min3 = list_q3[1]*60\r\n",
        "sec3  = list_q3[2]\r\n",
        "ans3 = h3+min3+sec3 \r\n",
        "print(ans3,'วินาที')"
      ],
      "execution_count": 92,
      "outputs": [
        {
          "output_type": "stream",
          "text": [
            "46395 วินาที\n"
          ],
          "name": "stdout"
        }
      ]
    },
    {
      "cell_type": "code",
      "metadata": {
        "id": "CVSuN1f4iaTW",
        "outputId": "b68c4dcc-e307-4a39-b5b7-8e293b890d7a",
        "colab": {
          "base_uri": "https://localhost:8080/"
        }
      },
      "source": [
        "q4 = '00:59:25'\r\n",
        "q4.split(':')\r\n",
        "list_q4 = [00,59,25]\r\n",
        "h4  = list_q4[0]*3600\r\n",
        "min4 = list_q4[1]*60\r\n",
        "sec4  = list_q4[2]\r\n",
        "ans4 = h4+min4+sec4 \r\n",
        "print(ans4,'วินาที')"
      ],
      "execution_count": 93,
      "outputs": [
        {
          "output_type": "stream",
          "text": [
            "3565 วินาที\n"
          ],
          "name": "stdout"
        }
      ]
    },
    {
      "cell_type": "code",
      "metadata": {
        "id": "iRKV_Nrnjb61",
        "outputId": "b380b447-0ced-463d-b571-728d89a058a6",
        "colab": {
          "base_uri": "https://localhost:8080/"
        }
      },
      "source": [
        "q5 = '11:11:11'\r\n",
        "q5.split(':')\r\n",
        "list_q5 = [11,11,11]\r\n",
        "h5  = list_q5[0]*3600\r\n",
        "min5 = list_q5[1]*60\r\n",
        "sec5  = list_q5[2]\r\n",
        "ans5 = h5+min5+sec5 \r\n",
        "print(ans5,'วินาที')"
      ],
      "execution_count": 94,
      "outputs": [
        {
          "output_type": "stream",
          "text": [
            "40271 วินาที\n"
          ],
          "name": "stdout"
        }
      ]
    },
    {
      "cell_type": "code",
      "metadata": {
        "id": "jFgLtjADjwHD",
        "outputId": "b8173075-6db1-423f-8d69-4b76d623aa51",
        "colab": {
          "base_uri": "https://localhost:8080/"
        }
      },
      "source": [
        "q6 = '16:06:09'\r\n",
        "q6.split(':')\r\n",
        "list_q6 = [16,6,9]\r\n",
        "h6  = list_q6[0]*3600\r\n",
        "min6 = list_q6[1]*60\r\n",
        "sec6  = list_q6[2]\r\n",
        "ans6 = h6+min6+sec6 \r\n",
        "print(ans6,'วินาที')"
      ],
      "execution_count": 95,
      "outputs": [
        {
          "output_type": "stream",
          "text": [
            "57969 วินาที\n"
          ],
          "name": "stdout"
        }
      ]
    },
    {
      "cell_type": "code",
      "metadata": {
        "id": "IhYkLvRmkIBs",
        "outputId": "4627c0b4-11bd-41e4-a62f-3c85b1b18765",
        "colab": {
          "base_uri": "https://localhost:8080/"
        }
      },
      "source": [
        "q7 = '21:12:30'\r\n",
        "q7.split(':')\r\n",
        "list_q7 = [21,12,30]\r\n",
        "h7  = list_q7[0]*3600\r\n",
        "min7 = list_q7[1]*60\r\n",
        "sec7  = list_q7[2]\r\n",
        "ans7 = h7+min7+sec7 \r\n",
        "print(ans7,'วินาที')"
      ],
      "execution_count": 96,
      "outputs": [
        {
          "output_type": "stream",
          "text": [
            "76350 วินาที\n"
          ],
          "name": "stdout"
        }
      ]
    },
    {
      "cell_type": "code",
      "metadata": {
        "id": "bXvp8is3lHUa",
        "outputId": "590c0d42-2c6d-4539-d571-7b149122f471",
        "colab": {
          "base_uri": "https://localhost:8080/"
        }
      },
      "source": [
        "q8 = '10:06:15'\r\n",
        "q8.split(':')\r\n",
        "list_q8 = [10,6,15]\r\n",
        "h8  = list_q8[0]*3600\r\n",
        "min8 = list_q8[1]*60\r\n",
        "sec8  = list_q8[2]\r\n",
        "ans8 = h8+m8+s8 \r\n",
        "print(ans8,'วินาที')"
      ],
      "execution_count": 97,
      "outputs": [
        {
          "output_type": "stream",
          "text": [
            "36375 วินาที\n"
          ],
          "name": "stdout"
        }
      ]
    },
    {
      "cell_type": "code",
      "metadata": {
        "id": "3Geqy3pkldW2"
      },
      "source": [
        ""
      ],
      "execution_count": null,
      "outputs": []
    }
  ]
}