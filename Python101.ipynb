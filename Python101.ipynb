{
  "nbformat": 4,
  "nbformat_minor": 0,
  "metadata": {
    "colab": {
      "name": "Python101.ipynb",
      "provenance": [],
      "authorship_tag": "ABX9TyPh2sRZ2rcAPSMNppaYXgPG",
      "include_colab_link": true
    },
    "kernelspec": {
      "name": "python3",
      "display_name": "Python 3"
    }
  },
  "cells": [
    {
      "cell_type": "markdown",
      "metadata": {
        "id": "view-in-github",
        "colab_type": "text"
      },
      "source": [
        "<a href=\"https://colab.research.google.com/github/Wikanes-k/multivariate/blob/main/Python101.ipynb\" target=\"_parent\"><img src=\"https://colab.research.google.com/assets/colab-badge.svg\" alt=\"Open In Colab\"/></a>"
      ]
    },
    {
      "cell_type": "markdown",
      "metadata": {
        "id": "hoM-Ole6L5iG"
      },
      "source": [
        "ตัวแปร variable\r\n",
        "\r\n",
        "หลักการตั้งชื่อตัวแปรเบื้องต้น\r\n",
        "\r\n",
        "\r\n",
        "1.   ตั้งให้สื่อ\r\n",
        "2.   ภาษาอังกฤษ\r\n",
        "3.   ใช้ตัวเลขได้แต่ห้ามขึ้นต้นด้วยตัวเลข\r\n",
        "4.   ห้ามเว้นวรรค\r\n",
        "5.   ตัวเล็กกับตัวใหญ่ไม่เหมือนกัน\r\n",
        "\r\n",
        "มี output 2 mode : ออกหน้าจอ กับ เข้าไปเก็บในตัวแปร \r\n",
        "\r\n",
        "\r\n",
        "\r\n"
      ]
    },
    {
      "cell_type": "code",
      "metadata": {
        "colab": {
          "base_uri": "https://localhost:8080/"
        },
        "id": "eHg8lqkBLvne",
        "outputId": "3864e527-3eab-40d2-e47b-7a23e5a5f16d"
      },
      "source": [
        "3.14159   # hashtag  หรือ  sharp  คือ comment >> อันนี้คือ output "
      ],
      "execution_count": 46,
      "outputs": [
        {
          "output_type": "execute_result",
          "data": {
            "text/plain": [
              "3.14159"
            ]
          },
          "metadata": {
            "tags": []
          },
          "execution_count": 46
        }
      ]
    },
    {
      "cell_type": "code",
      "metadata": {
        "id": "UwyXD-o2MvtP"
      },
      "source": [
        "pi = 3.14159       #out put ที่เข้าไปอยู่ในตัวแปร"
      ],
      "execution_count": 47,
      "outputs": []
    },
    {
      "cell_type": "code",
      "metadata": {
        "colab": {
          "base_uri": "https://localhost:8080/"
        },
        "id": "0CAJDxEWNCgE",
        "outputId": "1462b234-b99a-416c-cb97-9d09b13aecb2"
      },
      "source": [
        "pi                       #run ตัวแปร แล้วจะได้ out put ออกมา"
      ],
      "execution_count": 48,
      "outputs": [
        {
          "output_type": "execute_result",
          "data": {
            "text/plain": [
              "3.14159"
            ]
          },
          "metadata": {
            "tags": []
          },
          "execution_count": 48
        }
      ]
    },
    {
      "cell_type": "code",
      "metadata": {
        "colab": {
          "base_uri": "https://localhost:8080/"
        },
        "id": "sqbe6l12NEou",
        "outputId": "2531cbee-a1a8-47e4-fad2-e140e1d0fc6d"
      },
      "source": [
        "a = 1234567       # out put ที่เข้าไปอยู่ในตัวแปร แล้วก็แสดงผล a ออกมา\r\n",
        "print(a)"
      ],
      "execution_count": 49,
      "outputs": [
        {
          "output_type": "stream",
          "text": [
            "1234567\n"
          ],
          "name": "stdout"
        }
      ]
    },
    {
      "cell_type": "markdown",
      "metadata": {
        "id": "zoG0ULyHNvnu"
      },
      "source": [
        "#ชนิดของตัวแปร 3 ชนิด"
      ]
    },
    {
      "cell_type": "markdown",
      "metadata": {
        "id": "EFe94-P2Oo9k"
      },
      "source": [
        "###1จำนวนเต็ม(integer, int)"
      ]
    },
    {
      "cell_type": "code",
      "metadata": {
        "colab": {
          "base_uri": "https://localhost:8080/"
        },
        "id": "ypi4xEJCOydS",
        "outputId": "f922adb0-93c1-43a5-bbb0-9a331d7ad46f"
      },
      "source": [
        "aaa = 1092       # ให้ aaa เท่ากับจำนวนเต็มแล้วแสดงผลออกมา\r\n",
        "print(aaa)"
      ],
      "execution_count": 50,
      "outputs": [
        {
          "output_type": "stream",
          "text": [
            "1092\n"
          ],
          "name": "stdout"
        }
      ]
    },
    {
      "cell_type": "markdown",
      "metadata": {
        "id": "TeqpvIqBO9bV"
      },
      "source": [
        "###2จำนวนจริง(float)"
      ]
    },
    {
      "cell_type": "code",
      "metadata": {
        "colab": {
          "base_uri": "https://localhost:8080/"
        },
        "id": "DDf3ZPwROzFs",
        "outputId": "f70e1f3d-f875-414c-fab5-9a939d564b69"
      },
      "source": [
        "bbb = 11.      # ให้ bbb เท่ากับจำนวนจริงแล้วแสดงผลออกมา\r\n",
        "print(bbb)"
      ],
      "execution_count": 51,
      "outputs": [
        {
          "output_type": "stream",
          "text": [
            "11.0\n"
          ],
          "name": "stdout"
        }
      ]
    },
    {
      "cell_type": "markdown",
      "metadata": {
        "id": "l-yerTDaPPxi"
      },
      "source": [
        "###3ตัวอักษร-ข้อความ (character และ text,string)"
      ]
    },
    {
      "cell_type": "code",
      "metadata": {
        "colab": {
          "base_uri": "https://localhost:8080/"
        },
        "id": "cZyyNgOAPI3J",
        "outputId": "555f4fda-1211-4ada-cee5-160b606b4635"
      },
      "source": [
        "ccc = '123456' #เราใช้ sring quote ' หรือ double quote \" ล้อมรอบตัวหนังสือเพื่อระบุว่าเป็น character-string\r\n",
        "print(ccc)"
      ],
      "execution_count": 52,
      "outputs": [
        {
          "output_type": "stream",
          "text": [
            "123456\n"
          ],
          "name": "stdout"
        }
      ]
    },
    {
      "cell_type": "code",
      "metadata": {
        "colab": {
          "base_uri": "https://localhost:8080/"
        },
        "id": "YGPEud9KP55_",
        "outputId": "901e608a-4836-4fd6-9a48-5dfa77d9a62d"
      },
      "source": [
        "aaa+bbb  #float + int = float"
      ],
      "execution_count": 53,
      "outputs": [
        {
          "output_type": "execute_result",
          "data": {
            "text/plain": [
              "1103.0"
            ]
          },
          "metadata": {
            "tags": []
          },
          "execution_count": 53
        }
      ]
    },
    {
      "cell_type": "code",
      "metadata": {
        "colab": {
          "base_uri": "https://localhost:8080/"
        },
        "id": "_U-Zdaa7QEhi",
        "outputId": "d0974633-009a-47af-b4f7-dfaed48691da"
      },
      "source": [
        "ddd = 'วิฆเนศ'   #สามาถใช้ภาษาไทยได้\r\n",
        "print(ddd)"
      ],
      "execution_count": 54,
      "outputs": [
        {
          "output_type": "stream",
          "text": [
            "วิฆเนศ\n"
          ],
          "name": "stdout"
        }
      ]
    },
    {
      "cell_type": "markdown",
      "metadata": {
        "id": "B2lpSVmjQ4aq"
      },
      "source": [
        "##การเปลี่ยนชนิดของตัวแปร variable casting"
      ]
    },
    {
      "cell_type": "code",
      "metadata": {
        "colab": {
          "base_uri": "https://localhost:8080/"
        },
        "id": "GW4dmWrSQyi_",
        "outputId": "0b4f8dee-ca5d-4a2a-ff23-c584588f5d3f"
      },
      "source": [
        "aaa + int(ccc)  #ใส่ int หน้า ccc เพื่อแปลงเป็นจำนวนเต็ม\r\n"
      ],
      "execution_count": 55,
      "outputs": [
        {
          "output_type": "execute_result",
          "data": {
            "text/plain": [
              "124548"
            ]
          },
          "metadata": {
            "tags": []
          },
          "execution_count": 55
        }
      ]
    },
    {
      "cell_type": "code",
      "metadata": {
        "colab": {
          "base_uri": "https://localhost:8080/"
        },
        "id": "nydm8G09RnVF",
        "outputId": "f416fec8-3429-4b1d-fa9d-92960a836dab"
      },
      "source": [
        "aaa + float(ccc)   #ใส่ float หน้า ccc เพื่อแปลงเป็นจำนวนจริง   /    int + float = float\r\n"
      ],
      "execution_count": 56,
      "outputs": [
        {
          "output_type": "execute_result",
          "data": {
            "text/plain": [
              "124548.0"
            ]
          },
          "metadata": {
            "tags": []
          },
          "execution_count": 56
        }
      ]
    },
    {
      "cell_type": "code",
      "metadata": {
        "colab": {
          "base_uri": "https://localhost:8080/",
          "height": 35
        },
        "id": "mtZhxQFaRsbj",
        "outputId": "dfc61f52-9533-4e63-d5eb-8599afcb60d6"
      },
      "source": [
        "str(aaa)   # ใส่ str หน้า aaa เพื่อแปลงเป็นตัวอักษร"
      ],
      "execution_count": 57,
      "outputs": [
        {
          "output_type": "execute_result",
          "data": {
            "application/vnd.google.colaboratory.intrinsic+json": {
              "type": "string"
            },
            "text/plain": [
              "'1092'"
            ]
          },
          "metadata": {
            "tags": []
          },
          "execution_count": 57
        }
      ]
    },
    {
      "cell_type": "markdown",
      "metadata": {
        "id": "9n6CVH_ySZM0"
      },
      "source": [
        "##การดำเนินการ Operation (Operator +,-,*,/,%)"
      ]
    },
    {
      "cell_type": "code",
      "metadata": {
        "colab": {
          "base_uri": "https://localhost:8080/",
          "height": 163
        },
        "id": "bWYXlR4dR0Ua",
        "outputId": "72b1e42e-0123-4ab5-c670-b318fdb72158"
      },
      "source": [
        "a+b   # Error เพราะ ไม่มีตัวแปร b"
      ],
      "execution_count": 58,
      "outputs": [
        {
          "output_type": "error",
          "ename": "NameError",
          "evalue": "ignored",
          "traceback": [
            "\u001b[0;31m---------------------------------------------------------------------------\u001b[0m",
            "\u001b[0;31mNameError\u001b[0m                                 Traceback (most recent call last)",
            "\u001b[0;32m<ipython-input-58-71be8ac2a879>\u001b[0m in \u001b[0;36m<module>\u001b[0;34m()\u001b[0m\n\u001b[0;32m----> 1\u001b[0;31m \u001b[0ma\u001b[0m\u001b[0;34m+\u001b[0m\u001b[0mb\u001b[0m   \u001b[0;31m# Error เพราะ ไม่มีตัวแปร b\u001b[0m\u001b[0;34m\u001b[0m\u001b[0;34m\u001b[0m\u001b[0m\n\u001b[0m",
            "\u001b[0;31mNameError\u001b[0m: name 'b' is not defined"
          ]
        }
      ]
    },
    {
      "cell_type": "code",
      "metadata": {
        "id": "Ktv1iGecS1Wx"
      },
      "source": [
        "aaa+bbb              #บวกเลข   /   int + float  = float"
      ],
      "execution_count": null,
      "outputs": []
    },
    {
      "cell_type": "code",
      "metadata": {
        "id": "iM4bSEqEf-nG"
      },
      "source": [
        "aaa-bbb               #ลบเลข    /   int - float  = float"
      ],
      "execution_count": null,
      "outputs": []
    },
    {
      "cell_type": "code",
      "metadata": {
        "id": "qti5F93rS3-z"
      },
      "source": [
        "ab = aaa*bbb      #aaa คูณ bbb ในตัวแปร ab แล้วแสดงผลตัวแปร ab\r\n",
        "print(ab)"
      ],
      "execution_count": null,
      "outputs": []
    },
    {
      "cell_type": "code",
      "metadata": {
        "id": "tFBpQkiBTFbo"
      },
      "source": [
        "ab+int(ccc)          #ใส่ int หน้า ccc เพื่อแปลงเป็นจำนวนเต็ม แล้วบวกกับตัวแปร ab    /   float + int = float"
      ],
      "execution_count": null,
      "outputs": []
    },
    {
      "cell_type": "markdown",
      "metadata": {
        "id": "-e5E5eqGTMMI"
      },
      "source": [
        "###% คือ modulo "
      ]
    },
    {
      "cell_type": "code",
      "metadata": {
        "id": "-f3z59wuTJ_o"
      },
      "source": [
        "5%3  #หารเอาเศษ"
      ],
      "execution_count": null,
      "outputs": []
    },
    {
      "cell_type": "code",
      "metadata": {
        "id": "fLL-KJLoTmfH"
      },
      "source": [
        "7%3  #หารเอาเศษ"
      ],
      "execution_count": null,
      "outputs": []
    },
    {
      "cell_type": "markdown",
      "metadata": {
        "id": "AFThDxWsTzZJ"
      },
      "source": [
        "#คำสั่ง print แบบพิเศษ (การ format string)"
      ]
    },
    {
      "cell_type": "code",
      "metadata": {
        "id": "IADLB-xGTtW1"
      },
      "source": [
        "print('ตัวแปร')  #สิ่งที่อยู่ในวงเล็บคือ ตัวแปร และ string"
      ],
      "execution_count": null,
      "outputs": []
    },
    {
      "cell_type": "code",
      "metadata": {
        "id": "xW3IWUHAUT2a"
      },
      "source": [
        "print(f'% คือการหารเอาเศษ เช่น 7%3 = {7%3}')  #เพื่ม f หน้า 'string' และใช้ {} ใส่ code ข้างในปีกกาใส่โค้ด"
      ],
      "execution_count": null,
      "outputs": []
    },
    {
      "cell_type": "code",
      "metadata": {
        "id": "8V-qC3IUUuLZ"
      },
      "source": [
        "print(f'% คือการหารเอาเศษ เช่น {7%3}\\ \r\n",
        "แต่\\n/คือการหารปกติ เช่น 7/3 ={7/3}\\\r\n",
        "และ\\n//คือการหารเอาเศษ เช่น 7//3 = {7//3}\\\r\n",
        "หรือ\\nใช้int() เพื่อหารเอาส่วน เช่น int(7/3) = {int(7/3)}')  #\\nคือการขึ้นบรรทัดใหม่ คอมเห็น   \\ทำให้คอมมองไม่เห็นแต่เราเห็น"
      ],
      "execution_count": null,
      "outputs": []
    },
    {
      "cell_type": "markdown",
      "metadata": {
        "id": "m5MudCkzXABD"
      },
      "source": [
        "#DATA STRUCTURE(โครงสร้างข้อมูล)"
      ]
    },
    {
      "cell_type": "code",
      "metadata": {
        "id": "Qiq0YmHiWWqy"
      },
      "source": [
        "[111,'c','งง',aaa]     # ข้อมูล list out put"
      ],
      "execution_count": null,
      "outputs": []
    },
    {
      "cell_type": "markdown",
      "metadata": {
        "id": "kr53VHeBXKRo"
      },
      "source": [
        "##list คือ การเอาข้อมูลหลายๆตัวมาเรียงต่อกัน\r\n",
        "###list สามารถสร้างได้2แบบ ดังนี้"
      ]
    },
    {
      "cell_type": "markdown",
      "metadata": {
        "id": "MMp3CO9dXqeI"
      },
      "source": [
        "### แบบที่1 > square brackets"
      ]
    },
    {
      "cell_type": "code",
      "metadata": {
        "colab": {
          "base_uri": "https://localhost:8080/"
        },
        "id": "JnWuUPgOXixe",
        "outputId": "2e8b72ad-6ec2-4f7f-8164-3934226e6732"
      },
      "source": [
        "list_a = []  #listว่าง\r\n",
        "print(list_a)"
      ],
      "execution_count": 90,
      "outputs": [
        {
          "output_type": "stream",
          "text": [
            "[]\n"
          ],
          "name": "stdout"
        }
      ]
    },
    {
      "cell_type": "code",
      "metadata": {
        "colab": {
          "base_uri": "https://localhost:8080/"
        },
        "id": "BI7tWQQmX66m",
        "outputId": "a0a7df17-a4a7-42d4-8c8e-65da8c0a39c6"
      },
      "source": [
        "list_b = [111,'c','งง',aaa]   # แสดงผลตัวแปร \r\n",
        "print(list_b)"
      ],
      "execution_count": 89,
      "outputs": [
        {
          "output_type": "stream",
          "text": [
            "[111, 'c', 'งง', 1092]\n"
          ],
          "name": "stdout"
        }
      ]
    },
    {
      "cell_type": "markdown",
      "metadata": {
        "id": "vgzbvVv_YGCS"
      },
      "source": [
        "####ลำดับที่อยู่ใน list มีความสำคัญ (ลำดับใน list เริ่มจาก 0,1,2,...)"
      ]
    },
    {
      "cell_type": "code",
      "metadata": {
        "colab": {
          "base_uri": "https://localhost:8080/",
          "height": 35
        },
        "id": "2W76rXTQYYXP",
        "outputId": "0cc4fd38-4ae6-4427-ea48-e6361f8d7924"
      },
      "source": [
        "list_b[2]   # แสดงผล ตัวที่3ใน list_b"
      ],
      "execution_count": 91,
      "outputs": [
        {
          "output_type": "execute_result",
          "data": {
            "application/vnd.google.colaboratory.intrinsic+json": {
              "type": "string"
            },
            "text/plain": [
              "'งง'"
            ]
          },
          "metadata": {
            "tags": []
          },
          "execution_count": 91
        }
      ]
    },
    {
      "cell_type": "markdown",
      "metadata": {
        "id": "rEWMn3buYUMi"
      },
      "source": [
        "###แบบที่2"
      ]
    },
    {
      "cell_type": "code",
      "metadata": {
        "colab": {
          "base_uri": "https://localhost:8080/"
        },
        "id": "8LourXWtYFSf",
        "outputId": "10eac439-405e-4a99-f928-01bba73f2959"
      },
      "source": [
        "list_c = list()   #list ว่าง\r\n",
        "print(list_c)"
      ],
      "execution_count": 92,
      "outputs": [
        {
          "output_type": "stream",
          "text": [
            "[]\n"
          ],
          "name": "stdout"
        }
      ]
    },
    {
      "cell_type": "markdown",
      "metadata": {
        "id": "-ZfuTo8DYlzG"
      },
      "source": [
        "###append() เพิ่มสมาชิกใน list"
      ]
    },
    {
      "cell_type": "code",
      "metadata": {
        "colab": {
          "base_uri": "https://localhost:8080/"
        },
        "id": "rWfurFFkYkcg",
        "outputId": "39f75863-1d03-4834-9c4a-bb0e464e251b"
      },
      "source": [
        "list_b.append('u')   # เพิ่ม u ใน list_b\r\n",
        "print(list_b)"
      ],
      "execution_count": 63,
      "outputs": [
        {
          "output_type": "stream",
          "text": [
            "[111, 'c', 'งง', 1092, 'u']\n"
          ],
          "name": "stdout"
        }
      ]
    },
    {
      "cell_type": "markdown",
      "metadata": {
        "id": "-jD-QAJFZV09"
      },
      "source": [
        "ตัวที่อยู่ในวงเล็บหลังจากตัวแปร list เรียกว่า index ใช้สำหรับชี้ข้อมูลใน list\r\n",
        "\r\n",
        "(ชี้จากข้างหน้า,ชี้จากข้างหลัง)\r\n",
        "\r\n",
        "0 คือสมาชิกตัวแรก , -1 คือสมาชิกตัวสุดท้าย"
      ]
    },
    {
      "cell_type": "code",
      "metadata": {
        "colab": {
          "base_uri": "https://localhost:8080/",
          "height": 35
        },
        "id": "gdzzCsJ4Y1BK",
        "outputId": "a60f5361-542e-4ce9-b464-4c167a48fcaf"
      },
      "source": [
        "list_b[-1]   # แสดงผลตัวที่1นับจากสุดท้ายใน list_b "
      ],
      "execution_count": 64,
      "outputs": [
        {
          "output_type": "execute_result",
          "data": {
            "application/vnd.google.colaboratory.intrinsic+json": {
              "type": "string"
            },
            "text/plain": [
              "'u'"
            ]
          },
          "metadata": {
            "tags": []
          },
          "execution_count": 64
        }
      ]
    },
    {
      "cell_type": "markdown",
      "metadata": {
        "id": "LHO8MIatZl9n"
      },
      "source": [
        "###String > list of characters\r\n",
        "\r\n"
      ]
    },
    {
      "cell_type": "code",
      "metadata": {
        "colab": {
          "base_uri": "https://localhost:8080/"
        },
        "id": "K4pOsTY9Y40M",
        "outputId": "7ca9c3b3-4494-4702-8cff-0f4722d1a676"
      },
      "source": [
        "t = 'python is easy'       # แสดงตัวหนังสือ\r\n",
        "print(t)"
      ],
      "execution_count": 65,
      "outputs": [
        {
          "output_type": "stream",
          "text": [
            "python is easy\n"
          ],
          "name": "stdout"
        }
      ]
    },
    {
      "cell_type": "code",
      "metadata": {
        "colab": {
          "base_uri": "https://localhost:8080/",
          "height": 35
        },
        "id": "xfactSNdZ8Ck",
        "outputId": "2c1340ee-5164-473a-d01b-1b28387a8f54"
      },
      "source": [
        "t[1]                         #ตัวหนังสือตัวที่2 (โดยนับจากข้างหน้า 0,1,...)"
      ],
      "execution_count": 66,
      "outputs": [
        {
          "output_type": "execute_result",
          "data": {
            "application/vnd.google.colaboratory.intrinsic+json": {
              "type": "string"
            },
            "text/plain": [
              "'y'"
            ]
          },
          "metadata": {
            "tags": []
          },
          "execution_count": 66
        }
      ]
    },
    {
      "cell_type": "code",
      "metadata": {
        "colab": {
          "base_uri": "https://localhost:8080/",
          "height": 35
        },
        "id": "MuCxGj4oZ-Xp",
        "outputId": "adce4afb-a81f-461f-e22b-17ebfe4f96e1"
      },
      "source": [
        "t[-4]                        #ตัวหนังสือตัวที่4 (โดยนับจากข้างหลัง)"
      ],
      "execution_count": 67,
      "outputs": [
        {
          "output_type": "execute_result",
          "data": {
            "application/vnd.google.colaboratory.intrinsic+json": {
              "type": "string"
            },
            "text/plain": [
              "'e'"
            ]
          },
          "metadata": {
            "tags": []
          },
          "execution_count": 67
        }
      ]
    },
    {
      "cell_type": "code",
      "metadata": {
        "colab": {
          "base_uri": "https://localhost:8080/",
          "height": 35
        },
        "id": "b9iJoveTaCRH",
        "outputId": "58888f2d-cd8c-4787-9114-005ca14c585b"
      },
      "source": [
        "t[4]                         #ตัวหนังสือตัวที่4 (โดยนับจากข้างหน้า 0,1,2,3,4,...)"
      ],
      "execution_count": 68,
      "outputs": [
        {
          "output_type": "execute_result",
          "data": {
            "application/vnd.google.colaboratory.intrinsic+json": {
              "type": "string"
            },
            "text/plain": [
              "'o'"
            ]
          },
          "metadata": {
            "tags": []
          },
          "execution_count": 68
        }
      ]
    },
    {
      "cell_type": "code",
      "metadata": {
        "colab": {
          "base_uri": "https://localhost:8080/",
          "height": 35
        },
        "id": "vJkoGjSPaO3f",
        "outputId": "2789aac1-4b7c-44cc-c18d-ae2dafcd80d1"
      },
      "source": [
        "t[6]                         #ตัวหนังสือตัวที่6 (โดยนับจากข้างหน้า 0,1,2,3,4,5,6,...)"
      ],
      "execution_count": 69,
      "outputs": [
        {
          "output_type": "execute_result",
          "data": {
            "application/vnd.google.colaboratory.intrinsic+json": {
              "type": "string"
            },
            "text/plain": [
              "' '"
            ]
          },
          "metadata": {
            "tags": []
          },
          "execution_count": 69
        }
      ]
    },
    {
      "cell_type": "markdown",
      "metadata": {
        "id": "TFO2_wJniy5a"
      },
      "source": [
        "จบ5/1/64"
      ]
    },
    {
      "cell_type": "code",
      "metadata": {
        "id": "vZkVZ0rniwvH",
        "outputId": "4432b6be-7fc7-4874-b864-ef9353841336",
        "colab": {
          "base_uri": "https://localhost:8080/"
        }
      },
      "source": [
        "len(t)"
      ],
      "execution_count": 59,
      "outputs": [
        {
          "output_type": "execute_result",
          "data": {
            "text/plain": [
              "14"
            ]
          },
          "metadata": {
            "tags": []
          },
          "execution_count": 59
        }
      ]
    },
    {
      "cell_type": "code",
      "metadata": {
        "id": "PcZLFthSk_Od",
        "outputId": "c3e1fc79-ca56-419a-f9e5-0918db78168d",
        "colab": {
          "base_uri": "https://localhost:8080/"
        }
      },
      "source": [
        "list_b"
      ],
      "execution_count": 70,
      "outputs": [
        {
          "output_type": "execute_result",
          "data": {
            "text/plain": [
              "[111, 'c', 'งง', 1092, 'u']"
            ]
          },
          "metadata": {
            "tags": []
          },
          "execution_count": 70
        }
      ]
    },
    {
      "cell_type": "code",
      "metadata": {
        "id": "5sU-fUuYi5BV",
        "outputId": "2950595f-5ed0-44ab-c2c6-a748db447877",
        "colab": {
          "base_uri": "https://localhost:8080/"
        }
      },
      "source": [
        "len(list_b)  # len คือคำสั่งตรวจสอบความยาวของ list (จำนวนสมาชิก)"
      ],
      "execution_count": 60,
      "outputs": [
        {
          "output_type": "execute_result",
          "data": {
            "text/plain": [
              "4"
            ]
          },
          "metadata": {
            "tags": []
          },
          "execution_count": 60
        }
      ]
    },
    {
      "cell_type": "code",
      "metadata": {
        "id": "jfpnPp8-lN5y",
        "outputId": "1334d118-f72a-462c-c21e-8796ff17371d",
        "colab": {
          "base_uri": "https://localhost:8080/"
        }
      },
      "source": [
        "list_b.append(t)\r\n",
        "print(list_b)"
      ],
      "execution_count": 71,
      "outputs": [
        {
          "output_type": "stream",
          "text": [
            "[111, 'c', 'งง', 1092, 'u', 'python is easy']\n"
          ],
          "name": "stdout"
        }
      ]
    },
    {
      "cell_type": "code",
      "metadata": {
        "id": "cPiICiqajBjV",
        "outputId": "dbeb66c9-3dd6-4e94-aade-8ca7f0220956",
        "colab": {
          "base_uri": "https://localhost:8080/",
          "height": 35
        }
      },
      "source": [
        "t[-4]"
      ],
      "execution_count": 61,
      "outputs": [
        {
          "output_type": "execute_result",
          "data": {
            "application/vnd.google.colaboratory.intrinsic+json": {
              "type": "string"
            },
            "text/plain": [
              "'e'"
            ]
          },
          "metadata": {
            "tags": []
          },
          "execution_count": 61
        }
      ]
    },
    {
      "cell_type": "markdown",
      "metadata": {
        "id": "nw1WS6__jgZP"
      },
      "source": [
        "###ตัวที่อยู่ข้างใน [ ] เราเรียกว่า index (ตัวชี้)"
      ]
    },
    {
      "cell_type": "markdown",
      "metadata": {
        "id": "DkOlbCxil0Ml"
      },
      "source": [
        "List slicing สามารถทำได้โดยใช้ colon :      *ตัดlistออกมา\r\n",
        "[a:c] -> [a,c) เอาa b ไม่เอาc"
      ]
    },
    {
      "cell_type": "code",
      "metadata": {
        "id": "6A_9UmCejlSh",
        "outputId": "cf2b918c-d054-4ac0-c6c8-16d23e5e9767",
        "colab": {
          "base_uri": "https://localhost:8080/"
        }
      },
      "source": [
        "print(t)                 #แสดงผลt   \r\n",
        "print(t[7:9])          #ตัด7 8\r\n",
        "print(len(t[7:9]))  #t มีสมาชิกเท่าไร"
      ],
      "execution_count": 73,
      "outputs": [
        {
          "output_type": "stream",
          "text": [
            "python is easy\n",
            "is\n",
            "2\n"
          ],
          "name": "stdout"
        }
      ]
    },
    {
      "cell_type": "code",
      "metadata": {
        "id": "_YbIp7LlmIJ-",
        "outputId": "f1327660-bc3b-4b4f-cae7-1e653dff7d24",
        "colab": {
          "base_uri": "https://localhost:8080/",
          "height": 35
        }
      },
      "source": [
        "t[0:14:2]   #นอกจากบอกเริ่มตรงไหนจบตรงไหนแล้ว โคลอนตัวสุดท้ายจะกระโดดหนึ่งตัวไปเอาตัวต่อไป"
      ],
      "execution_count": 74,
      "outputs": [
        {
          "output_type": "execute_result",
          "data": {
            "application/vnd.google.colaboratory.intrinsic+json": {
              "type": "string"
            },
            "text/plain": [
              "'pto ses'"
            ]
          },
          "metadata": {
            "tags": []
          },
          "execution_count": 74
        }
      ]
    },
    {
      "cell_type": "code",
      "metadata": {
        "id": "b_6tDCOwnw3T",
        "outputId": "fbe743d0-a8e6-4bdb-f7ab-2769a6842e34",
        "colab": {
          "base_uri": "https://localhost:8080/"
        }
      },
      "source": [
        "z=[1,2,3,4,5,6,7,8,9,10]      #\r\n",
        "print(z[1:10:2])                  #"
      ],
      "execution_count": 79,
      "outputs": [
        {
          "output_type": "stream",
          "text": [
            "[2, 4, 6, 8, 10]\n"
          ],
          "name": "stdout"
        }
      ]
    },
    {
      "cell_type": "markdown",
      "metadata": {
        "id": "H1ylU8CqooxH"
      },
      "source": [
        "quiz ใหใช้ list \r\n"
      ]
    },
    {
      "cell_type": "markdown",
      "metadata": {
        "id": "lnUZsBUZpW5u"
      },
      "source": [
        "ถ้าเว้นว่างหน้า : หมายความว่า เริ่มตั้งแต่ตัวแรก (0)\r\n",
        "\r\n",
        "ถ้าเว้นว่างหลัง : หมายความว่า ไปจนถึงตัวสุดท้าย  (len(list))"
      ]
    },
    {
      "cell_type": "code",
      "metadata": {
        "id": "joRELnwwoUTy",
        "outputId": "f1108102-3f33-4d57-a67b-5daa6cd7db47",
        "colab": {
          "base_uri": "https://localhost:8080/"
        }
      },
      "source": [
        "print(t)\r\n",
        "print(t[:6])     #ตัวแรกถึงตัวที่6   เริ่มนับที่0\r\n",
        "print(t[10:])   #ตัวที่10ถึงตัวสุดท้าย\r\n",
        "print(t[-4:])    #เริ่มนับจากตัวสุดท้ายมา4ตัว ถึงตัวสุดท้าย    เริ่มนับ-1\r\n",
        "print(t[:])       #เอาทั้งหมด"
      ],
      "execution_count": 82,
      "outputs": [
        {
          "output_type": "stream",
          "text": [
            "python is easy\n",
            "python\n",
            "easy\n",
            "easy\n",
            "python is easy\n"
          ],
          "name": "stdout"
        }
      ]
    },
    {
      "cell_type": "code",
      "metadata": {
        "id": "7ygYjG9fpqQZ",
        "outputId": "821e1abe-f66d-4d47-a19f-2670d1ce557b",
        "colab": {
          "base_uri": "https://localhost:8080/"
        }
      },
      "source": [
        "print(z[::2])   #เริ่มตัวแรกไปตัวสุดท้ายแล้วข้ามที่ละ2"
      ],
      "execution_count": 83,
      "outputs": [
        {
          "output_type": "stream",
          "text": [
            "[1, 3, 5, 7, 9]\n"
          ],
          "name": "stdout"
        }
      ]
    },
    {
      "cell_type": "markdown",
      "metadata": {
        "id": "M3xTPpPjp8fi"
      },
      "source": [
        "###เราสามารถเอา list มาต่อกันได้ด้วย +"
      ]
    },
    {
      "cell_type": "code",
      "metadata": {
        "id": "q7AEPnUpr72k",
        "outputId": "3483b7db-21de-4238-bc2f-7caf3bdda676",
        "colab": {
          "base_uri": "https://localhost:8080/",
          "height": 35
        }
      },
      "source": [
        "t+'??'"
      ],
      "execution_count": 84,
      "outputs": [
        {
          "output_type": "execute_result",
          "data": {
            "application/vnd.google.colaboratory.intrinsic+json": {
              "type": "string"
            },
            "text/plain": [
              "'python is easy??'"
            ]
          },
          "metadata": {
            "tags": []
          },
          "execution_count": 84
        }
      ]
    },
    {
      "cell_type": "code",
      "metadata": {
        "id": "NYp0GUiUsCC4",
        "outputId": "cad41037-9d3c-4ee2-a45d-4213eceba934",
        "colab": {
          "base_uri": "https://localhost:8080/",
          "height": 163
        }
      },
      "source": [
        "t + list_b    ## ไม่สามารถเอา list ปกติมาต่อกับ string ได้"
      ],
      "execution_count": 86,
      "outputs": [
        {
          "output_type": "error",
          "ename": "TypeError",
          "evalue": "ignored",
          "traceback": [
            "\u001b[0;31m---------------------------------------------------------------------------\u001b[0m",
            "\u001b[0;31mTypeError\u001b[0m                                 Traceback (most recent call last)",
            "\u001b[0;32m<ipython-input-86-6e45657c8fa9>\u001b[0m in \u001b[0;36m<module>\u001b[0;34m()\u001b[0m\n\u001b[0;32m----> 1\u001b[0;31m \u001b[0mt\u001b[0m \u001b[0;34m+\u001b[0m \u001b[0mlist_b\u001b[0m    \u001b[0;31m## ไม่สามารถเอา list ปกติมาต่อกับ string ได้\u001b[0m\u001b[0;34m\u001b[0m\u001b[0;34m\u001b[0m\u001b[0m\n\u001b[0m",
            "\u001b[0;31mTypeError\u001b[0m: must be str, not list"
          ]
        }
      ]
    },
    {
      "cell_type": "code",
      "metadata": {
        "id": "cXPblbQPsIIe",
        "outputId": "55297f04-02ba-4620-dd1c-e3233ebb4bdc",
        "colab": {
          "base_uri": "https://localhost:8080/"
        }
      },
      "source": [
        "print(list_a)\r\n",
        "print(list_b)\r\n",
        "print(list_b + list_a)    #ไม่เหมือนกับappend # + คือเอาสมาชิกมารวมกัน"
      ],
      "execution_count": 93,
      "outputs": [
        {
          "output_type": "stream",
          "text": [
            "[]\n",
            "[111, 'c', 'งง', 1092]\n",
            "[111, 'c', 'งง', 1092]\n"
          ],
          "name": "stdout"
        }
      ]
    },
    {
      "cell_type": "code",
      "metadata": {
        "id": "JEi5ejl_sQeb",
        "outputId": "486e5041-12a6-4338-948d-418f09e5ed9d",
        "colab": {
          "base_uri": "https://localhost:8080/"
        }
      },
      "source": [
        "list_b.append(list_a)  # append จะเอาสมาชิกมาต่อเลย\r\n",
        "print(list_b)"
      ],
      "execution_count": 94,
      "outputs": [
        {
          "output_type": "stream",
          "text": [
            "[111, 'c', 'งง', 1092, []]\n"
          ],
          "name": "stdout"
        }
      ]
    },
    {
      "cell_type": "markdown",
      "metadata": {
        "id": "HrvOJmYnt2rL"
      },
      "source": [
        "###การแบ่ง string ตามสัญลักษณ์ที่กำหนด -> split string   #แบ่ง"
      ]
    },
    {
      "cell_type": "code",
      "metadata": {
        "id": "st7zq3_0uA0U",
        "outputId": "434b0d17-29ac-4256-cf81-4221d402b566",
        "colab": {
          "base_uri": "https://localhost:8080/",
          "height": 35
        }
      },
      "source": [
        "t"
      ],
      "execution_count": 95,
      "outputs": [
        {
          "output_type": "execute_result",
          "data": {
            "application/vnd.google.colaboratory.intrinsic+json": {
              "type": "string"
            },
            "text/plain": [
              "'python is easy'"
            ]
          },
          "metadata": {
            "tags": []
          },
          "execution_count": 95
        }
      ]
    },
    {
      "cell_type": "code",
      "metadata": {
        "id": "IvwUo1HUtpjH",
        "outputId": "f562f8eb-e160-4243-fbd4-26c04d8d3d12",
        "colab": {
          "base_uri": "https://localhost:8080/"
        }
      },
      "source": [
        "t.split(' ')"
      ],
      "execution_count": 100,
      "outputs": [
        {
          "output_type": "execute_result",
          "data": {
            "text/plain": [
              "['python', 'is', 'easy']"
            ]
          },
          "metadata": {
            "tags": []
          },
          "execution_count": 100
        }
      ]
    },
    {
      "cell_type": "code",
      "metadata": {
        "id": "r25z-8OVuC-N"
      },
      "source": [
        "time = '12:30:15'"
      ],
      "execution_count": 101,
      "outputs": []
    },
    {
      "cell_type": "code",
      "metadata": {
        "id": "PnL0eCjSu0TA",
        "outputId": "64b6e08d-9acf-4333-a149-59efbc063225",
        "colab": {
          "base_uri": "https://localhost:8080/"
        }
      },
      "source": [
        "time.split(':')"
      ],
      "execution_count": 102,
      "outputs": [
        {
          "output_type": "execute_result",
          "data": {
            "text/plain": [
              "['12', '30', '15']"
            ]
          },
          "metadata": {
            "tags": []
          },
          "execution_count": 102
        }
      ]
    },
    {
      "cell_type": "code",
      "metadata": {
        "id": "Fi23DE9_vSxa",
        "outputId": "53cc30bb-0055-44a2-a984-e0508e44f6b2",
        "colab": {
          "base_uri": "https://localhost:8080/"
        }
      },
      "source": [
        "t_sp = t.split(' ')\r\n",
        "print(t_sp)\r\n",
        "print(':'.join(t_sp))      ## วิธีรวมกลับ"
      ],
      "execution_count": 110,
      "outputs": [
        {
          "output_type": "stream",
          "text": [
            "['python', 'is', 'easy']\n",
            "python:is:easy\n"
          ],
          "name": "stdout"
        }
      ]
    },
    {
      "cell_type": "markdown",
      "metadata": {
        "id": "B2qP03sKvvUk"
      },
      "source": [
        "###HW คำนวณเวลาเป็นวินาทีของเวลาต่อไปนี้โดยใช้คำสั่ง split() ช่วย (print ออกมาให้สวยงาม)\r\n",
        "\r\n",
        "12:30:15\r\n",
        "\r\n",
        "13:41:07\r\n",
        "\r\n",
        "12:53:15\r\n",
        "\r\n",
        "00:59:25\r\n",
        "\r\n",
        "11:11:11\r\n",
        "\r\n",
        "16:06:09\r\n",
        "\r\n",
        "21:12:30\r\n",
        "\r\n",
        "10:06:15\r\n",
        "\r\n",
        "ตัวอย่าง > 00:01:10 = 70 วินาที\r\n",
        "\r\n",
        "ตัวอย่าง > 01:00:01 = 3601 วินาที"
      ]
    },
    {
      "cell_type": "code",
      "metadata": {
        "id": "t8_s1ec1vq9P"
      },
      "source": [
        "q1 = '12:30:15'"
      ],
      "execution_count": 111,
      "outputs": []
    }
  ]
}