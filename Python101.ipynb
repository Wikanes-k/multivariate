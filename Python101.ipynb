{
  "nbformat": 4,
  "nbformat_minor": 0,
  "metadata": {
    "colab": {
      "name": "Python101.ipynb",
      "provenance": [],
      "include_colab_link": true
    },
    "kernelspec": {
      "name": "python3",
      "display_name": "Python 3"
    }
  },
  "cells": [
    {
      "cell_type": "markdown",
      "metadata": {
        "id": "view-in-github",
        "colab_type": "text"
      },
      "source": [
        "<a href=\"https://colab.research.google.com/github/Wikanes-k/multivariate/blob/main/Python101.ipynb\" target=\"_parent\"><img src=\"https://colab.research.google.com/assets/colab-badge.svg\" alt=\"Open In Colab\"/></a>"
      ]
    },
    {
      "cell_type": "markdown",
      "metadata": {
        "id": "hoM-Ole6L5iG"
      },
      "source": [
        "ตัวแปร variable\r\n",
        "\r\n",
        "หลักการตั้งชื่อตัวแปรเบื้องต้น\r\n",
        "\r\n",
        "\r\n",
        "1.   ตั้งให้สื่อ\r\n",
        "2.   ภาษาอังกฤษ\r\n",
        "3.   ใช้ตัวเลขได้แต่ห้ามขึ้นต้นด้วยตัวเลข\r\n",
        "4.   ห้ามเว้นวรรค\r\n",
        "5.   ตัวเล็กกับตัวใหญ่ไม่เหมือนกัน\r\n",
        "\r\n",
        "มี output 2 mode : ออกหน้าจอ กับ เข้าไปเก็บในตัวแปร \r\n",
        "\r\n",
        "\r\n",
        "\r\n"
      ]
    },
    {
      "cell_type": "code",
      "metadata": {
        "colab": {
          "base_uri": "https://localhost:8080/"
        },
        "id": "eHg8lqkBLvne",
        "outputId": "36aad17c-0007-41c4-face-0edb94a4a413"
      },
      "source": [
        "3.14159   # hashtag  หรือ  sharp  คือ comment >> อันนี้คือ output "
      ],
      "execution_count": 1,
      "outputs": [
        {
          "output_type": "execute_result",
          "data": {
            "text/plain": [
              "3.14159"
            ]
          },
          "metadata": {
            "tags": []
          },
          "execution_count": 1
        }
      ]
    },
    {
      "cell_type": "code",
      "metadata": {
        "id": "UwyXD-o2MvtP"
      },
      "source": [
        "pi = 3.14159       #out put ที่เข้าไปอยู่ในตัวแปร"
      ],
      "execution_count": 2,
      "outputs": []
    },
    {
      "cell_type": "code",
      "metadata": {
        "colab": {
          "base_uri": "https://localhost:8080/"
        },
        "id": "0CAJDxEWNCgE",
        "outputId": "1c952592-31d8-44e7-fd46-4d120052cf40"
      },
      "source": [
        "pi                       #run ตัวแปร แล้วจะได้ out put ออกมา"
      ],
      "execution_count": 3,
      "outputs": [
        {
          "output_type": "execute_result",
          "data": {
            "text/plain": [
              "3.14159"
            ]
          },
          "metadata": {
            "tags": []
          },
          "execution_count": 3
        }
      ]
    },
    {
      "cell_type": "code",
      "metadata": {
        "colab": {
          "base_uri": "https://localhost:8080/"
        },
        "id": "sqbe6l12NEou",
        "outputId": "912e2309-847d-45a1-a78d-c936943836b8"
      },
      "source": [
        "a = 1234567       # out put ที่เข้าไปอยู่ในตัวแปร แล้วก็แสดงผล a ออกมา\r\n",
        "print(a)"
      ],
      "execution_count": 4,
      "outputs": [
        {
          "output_type": "stream",
          "text": [
            "1234567\n"
          ],
          "name": "stdout"
        }
      ]
    },
    {
      "cell_type": "markdown",
      "metadata": {
        "id": "zoG0ULyHNvnu"
      },
      "source": [
        "#ชนิดของตัวแปร 3 ชนิด"
      ]
    },
    {
      "cell_type": "markdown",
      "metadata": {
        "id": "EFe94-P2Oo9k"
      },
      "source": [
        "###1จำนวนเต็ม(integer, int)"
      ]
    },
    {
      "cell_type": "code",
      "metadata": {
        "colab": {
          "base_uri": "https://localhost:8080/"
        },
        "id": "ypi4xEJCOydS",
        "outputId": "c8c4a24f-065c-411f-be5d-08761e579144"
      },
      "source": [
        "aaa = 1092       # ให้ aaa เท่ากับจำนวนเต็มแล้วแสดงผลออกมา\r\n",
        "print(aaa)"
      ],
      "execution_count": 5,
      "outputs": [
        {
          "output_type": "stream",
          "text": [
            "1092\n"
          ],
          "name": "stdout"
        }
      ]
    },
    {
      "cell_type": "markdown",
      "metadata": {
        "id": "TeqpvIqBO9bV"
      },
      "source": [
        "###2จำนวนจริง(float)"
      ]
    },
    {
      "cell_type": "code",
      "metadata": {
        "colab": {
          "base_uri": "https://localhost:8080/"
        },
        "id": "DDf3ZPwROzFs",
        "outputId": "8cd5f79b-bfb5-46a2-df81-8103bee1df85"
      },
      "source": [
        "bbb = 11.      # ให้ bbb เท่ากับจำนวนจริงแล้วแสดงผลออกมา\r\n",
        "print(bbb)"
      ],
      "execution_count": 6,
      "outputs": [
        {
          "output_type": "stream",
          "text": [
            "11.0\n"
          ],
          "name": "stdout"
        }
      ]
    },
    {
      "cell_type": "markdown",
      "metadata": {
        "id": "l-yerTDaPPxi"
      },
      "source": [
        "###3ตัวอักษร-ข้อความ (character และ text,string)"
      ]
    },
    {
      "cell_type": "code",
      "metadata": {
        "colab": {
          "base_uri": "https://localhost:8080/"
        },
        "id": "cZyyNgOAPI3J",
        "outputId": "b72acb02-3812-406a-aa32-efaf5596df72"
      },
      "source": [
        "ccc = '123456' #เราใช้ sring quote ' หรือ double quote \" ล้อมรอบตัวหนังสือเพื่อระบุว่าเป็น character-string\r\n",
        "print(ccc)"
      ],
      "execution_count": 7,
      "outputs": [
        {
          "output_type": "stream",
          "text": [
            "123456\n"
          ],
          "name": "stdout"
        }
      ]
    },
    {
      "cell_type": "code",
      "metadata": {
        "colab": {
          "base_uri": "https://localhost:8080/"
        },
        "id": "YGPEud9KP55_",
        "outputId": "7fded108-7f74-4376-aadb-f7cd4e82431a"
      },
      "source": [
        "aaa+bbb  #float + int = float"
      ],
      "execution_count": 8,
      "outputs": [
        {
          "output_type": "execute_result",
          "data": {
            "text/plain": [
              "1103.0"
            ]
          },
          "metadata": {
            "tags": []
          },
          "execution_count": 8
        }
      ]
    },
    {
      "cell_type": "code",
      "metadata": {
        "colab": {
          "base_uri": "https://localhost:8080/"
        },
        "id": "_U-Zdaa7QEhi",
        "outputId": "93dcc11f-0f0b-4dc4-f8c8-0373489e768f"
      },
      "source": [
        "ddd = 'วิฆเนศ'   #สามาถใช้ภาษาไทยได้\r\n",
        "print(ddd)"
      ],
      "execution_count": 9,
      "outputs": [
        {
          "output_type": "stream",
          "text": [
            "วิฆเนศ\n"
          ],
          "name": "stdout"
        }
      ]
    },
    {
      "cell_type": "markdown",
      "metadata": {
        "id": "B2lpSVmjQ4aq"
      },
      "source": [
        "##การเปลี่ยนชนิดของตัวแปร variable casting"
      ]
    },
    {
      "cell_type": "code",
      "metadata": {
        "colab": {
          "base_uri": "https://localhost:8080/"
        },
        "id": "GW4dmWrSQyi_",
        "outputId": "e009d95e-2e0c-4f90-acae-90d19b286004"
      },
      "source": [
        "aaa + int(ccc)  #ใส่ int หน้า ccc เพื่อแปลงเป็นจำนวนเต็ม\r\n"
      ],
      "execution_count": 10,
      "outputs": [
        {
          "output_type": "execute_result",
          "data": {
            "text/plain": [
              "124548"
            ]
          },
          "metadata": {
            "tags": []
          },
          "execution_count": 10
        }
      ]
    },
    {
      "cell_type": "code",
      "metadata": {
        "colab": {
          "base_uri": "https://localhost:8080/"
        },
        "id": "nydm8G09RnVF",
        "outputId": "c83676c5-93da-44c6-b33a-d42a503c3f6a"
      },
      "source": [
        "aaa + float(ccc)   #ใส่ float หน้า ccc เพื่อแปลงเป็นจำนวนจริง   /    int + float = float\r\n"
      ],
      "execution_count": 11,
      "outputs": [
        {
          "output_type": "execute_result",
          "data": {
            "text/plain": [
              "124548.0"
            ]
          },
          "metadata": {
            "tags": []
          },
          "execution_count": 11
        }
      ]
    },
    {
      "cell_type": "code",
      "metadata": {
        "colab": {
          "base_uri": "https://localhost:8080/",
          "height": 35
        },
        "id": "mtZhxQFaRsbj",
        "outputId": "fb5640ed-2e86-40ce-85ba-043cf7c31435"
      },
      "source": [
        "str(aaa)   # ใส่ str หน้า aaa เพื่อแปลงเป็นตัวอักษร"
      ],
      "execution_count": 12,
      "outputs": [
        {
          "output_type": "execute_result",
          "data": {
            "application/vnd.google.colaboratory.intrinsic+json": {
              "type": "string"
            },
            "text/plain": [
              "'1092'"
            ]
          },
          "metadata": {
            "tags": []
          },
          "execution_count": 12
        }
      ]
    },
    {
      "cell_type": "markdown",
      "metadata": {
        "id": "9n6CVH_ySZM0"
      },
      "source": [
        "##การดำเนินการ Operation (Operator +,-,*,/,%)"
      ]
    },
    {
      "cell_type": "code",
      "metadata": {
        "colab": {
          "base_uri": "https://localhost:8080/",
          "height": 163
        },
        "id": "bWYXlR4dR0Ua",
        "outputId": "ccd5053b-7ad8-4e16-ba14-cde0e1c7efc7"
      },
      "source": [
        "a+b   # Error เพราะ ไม่มีตัวแปร b"
      ],
      "execution_count": 13,
      "outputs": [
        {
          "output_type": "error",
          "ename": "NameError",
          "evalue": "ignored",
          "traceback": [
            "\u001b[0;31m---------------------------------------------------------------------------\u001b[0m",
            "\u001b[0;31mNameError\u001b[0m                                 Traceback (most recent call last)",
            "\u001b[0;32m<ipython-input-13-71be8ac2a879>\u001b[0m in \u001b[0;36m<module>\u001b[0;34m()\u001b[0m\n\u001b[0;32m----> 1\u001b[0;31m \u001b[0ma\u001b[0m\u001b[0;34m+\u001b[0m\u001b[0mb\u001b[0m   \u001b[0;31m# Error เพราะ ไม่มีตัวแปร b\u001b[0m\u001b[0;34m\u001b[0m\u001b[0;34m\u001b[0m\u001b[0m\n\u001b[0m",
            "\u001b[0;31mNameError\u001b[0m: name 'b' is not defined"
          ]
        }
      ]
    },
    {
      "cell_type": "code",
      "metadata": {
        "id": "Ktv1iGecS1Wx",
        "colab": {
          "base_uri": "https://localhost:8080/"
        },
        "outputId": "d7eb887c-dfea-403a-8e7f-290ec9ec0541"
      },
      "source": [
        "aaa+bbb              #บวกเลข   /   int + float  = float"
      ],
      "execution_count": 14,
      "outputs": [
        {
          "output_type": "execute_result",
          "data": {
            "text/plain": [
              "1103.0"
            ]
          },
          "metadata": {
            "tags": []
          },
          "execution_count": 14
        }
      ]
    },
    {
      "cell_type": "code",
      "metadata": {
        "id": "iM4bSEqEf-nG",
        "colab": {
          "base_uri": "https://localhost:8080/"
        },
        "outputId": "a5f6be9a-284b-4268-cc39-21de746b36fc"
      },
      "source": [
        "aaa-bbb               #ลบเลข    /   int - float  = float"
      ],
      "execution_count": 15,
      "outputs": [
        {
          "output_type": "execute_result",
          "data": {
            "text/plain": [
              "1081.0"
            ]
          },
          "metadata": {
            "tags": []
          },
          "execution_count": 15
        }
      ]
    },
    {
      "cell_type": "code",
      "metadata": {
        "id": "qti5F93rS3-z",
        "colab": {
          "base_uri": "https://localhost:8080/"
        },
        "outputId": "7010a63f-366f-4239-d934-ea7b796f253d"
      },
      "source": [
        "ab = aaa*bbb      #aaa คูณ bbb ในตัวแปร ab แล้วแสดงผลตัวแปร ab\r\n",
        "print(ab)"
      ],
      "execution_count": 16,
      "outputs": [
        {
          "output_type": "stream",
          "text": [
            "12012.0\n"
          ],
          "name": "stdout"
        }
      ]
    },
    {
      "cell_type": "code",
      "metadata": {
        "id": "tFBpQkiBTFbo",
        "colab": {
          "base_uri": "https://localhost:8080/"
        },
        "outputId": "6b626245-c5bf-4058-c155-c13fdee468ac"
      },
      "source": [
        "ab+int(ccc)          #ใส่ int หน้า ccc เพื่อแปลงเป็นจำนวนเต็ม แล้วบวกกับตัวแปร ab    /   float + int = float"
      ],
      "execution_count": 17,
      "outputs": [
        {
          "output_type": "execute_result",
          "data": {
            "text/plain": [
              "135468.0"
            ]
          },
          "metadata": {
            "tags": []
          },
          "execution_count": 17
        }
      ]
    },
    {
      "cell_type": "markdown",
      "metadata": {
        "id": "-e5E5eqGTMMI"
      },
      "source": [
        "###% คือ modulo "
      ]
    },
    {
      "cell_type": "code",
      "metadata": {
        "id": "-f3z59wuTJ_o",
        "colab": {
          "base_uri": "https://localhost:8080/"
        },
        "outputId": "535a75f1-6c19-4ac9-f662-91ffef0aeae1"
      },
      "source": [
        "5%3  #หารเอาเศษ"
      ],
      "execution_count": 20,
      "outputs": [
        {
          "output_type": "execute_result",
          "data": {
            "text/plain": [
              "2"
            ]
          },
          "metadata": {
            "tags": []
          },
          "execution_count": 20
        }
      ]
    },
    {
      "cell_type": "code",
      "metadata": {
        "id": "fLL-KJLoTmfH",
        "colab": {
          "base_uri": "https://localhost:8080/"
        },
        "outputId": "bd719fbd-6b86-42a2-9d8d-7a49c881a943"
      },
      "source": [
        "7%3  #หารเอาเศษ"
      ],
      "execution_count": 21,
      "outputs": [
        {
          "output_type": "execute_result",
          "data": {
            "text/plain": [
              "1"
            ]
          },
          "metadata": {
            "tags": []
          },
          "execution_count": 21
        }
      ]
    },
    {
      "cell_type": "markdown",
      "metadata": {
        "id": "AFThDxWsTzZJ"
      },
      "source": [
        "#คำสั่ง print แบบพิเศษ (การ format string)"
      ]
    },
    {
      "cell_type": "code",
      "metadata": {
        "id": "IADLB-xGTtW1",
        "colab": {
          "base_uri": "https://localhost:8080/"
        },
        "outputId": "2d918e2e-5414-459d-8263-3ce386818210"
      },
      "source": [
        "print('ตัวแปร')  #สิ่งที่อยู่ในวงเล็บคือ ตัวแปร และ string"
      ],
      "execution_count": 22,
      "outputs": [
        {
          "output_type": "stream",
          "text": [
            "ตัวแปร\n"
          ],
          "name": "stdout"
        }
      ]
    },
    {
      "cell_type": "code",
      "metadata": {
        "id": "xW3IWUHAUT2a",
        "colab": {
          "base_uri": "https://localhost:8080/"
        },
        "outputId": "dedd738b-553d-4aaf-c1a9-d9ae002d1053"
      },
      "source": [
        "print(f'% คือการหารเอาเศษ เช่น 7%3 = {7%3}')  #เพื่ม f หน้า 'string' และใช้ {} ใส่ code ข้างในปีกกาใส่โค้ด"
      ],
      "execution_count": 23,
      "outputs": [
        {
          "output_type": "stream",
          "text": [
            "% คือการหารเอาเศษ เช่น 7%3 = 1\n"
          ],
          "name": "stdout"
        }
      ]
    },
    {
      "cell_type": "code",
      "metadata": {
        "id": "8V-qC3IUUuLZ",
        "colab": {
          "base_uri": "https://localhost:8080/",
          "height": 130
        },
        "outputId": "7d60fcd0-4b0b-427a-fdb1-84e3ab90e0d3"
      },
      "source": [
        "print(f'% คือการหารเอาเศษ เช่น {7%3}\\ \r\n",
        "แต่\\n/คือการหารปกติ เช่น 7/3 ={7/3}\\\r\n",
        "และ\\n//คือการหารเอาเศษ เช่น 7//3 = {7//3}\\\r\n",
        "หรือ\\nใช้int() เพื่อหารเอาส่วน เช่น int(7/3) = {int(7/3)}')  #\\nคือการขึ้นบรรทัดใหม่ คอมเห็น   \\ทำให้คอมมองไม่เห็นแต่เราเห็น"
      ],
      "execution_count": 24,
      "outputs": [
        {
          "output_type": "error",
          "ename": "SyntaxError",
          "evalue": "ignored",
          "traceback": [
            "\u001b[0;36m  File \u001b[0;32m\"<ipython-input-24-dcd661290cbe>\"\u001b[0;36m, line \u001b[0;32m1\u001b[0m\n\u001b[0;31m    print(f'% คือการหารเอาเศษ เช่น {7%3}\\\u001b[0m\n\u001b[0m                                          ^\u001b[0m\n\u001b[0;31mSyntaxError\u001b[0m\u001b[0;31m:\u001b[0m EOL while scanning string literal\n"
          ]
        }
      ]
    },
    {
      "cell_type": "markdown",
      "metadata": {
        "id": "m5MudCkzXABD"
      },
      "source": [
        "#DATA STRUCTURE(โครงสร้างข้อมูล)"
      ]
    },
    {
      "cell_type": "code",
      "metadata": {
        "id": "Qiq0YmHiWWqy",
        "outputId": "eed4de43-efad-4b54-f0b4-8567e3f3cfbb",
        "colab": {
          "base_uri": "https://localhost:8080/"
        }
      },
      "source": [
        "[111,'c','งง',aaa]     # ข้อมูล list out put"
      ],
      "execution_count": 25,
      "outputs": [
        {
          "output_type": "execute_result",
          "data": {
            "text/plain": [
              "[111, 'c', 'งง', 1092]"
            ]
          },
          "metadata": {
            "tags": []
          },
          "execution_count": 25
        }
      ]
    },
    {
      "cell_type": "markdown",
      "metadata": {
        "id": "kr53VHeBXKRo"
      },
      "source": [
        "##list คือ การเอาข้อมูลหลายๆตัวมาเรียงต่อกัน\r\n",
        "###list สามารถสร้างได้2แบบ ดังนี้"
      ]
    },
    {
      "cell_type": "markdown",
      "metadata": {
        "id": "MMp3CO9dXqeI"
      },
      "source": [
        "### แบบที่1 > square brackets"
      ]
    },
    {
      "cell_type": "code",
      "metadata": {
        "colab": {
          "base_uri": "https://localhost:8080/"
        },
        "id": "JnWuUPgOXixe",
        "outputId": "f197891e-47a7-45e8-8933-69da89164514"
      },
      "source": [
        "list_a = []  #listว่าง\r\n",
        "print(list_a)"
      ],
      "execution_count": 26,
      "outputs": [
        {
          "output_type": "stream",
          "text": [
            "[]\n"
          ],
          "name": "stdout"
        }
      ]
    },
    {
      "cell_type": "code",
      "metadata": {
        "colab": {
          "base_uri": "https://localhost:8080/"
        },
        "id": "BI7tWQQmX66m",
        "outputId": "293daee7-d8ce-494a-e894-12b436f4302f"
      },
      "source": [
        "list_b = [111,'c','งง',aaa]   # แสดงผลตัวแปร \r\n",
        "print(list_b)"
      ],
      "execution_count": 27,
      "outputs": [
        {
          "output_type": "stream",
          "text": [
            "[111, 'c', 'งง', 1092]\n"
          ],
          "name": "stdout"
        }
      ]
    },
    {
      "cell_type": "markdown",
      "metadata": {
        "id": "vgzbvVv_YGCS"
      },
      "source": [
        "####ลำดับที่อยู่ใน list มีความสำคัญ (ลำดับใน list เริ่มจาก 0,1,2,...)"
      ]
    },
    {
      "cell_type": "code",
      "metadata": {
        "colab": {
          "base_uri": "https://localhost:8080/",
          "height": 35
        },
        "id": "2W76rXTQYYXP",
        "outputId": "31c95fd2-1326-4fd0-f3a7-4d615c750a94"
      },
      "source": [
        "list_b[2]   # แสดงผล ตัวที่3ใน list_b"
      ],
      "execution_count": 28,
      "outputs": [
        {
          "output_type": "execute_result",
          "data": {
            "application/vnd.google.colaboratory.intrinsic+json": {
              "type": "string"
            },
            "text/plain": [
              "'งง'"
            ]
          },
          "metadata": {
            "tags": []
          },
          "execution_count": 28
        }
      ]
    },
    {
      "cell_type": "markdown",
      "metadata": {
        "id": "rEWMn3buYUMi"
      },
      "source": [
        "###แบบที่2"
      ]
    },
    {
      "cell_type": "code",
      "metadata": {
        "colab": {
          "base_uri": "https://localhost:8080/"
        },
        "id": "8LourXWtYFSf",
        "outputId": "7c1193f2-606e-499e-ac85-4bb04ad7060d"
      },
      "source": [
        "list_c = list()   #list ว่าง\r\n",
        "print(list_c)"
      ],
      "execution_count": 31,
      "outputs": [
        {
          "output_type": "stream",
          "text": [
            "[]\n"
          ],
          "name": "stdout"
        }
      ]
    },
    {
      "cell_type": "markdown",
      "metadata": {
        "id": "-ZfuTo8DYlzG"
      },
      "source": [
        "###append() เพิ่มสมาชิกใน list"
      ]
    },
    {
      "cell_type": "code",
      "metadata": {
        "colab": {
          "base_uri": "https://localhost:8080/"
        },
        "id": "rWfurFFkYkcg",
        "outputId": "bd01b864-1c5c-4943-a522-505415373b05"
      },
      "source": [
        "list_b.append('u')   # เพิ่ม u ใน list_b\r\n",
        "print(list_b)"
      ],
      "execution_count": 32,
      "outputs": [
        {
          "output_type": "stream",
          "text": [
            "[111, 'c', 'งง', 1092, 'u', 'u']\n"
          ],
          "name": "stdout"
        }
      ]
    },
    {
      "cell_type": "markdown",
      "metadata": {
        "id": "-jD-QAJFZV09"
      },
      "source": [
        "ตัวที่อยู่ในวงเล็บหลังจากตัวแปร list เรียกว่า index ใช้สำหรับชี้ข้อมูลใน list\r\n",
        "\r\n",
        "(ชี้จากข้างหน้า,ชี้จากข้างหลัง)\r\n",
        "\r\n",
        "0 คือสมาชิกตัวแรก , -1 คือสมาชิกตัวสุดท้าย"
      ]
    },
    {
      "cell_type": "code",
      "metadata": {
        "colab": {
          "base_uri": "https://localhost:8080/",
          "height": 35
        },
        "id": "gdzzCsJ4Y1BK",
        "outputId": "cd5aa11e-1751-47f9-e186-de7d96de6e75"
      },
      "source": [
        "list_b[-1]   # แสดงผลตัวที่1นับจากสุดท้ายใน list_b "
      ],
      "execution_count": 33,
      "outputs": [
        {
          "output_type": "execute_result",
          "data": {
            "application/vnd.google.colaboratory.intrinsic+json": {
              "type": "string"
            },
            "text/plain": [
              "'u'"
            ]
          },
          "metadata": {
            "tags": []
          },
          "execution_count": 33
        }
      ]
    },
    {
      "cell_type": "markdown",
      "metadata": {
        "id": "LHO8MIatZl9n"
      },
      "source": [
        "###String > list of characters\r\n",
        "\r\n"
      ]
    },
    {
      "cell_type": "code",
      "metadata": {
        "colab": {
          "base_uri": "https://localhost:8080/"
        },
        "id": "K4pOsTY9Y40M",
        "outputId": "593d25b4-d0fe-4bde-a2fe-3bcf5691215d"
      },
      "source": [
        "t = 'python is easy'       # แสดงตัวหนังสือ\r\n",
        "print(t)"
      ],
      "execution_count": 44,
      "outputs": [
        {
          "output_type": "stream",
          "text": [
            "python is easy\n"
          ],
          "name": "stdout"
        }
      ]
    },
    {
      "cell_type": "code",
      "metadata": {
        "colab": {
          "base_uri": "https://localhost:8080/",
          "height": 35
        },
        "id": "xfactSNdZ8Ck",
        "outputId": "6be108f4-5be5-48df-bdf9-61b81bc11a16"
      },
      "source": [
        "t[1]                         #ตัวหนังสือตัวที่2 (โดยนับจากข้างหน้า 0,1,...)"
      ],
      "execution_count": 45,
      "outputs": [
        {
          "output_type": "execute_result",
          "data": {
            "application/vnd.google.colaboratory.intrinsic+json": {
              "type": "string"
            },
            "text/plain": [
              "'y'"
            ]
          },
          "metadata": {
            "tags": []
          },
          "execution_count": 45
        }
      ]
    },
    {
      "cell_type": "code",
      "metadata": {
        "colab": {
          "base_uri": "https://localhost:8080/",
          "height": 35
        },
        "id": "MuCxGj4oZ-Xp",
        "outputId": "9962b758-dbe6-4e5b-c89f-0747b80a460f"
      },
      "source": [
        "t[-4]                        #ตัวหนังสือตัวที่4 (โดยนับจากข้างหลัง)"
      ],
      "execution_count": 46,
      "outputs": [
        {
          "output_type": "execute_result",
          "data": {
            "application/vnd.google.colaboratory.intrinsic+json": {
              "type": "string"
            },
            "text/plain": [
              "'e'"
            ]
          },
          "metadata": {
            "tags": []
          },
          "execution_count": 46
        }
      ]
    },
    {
      "cell_type": "code",
      "metadata": {
        "colab": {
          "base_uri": "https://localhost:8080/",
          "height": 35
        },
        "id": "b9iJoveTaCRH",
        "outputId": "a20b38ec-d31f-49ce-a1a1-327990775caf"
      },
      "source": [
        "t[4]                         #ตัวหนังสือตัวที่4 (โดยนับจากข้างหน้า 0,1,2,3,4,...)"
      ],
      "execution_count": 47,
      "outputs": [
        {
          "output_type": "execute_result",
          "data": {
            "application/vnd.google.colaboratory.intrinsic+json": {
              "type": "string"
            },
            "text/plain": [
              "'o'"
            ]
          },
          "metadata": {
            "tags": []
          },
          "execution_count": 47
        }
      ]
    },
    {
      "cell_type": "code",
      "metadata": {
        "colab": {
          "base_uri": "https://localhost:8080/",
          "height": 35
        },
        "id": "vJkoGjSPaO3f",
        "outputId": "9386e910-6d60-4ca0-eb17-f817cb2f5e6b"
      },
      "source": [
        "t[6]                         #ตัวหนังสือตัวที่6 (โดยนับจากข้างหน้า 0,1,2,3,4,5,6,...)"
      ],
      "execution_count": 49,
      "outputs": [
        {
          "output_type": "execute_result",
          "data": {
            "application/vnd.google.colaboratory.intrinsic+json": {
              "type": "string"
            },
            "text/plain": [
              "' '"
            ]
          },
          "metadata": {
            "tags": []
          },
          "execution_count": 49
        }
      ]
    },
    {
      "cell_type": "markdown",
      "metadata": {
        "id": "TFO2_wJniy5a"
      },
      "source": [
        "จบ5/1/64"
      ]
    },
    {
      "cell_type": "code",
      "metadata": {
        "id": "vZkVZ0rniwvH",
        "colab": {
          "base_uri": "https://localhost:8080/"
        },
        "outputId": "e860ccc0-7e72-4d84-80c6-e4961537d6d3"
      },
      "source": [
        "len(t)"
      ],
      "execution_count": 50,
      "outputs": [
        {
          "output_type": "execute_result",
          "data": {
            "text/plain": [
              "14"
            ]
          },
          "metadata": {
            "tags": []
          },
          "execution_count": 50
        }
      ]
    },
    {
      "cell_type": "code",
      "metadata": {
        "id": "PcZLFthSk_Od",
        "colab": {
          "base_uri": "https://localhost:8080/"
        },
        "outputId": "07172b1a-719e-489d-87ea-d4dc96533da6"
      },
      "source": [
        "list_b"
      ],
      "execution_count": 51,
      "outputs": [
        {
          "output_type": "execute_result",
          "data": {
            "text/plain": [
              "[111, 'c', 'งง', 1092, 'u', 'u', 'python is easy']"
            ]
          },
          "metadata": {
            "tags": []
          },
          "execution_count": 51
        }
      ]
    },
    {
      "cell_type": "code",
      "metadata": {
        "id": "5sU-fUuYi5BV",
        "colab": {
          "base_uri": "https://localhost:8080/"
        },
        "outputId": "7a1d2327-3b88-4584-b1e8-9636e5a0aa8d"
      },
      "source": [
        "len(list_b)  # len คือคำสั่งตรวจสอบความยาวของ list (จำนวนสมาชิก)"
      ],
      "execution_count": 52,
      "outputs": [
        {
          "output_type": "execute_result",
          "data": {
            "text/plain": [
              "7"
            ]
          },
          "metadata": {
            "tags": []
          },
          "execution_count": 52
        }
      ]
    },
    {
      "cell_type": "code",
      "metadata": {
        "id": "jfpnPp8-lN5y",
        "colab": {
          "base_uri": "https://localhost:8080/"
        },
        "outputId": "5105c1f1-cd02-4bd6-ad6e-a48cc560ce0d"
      },
      "source": [
        "list_b.append(t)\r\n",
        "print(list_b)"
      ],
      "execution_count": 53,
      "outputs": [
        {
          "output_type": "stream",
          "text": [
            "[111, 'c', 'งง', 1092, 'u', 'u', 'python is easy', 'python is easy']\n"
          ],
          "name": "stdout"
        }
      ]
    },
    {
      "cell_type": "code",
      "metadata": {
        "id": "cPiICiqajBjV",
        "colab": {
          "base_uri": "https://localhost:8080/",
          "height": 35
        },
        "outputId": "0c096a3c-52b2-4f33-f477-b3bd3c06f25b"
      },
      "source": [
        "t[-4]"
      ],
      "execution_count": 54,
      "outputs": [
        {
          "output_type": "execute_result",
          "data": {
            "application/vnd.google.colaboratory.intrinsic+json": {
              "type": "string"
            },
            "text/plain": [
              "'e'"
            ]
          },
          "metadata": {
            "tags": []
          },
          "execution_count": 54
        }
      ]
    },
    {
      "cell_type": "markdown",
      "metadata": {
        "id": "nw1WS6__jgZP"
      },
      "source": [
        "###ตัวที่อยู่ข้างใน [ ] เราเรียกว่า index (ตัวชี้)"
      ]
    },
    {
      "cell_type": "markdown",
      "metadata": {
        "id": "DkOlbCxil0Ml"
      },
      "source": [
        "List slicing สามารถทำได้โดยใช้ colon :      *ตัดlistออกมา\r\n",
        "[a:c] -> [a,c) เอาa b ไม่เอาc"
      ]
    },
    {
      "cell_type": "code",
      "metadata": {
        "id": "6A_9UmCejlSh",
        "colab": {
          "base_uri": "https://localhost:8080/"
        },
        "outputId": "4f62935f-5e7b-48a2-dd62-09b9b1cf394e"
      },
      "source": [
        "print(t)                 #แสดงผลt   \r\n",
        "print(t[7:9])          #ตัด7 8\r\n",
        "print(len(t[7:9]))  #t มีสมาชิกเท่าไร"
      ],
      "execution_count": 60,
      "outputs": [
        {
          "output_type": "stream",
          "text": [
            "python is easy\n",
            "is\n",
            "2\n"
          ],
          "name": "stdout"
        }
      ]
    },
    {
      "cell_type": "code",
      "metadata": {
        "id": "_YbIp7LlmIJ-",
        "colab": {
          "base_uri": "https://localhost:8080/",
          "height": 35
        },
        "outputId": "d461bbc7-e7e0-4ac0-c411-30a40cf84a5e"
      },
      "source": [
        "t[0:14:2]   #นอกจากบอกเริ่มตรงไหนจบตรงไหนแล้ว โคลอนตัวสุดท้ายจะกระโดดหนึ่งตัวไปเอาตัวต่อไป"
      ],
      "execution_count": 61,
      "outputs": [
        {
          "output_type": "execute_result",
          "data": {
            "application/vnd.google.colaboratory.intrinsic+json": {
              "type": "string"
            },
            "text/plain": [
              "'pto ses'"
            ]
          },
          "metadata": {
            "tags": []
          },
          "execution_count": 61
        }
      ]
    },
    {
      "cell_type": "code",
      "metadata": {
        "id": "b_6tDCOwnw3T",
        "colab": {
          "base_uri": "https://localhost:8080/"
        },
        "outputId": "14ace58f-07c0-45d1-d1ce-00ce28913c51"
      },
      "source": [
        "z=[1,2,3,4,5,6,7,8,9,10]      #0,1,2,... เอา1ถึงตัว10แล้วโดดที่ละ2\r\n",
        "print(z[1:10:2])                  "
      ],
      "execution_count": 63,
      "outputs": [
        {
          "output_type": "stream",
          "text": [
            "[2, 4, 6, 8, 10]\n"
          ],
          "name": "stdout"
        }
      ]
    },
    {
      "cell_type": "markdown",
      "metadata": {
        "id": "H1ylU8CqooxH"
      },
      "source": [
        "quiz ใหใช้ list \r\n"
      ]
    },
    {
      "cell_type": "markdown",
      "metadata": {
        "id": "lnUZsBUZpW5u"
      },
      "source": [
        "ถ้าเว้นว่างหน้า : หมายความว่า เริ่มตั้งแต่ตัวแรก (0)\r\n",
        "\r\n",
        "ถ้าเว้นว่างหลัง : หมายความว่า ไปจนถึงตัวสุดท้าย  (len(list))"
      ]
    },
    {
      "cell_type": "code",
      "metadata": {
        "id": "joRELnwwoUTy",
        "colab": {
          "base_uri": "https://localhost:8080/"
        },
        "outputId": "02e027fb-e1b8-4e49-da8f-8509fff4df68"
      },
      "source": [
        "print(t)\r\n",
        "print(t[:6])     #ตัวแรกถึงตัวที่6   เริ่มนับที่0\r\n",
        "print(t[10:])   #ตัวที่10ถึงตัวสุดท้าย\r\n",
        "print(t[-4:])    #เริ่มนับจากตัวสุดท้ายมา4ตัว ถึงตัวสุดท้าย    เริ่มนับ-1\r\n",
        "print(t[:])       #เอาทั้งหมด"
      ],
      "execution_count": 64,
      "outputs": [
        {
          "output_type": "stream",
          "text": [
            "python is easy\n",
            "python\n",
            "easy\n",
            "easy\n",
            "python is easy\n"
          ],
          "name": "stdout"
        }
      ]
    },
    {
      "cell_type": "code",
      "metadata": {
        "id": "7ygYjG9fpqQZ",
        "colab": {
          "base_uri": "https://localhost:8080/"
        },
        "outputId": "38ca6545-1a3e-4d9e-cb59-22548f5fcbbe"
      },
      "source": [
        "print(z[::2])   #เริ่มตัวแรกไปตัวสุดท้ายแล้วข้ามที่ละ2"
      ],
      "execution_count": 65,
      "outputs": [
        {
          "output_type": "stream",
          "text": [
            "[1, 3, 5, 7, 9]\n"
          ],
          "name": "stdout"
        }
      ]
    },
    {
      "cell_type": "markdown",
      "metadata": {
        "id": "M3xTPpPjp8fi"
      },
      "source": [
        "###เราสามารถเอา list มาต่อกันได้ด้วย +"
      ]
    },
    {
      "cell_type": "code",
      "metadata": {
        "id": "q7AEPnUpr72k",
        "colab": {
          "base_uri": "https://localhost:8080/",
          "height": 35
        },
        "outputId": "92a8ed6e-6f3f-4699-a9fd-55dd27ae5082"
      },
      "source": [
        "t+'??'"
      ],
      "execution_count": 66,
      "outputs": [
        {
          "output_type": "execute_result",
          "data": {
            "application/vnd.google.colaboratory.intrinsic+json": {
              "type": "string"
            },
            "text/plain": [
              "'python is easy??'"
            ]
          },
          "metadata": {
            "tags": []
          },
          "execution_count": 66
        }
      ]
    },
    {
      "cell_type": "code",
      "metadata": {
        "id": "NYp0GUiUsCC4",
        "colab": {
          "base_uri": "https://localhost:8080/",
          "height": 163
        },
        "outputId": "ba47052e-c850-4eb1-b6eb-4b4432348d91"
      },
      "source": [
        "t + list_b    ## ไม่สามารถเอา list ปกติมาต่อกับ string ได้"
      ],
      "execution_count": 67,
      "outputs": [
        {
          "output_type": "error",
          "ename": "TypeError",
          "evalue": "ignored",
          "traceback": [
            "\u001b[0;31m---------------------------------------------------------------------------\u001b[0m",
            "\u001b[0;31mTypeError\u001b[0m                                 Traceback (most recent call last)",
            "\u001b[0;32m<ipython-input-67-6e45657c8fa9>\u001b[0m in \u001b[0;36m<module>\u001b[0;34m()\u001b[0m\n\u001b[0;32m----> 1\u001b[0;31m \u001b[0mt\u001b[0m \u001b[0;34m+\u001b[0m \u001b[0mlist_b\u001b[0m    \u001b[0;31m## ไม่สามารถเอา list ปกติมาต่อกับ string ได้\u001b[0m\u001b[0;34m\u001b[0m\u001b[0;34m\u001b[0m\u001b[0m\n\u001b[0m",
            "\u001b[0;31mTypeError\u001b[0m: must be str, not list"
          ]
        }
      ]
    },
    {
      "cell_type": "code",
      "metadata": {
        "id": "cXPblbQPsIIe",
        "colab": {
          "base_uri": "https://localhost:8080/"
        },
        "outputId": "ca06ad5f-f0a3-4868-e3c8-daa9ac69b13e"
      },
      "source": [
        "print(list_a)\r\n",
        "print(list_b)\r\n",
        "print(list_b + list_a)    #ไม่เหมือนกับappend # + คือเอาสมาชิกมารวมกัน"
      ],
      "execution_count": 68,
      "outputs": [
        {
          "output_type": "stream",
          "text": [
            "[]\n",
            "[111, 'c', 'งง', 1092, 'u', 'u', 'python is easy', 'python is easy']\n",
            "[111, 'c', 'งง', 1092, 'u', 'u', 'python is easy', 'python is easy']\n"
          ],
          "name": "stdout"
        }
      ]
    },
    {
      "cell_type": "code",
      "metadata": {
        "id": "JEi5ejl_sQeb",
        "colab": {
          "base_uri": "https://localhost:8080/"
        },
        "outputId": "c738b750-21e0-46b2-cec2-0d0db5266d2e"
      },
      "source": [
        "list_b.append(list_a)  # append จะเอาสมาชิกมาต่อเลย\r\n",
        "print(list_b)"
      ],
      "execution_count": 69,
      "outputs": [
        {
          "output_type": "stream",
          "text": [
            "[111, 'c', 'งง', 1092, 'u', 'u', 'python is easy', 'python is easy', []]\n"
          ],
          "name": "stdout"
        }
      ]
    },
    {
      "cell_type": "markdown",
      "metadata": {
        "id": "HrvOJmYnt2rL"
      },
      "source": [
        "###การแบ่ง string ตามสัญลักษณ์ที่กำหนด -> split string   #แบ่ง"
      ]
    },
    {
      "cell_type": "code",
      "metadata": {
        "id": "st7zq3_0uA0U",
        "colab": {
          "base_uri": "https://localhost:8080/",
          "height": 35
        },
        "outputId": "229ad8ec-e0d5-4905-ced2-5b4372fc0675"
      },
      "source": [
        "t"
      ],
      "execution_count": 70,
      "outputs": [
        {
          "output_type": "execute_result",
          "data": {
            "application/vnd.google.colaboratory.intrinsic+json": {
              "type": "string"
            },
            "text/plain": [
              "'python is easy'"
            ]
          },
          "metadata": {
            "tags": []
          },
          "execution_count": 70
        }
      ]
    },
    {
      "cell_type": "code",
      "metadata": {
        "id": "IvwUo1HUtpjH",
        "colab": {
          "base_uri": "https://localhost:8080/"
        },
        "outputId": "90b99ef8-397a-408e-e5b4-b2bf8750b31e"
      },
      "source": [
        "t.split(' ')      #แบ่งใน' '"
      ],
      "execution_count": 71,
      "outputs": [
        {
          "output_type": "execute_result",
          "data": {
            "text/plain": [
              "['python', 'is', 'easy']"
            ]
          },
          "metadata": {
            "tags": []
          },
          "execution_count": 71
        }
      ]
    },
    {
      "cell_type": "code",
      "metadata": {
        "id": "r25z-8OVuC-N"
      },
      "source": [
        "time = '12:30:15'   #เอา:ออก"
      ],
      "execution_count": 72,
      "outputs": []
    },
    {
      "cell_type": "code",
      "metadata": {
        "id": "PnL0eCjSu0TA",
        "colab": {
          "base_uri": "https://localhost:8080/"
        },
        "outputId": "27344344-ccd4-4eb8-d3ab-789a3a427c4d"
      },
      "source": [
        "time.split(':')"
      ],
      "execution_count": 73,
      "outputs": [
        {
          "output_type": "execute_result",
          "data": {
            "text/plain": [
              "['12', '30', '15']"
            ]
          },
          "metadata": {
            "tags": []
          },
          "execution_count": 73
        }
      ]
    },
    {
      "cell_type": "code",
      "metadata": {
        "id": "Fi23DE9_vSxa",
        "colab": {
          "base_uri": "https://localhost:8080/"
        },
        "outputId": "88aa6ad7-4156-4aec-ab54-f45fc8c0a408"
      },
      "source": [
        "t_sp = t.split(' ')\r\n",
        "print(t_sp)\r\n",
        "print(':'.join(t_sp))      ## วิธีรวมกลับ"
      ],
      "execution_count": 75,
      "outputs": [
        {
          "output_type": "stream",
          "text": [
            "['python', 'is', 'easy']\n",
            "python:is:easy\n"
          ],
          "name": "stdout"
        }
      ]
    },
    {
      "cell_type": "markdown",
      "metadata": {
        "id": "B2qP03sKvvUk"
      },
      "source": [
        "###HW คำนวณเวลาเป็นวินาทีของเวลาต่อไปนี้โดยใช้คำสั่ง split() ช่วย (print ออกมาให้สวยงาม)\r\n",
        "\r\n",
        "12:30:15\r\n",
        "\r\n",
        "13:41:07\r\n",
        "\r\n",
        "12:53:15\r\n",
        "\r\n",
        "00:59:25\r\n",
        "\r\n",
        "11:11:11\r\n",
        "\r\n",
        "16:06:09\r\n",
        "\r\n",
        "21:12:30\r\n",
        "\r\n",
        "10:06:15\r\n",
        "\r\n",
        "ตัวอย่าง > 00:01:10 = 70 วินาที\r\n",
        "\r\n",
        "ตัวอย่าง > 01:00:01 = 3601 วินาที"
      ]
    },
    {
      "cell_type": "code",
      "metadata": {
        "id": "t8_s1ec1vq9P",
        "colab": {
          "base_uri": "https://localhost:8080/"
        },
        "outputId": "9383c424-696d-418e-9055-cddea5408e55"
      },
      "source": [
        "q1 = '12:30:15'\r\n",
        "q1.split(':')\r\n",
        "list_q1= [12,30,15]\r\n",
        "h1  = list_q1[0]*3600\r\n",
        "min1 = list_q1[1]*60\r\n",
        "sec1  = list_q1[2]\r\n",
        "ans1 = h1+min1+sec1 \r\n",
        "print(ans1,'วินาที')"
      ],
      "execution_count": 84,
      "outputs": [
        {
          "output_type": "stream",
          "text": [
            "45015 วินาที\n"
          ],
          "name": "stdout"
        }
      ]
    },
    {
      "cell_type": "code",
      "metadata": {
        "id": "FCJYCGsMf4dI",
        "colab": {
          "base_uri": "https://localhost:8080/"
        },
        "outputId": "4d8742d1-419e-4a48-ce0a-d8516a306464"
      },
      "source": [
        "q2 = '13:41:07'\r\n",
        "q2.split(':')\r\n",
        "list_q2 = [13,41,7]\r\n",
        "h2  = list_q2[0]*3600\r\n",
        "min2 = list_q2[1]*60\r\n",
        "sec2  = list_q2[2]\r\n",
        "ans2 = h2+min2+sec2 \r\n",
        "print(ans2,'วินาที')"
      ],
      "execution_count": 77,
      "outputs": [
        {
          "output_type": "stream",
          "text": [
            "49267 วินาที\n"
          ],
          "name": "stdout"
        }
      ]
    },
    {
      "cell_type": "code",
      "metadata": {
        "id": "Oo4spjXchYqg",
        "colab": {
          "base_uri": "https://localhost:8080/"
        },
        "outputId": "915a72bc-ec8d-462d-8d41-ccc38e34fa08"
      },
      "source": [
        "q3 = '12:53:15'\r\n",
        "q3.split(':')\r\n",
        "list_q3 = [12,53,15]\r\n",
        "h3  = list_q3[0]*3600\r\n",
        "min3 = list_q3[1]*60\r\n",
        "sec3  = list_q3[2]\r\n",
        "ans3 = h3+min3+sec3 \r\n",
        "print(ans3,'วินาที')"
      ],
      "execution_count": 78,
      "outputs": [
        {
          "output_type": "stream",
          "text": [
            "46395 วินาที\n"
          ],
          "name": "stdout"
        }
      ]
    },
    {
      "cell_type": "code",
      "metadata": {
        "id": "CVSuN1f4iaTW",
        "colab": {
          "base_uri": "https://localhost:8080/"
        },
        "outputId": "926720d0-aaec-4440-a9ba-f8f15008b2a3"
      },
      "source": [
        "q4 = '00:59:25'\r\n",
        "q4.split(':')\r\n",
        "list_q4 = [00,59,25]\r\n",
        "h4  = list_q4[0]*3600\r\n",
        "min4 = list_q4[1]*60\r\n",
        "sec4  = list_q4[2]\r\n",
        "ans4 = h4+min4+sec4 \r\n",
        "print(ans4,'วินาที')"
      ],
      "execution_count": 79,
      "outputs": [
        {
          "output_type": "stream",
          "text": [
            "3565 วินาที\n"
          ],
          "name": "stdout"
        }
      ]
    },
    {
      "cell_type": "code",
      "metadata": {
        "id": "iRKV_Nrnjb61",
        "colab": {
          "base_uri": "https://localhost:8080/"
        },
        "outputId": "a5a3447c-b0c1-4679-8b68-2a53bc6e46a4"
      },
      "source": [
        "q5 = '11:11:11'\r\n",
        "q5.split(':')\r\n",
        "list_q5 = [11,11,11]\r\n",
        "h5  = list_q5[0]*3600\r\n",
        "min5 = list_q5[1]*60\r\n",
        "sec5  = list_q5[2]\r\n",
        "ans5 = h5+min5+sec5 \r\n",
        "print(ans5,'วินาที')"
      ],
      "execution_count": 80,
      "outputs": [
        {
          "output_type": "stream",
          "text": [
            "40271 วินาที\n"
          ],
          "name": "stdout"
        }
      ]
    },
    {
      "cell_type": "code",
      "metadata": {
        "id": "jFgLtjADjwHD",
        "colab": {
          "base_uri": "https://localhost:8080/"
        },
        "outputId": "0e3acc33-dd7b-4d33-d27b-bc89f3d3e1a8"
      },
      "source": [
        "q6 = '16:06:09'\r\n",
        "q6.split(':')\r\n",
        "list_q6 = [16,6,9]\r\n",
        "h6  = list_q6[0]*3600\r\n",
        "min6 = list_q6[1]*60\r\n",
        "sec6  = list_q6[2]\r\n",
        "ans6 = h6+min6+sec6 \r\n",
        "print(ans6,'วินาที')"
      ],
      "execution_count": 81,
      "outputs": [
        {
          "output_type": "stream",
          "text": [
            "57969 วินาที\n"
          ],
          "name": "stdout"
        }
      ]
    },
    {
      "cell_type": "code",
      "metadata": {
        "id": "IhYkLvRmkIBs",
        "colab": {
          "base_uri": "https://localhost:8080/"
        },
        "outputId": "5f2a556d-aa9f-451b-9478-e8ff87c0435e"
      },
      "source": [
        "q7 = '21:12:30'\r\n",
        "q7.split(':')\r\n",
        "list_q7 = [21,12,30]\r\n",
        "h7  = list_q7[0]*3600\r\n",
        "min7 = list_q7[1]*60\r\n",
        "sec7  = list_q7[2]\r\n",
        "ans7 = h7+min7+sec7 \r\n",
        "print(ans7,'วินาที')"
      ],
      "execution_count": 82,
      "outputs": [
        {
          "output_type": "stream",
          "text": [
            "76350 วินาที\n"
          ],
          "name": "stdout"
        }
      ]
    },
    {
      "cell_type": "code",
      "metadata": {
        "id": "bXvp8is3lHUa",
        "colab": {
          "base_uri": "https://localhost:8080/"
        },
        "outputId": "c5ba9e01-305f-4d68-9acc-ba6f2391330a"
      },
      "source": [
        "q8 = '10:06:15'\r\n",
        "q8.split(':')\r\n",
        "list_q8 = [10,6,15]\r\n",
        "h8  = list_q8[0]*3600\r\n",
        "min8 = list_q8[1]*60\r\n",
        "sec8  = list_q8[2]\r\n",
        "ans8 = h8+min8+sec8 \r\n",
        "print(ans8,'วินาที')"
      ],
      "execution_count": 85,
      "outputs": [
        {
          "output_type": "stream",
          "text": [
            "36375 วินาที\n"
          ],
          "name": "stdout"
        }
      ]
    },
    {
      "cell_type": "markdown",
      "metadata": {
        "id": "B0XWptOWOO-7"
      },
      "source": [
        "####เฉลยอาจารย์"
      ]
    },
    {
      "cell_type": "code",
      "metadata": {
        "id": "3Geqy3pkldW2",
        "outputId": "e89a4da9-46a9-4d40-dfd9-b476b19be9b5",
        "colab": {
          "base_uri": "https://localhost:8080/"
        }
      },
      "source": [
        "q1 = '12:30:15'\r\n",
        "q1_sp = q1.split(':')\r\n",
        "print(q1_sp)\r\n",
        "answer1 = int(q1_sp[0]) * 3600 + int(q1_sp[1]) * 60 + int(q1_sp[2])\r\n",
        "print(answer1)"
      ],
      "execution_count": 93,
      "outputs": [
        {
          "output_type": "stream",
          "text": [
            "['12', '30', '15']\n",
            "45015\n"
          ],
          "name": "stdout"
        }
      ]
    },
    {
      "cell_type": "code",
      "metadata": {
        "id": "ZtWAp4wyOpli",
        "outputId": "91bfeb8a-a719-48c9-9157-cfe233c531d2",
        "colab": {
          "base_uri": "https://localhost:8080/"
        }
      },
      "source": [
        "print(f'เวลา{q1}คำนวนเป็นเวลาได้เท่ากับ{answer1}')"
      ],
      "execution_count": 94,
      "outputs": [
        {
          "output_type": "stream",
          "text": [
            "เวลา12:30:15คำนวนเป็นเวลาได้เท่ากับ45015\n"
          ],
          "name": "stdout"
        }
      ]
    },
    {
      "cell_type": "code",
      "metadata": {
        "id": "susfK-hzR48w"
      },
      "source": [
        ""
      ],
      "execution_count": null,
      "outputs": []
    }
  ]
}