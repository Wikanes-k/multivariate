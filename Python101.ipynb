{
  "nbformat": 4,
  "nbformat_minor": 0,
  "metadata": {
    "colab": {
      "name": "Python101.ipynb",
      "provenance": [],
      "authorship_tag": "ABX9TyPUQZqePVX57jck5ELi/2dV",
      "include_colab_link": true
    },
    "kernelspec": {
      "name": "python3",
      "display_name": "Python 3"
    }
  },
  "cells": [
    {
      "cell_type": "markdown",
      "metadata": {
        "id": "view-in-github",
        "colab_type": "text"
      },
      "source": [
        "<a href=\"https://colab.research.google.com/github/Wikanes-k/multivariate/blob/main/Python101.ipynb\" target=\"_parent\"><img src=\"https://colab.research.google.com/assets/colab-badge.svg\" alt=\"Open In Colab\"/></a>"
      ]
    },
    {
      "cell_type": "markdown",
      "metadata": {
        "id": "hoM-Ole6L5iG"
      },
      "source": [
        "ตัวแปร variable\r\n",
        "\r\n",
        "หลักการตั้งชื่อตัวแปรเบื้องต้น\r\n",
        "\r\n",
        "\r\n",
        "1.   ตั้งให้สื่อ\r\n",
        "2.   ภาษาอังกฤษ\r\n",
        "3.   ใช้ตัวเลขได้แต่ห้ามขึ้นต้นด้วยตัวเลข\r\n",
        "4.   ห้ามเว้นวรรค\r\n",
        "5.   ตัวเล็กกับตัวใหญ่ไม่เหมือนกัน\r\n",
        "\r\n",
        "มี output 2 mode : ออกหน้าจอ กับ เข้าไปเก็บในตัวแปร \r\n",
        "\r\n",
        "\r\n",
        "\r\n"
      ]
    },
    {
      "cell_type": "code",
      "metadata": {
        "colab": {
          "base_uri": "https://localhost:8080/"
        },
        "id": "eHg8lqkBLvne",
        "outputId": "eebc6f7a-d72a-4ab4-d7f3-4a420c956b45"
      },
      "source": [
        "3.14159   # hashtag  หรือ  sharp  คือ comment >> อันนี้คือ output "
      ],
      "execution_count": 1,
      "outputs": [
        {
          "output_type": "execute_result",
          "data": {
            "text/plain": [
              "3.14159"
            ]
          },
          "metadata": {
            "tags": []
          },
          "execution_count": 1
        }
      ]
    },
    {
      "cell_type": "code",
      "metadata": {
        "id": "UwyXD-o2MvtP"
      },
      "source": [
        "pi = 3.14159       #out put ที่เข้าไปอยู่ในตัวแปร"
      ],
      "execution_count": 2,
      "outputs": []
    },
    {
      "cell_type": "code",
      "metadata": {
        "colab": {
          "base_uri": "https://localhost:8080/"
        },
        "id": "0CAJDxEWNCgE",
        "outputId": "9f56e9ed-e1e5-496b-abe7-a32996b00a23"
      },
      "source": [
        "pi                       #run ตัวแปร แล้วจะได้ out put ออกมา"
      ],
      "execution_count": 3,
      "outputs": [
        {
          "output_type": "execute_result",
          "data": {
            "text/plain": [
              "3.14159"
            ]
          },
          "metadata": {
            "tags": []
          },
          "execution_count": 3
        }
      ]
    },
    {
      "cell_type": "code",
      "metadata": {
        "colab": {
          "base_uri": "https://localhost:8080/"
        },
        "id": "sqbe6l12NEou",
        "outputId": "8282ffe9-fdb5-47a3-fd28-97fc0c34f762"
      },
      "source": [
        "a = 1234567       # out put ที่เข้าไปอยู่ในตัวแปร แล้วก็แสดงผล a ออกมา\r\n",
        "print(a)"
      ],
      "execution_count": 4,
      "outputs": [
        {
          "output_type": "stream",
          "text": [
            "1234567\n"
          ],
          "name": "stdout"
        }
      ]
    },
    {
      "cell_type": "markdown",
      "metadata": {
        "id": "zoG0ULyHNvnu"
      },
      "source": [
        "#ชนิดของตัวแปร 3 ชนิด"
      ]
    },
    {
      "cell_type": "markdown",
      "metadata": {
        "id": "EFe94-P2Oo9k"
      },
      "source": [
        "###1จำนวนเต็ม(integer, int)"
      ]
    },
    {
      "cell_type": "code",
      "metadata": {
        "colab": {
          "base_uri": "https://localhost:8080/"
        },
        "id": "ypi4xEJCOydS",
        "outputId": "04fe8978-69b3-4d47-96f7-f95877ff756d"
      },
      "source": [
        "aaa = 1092       # ให้ aaa เท่ากับจำนวนเต็มแล้วแสดงผลออกมา\r\n",
        "print(aaa)"
      ],
      "execution_count": 5,
      "outputs": [
        {
          "output_type": "stream",
          "text": [
            "1092\n"
          ],
          "name": "stdout"
        }
      ]
    },
    {
      "cell_type": "markdown",
      "metadata": {
        "id": "TeqpvIqBO9bV"
      },
      "source": [
        "###2จำนวนจริง(float)"
      ]
    },
    {
      "cell_type": "code",
      "metadata": {
        "colab": {
          "base_uri": "https://localhost:8080/"
        },
        "id": "DDf3ZPwROzFs",
        "outputId": "07069358-2646-4001-8638-3edfcdcafc41"
      },
      "source": [
        "bbb = 11.      # ให้ bbb เท่ากับจำนวนจริงแล้วแสดงผลออกมา\r\n",
        "print(bbb)"
      ],
      "execution_count": 7,
      "outputs": [
        {
          "output_type": "stream",
          "text": [
            "11.0\n"
          ],
          "name": "stdout"
        }
      ]
    },
    {
      "cell_type": "markdown",
      "metadata": {
        "id": "l-yerTDaPPxi"
      },
      "source": [
        "###3ตัวอักษร-ข้อความ (character และ text,string)"
      ]
    },
    {
      "cell_type": "code",
      "metadata": {
        "colab": {
          "base_uri": "https://localhost:8080/"
        },
        "id": "cZyyNgOAPI3J",
        "outputId": "0e4c1799-7ad5-4268-aa93-07b4e5122894"
      },
      "source": [
        "ccc = '123456' #เราใช้ sring quote ' หรือ double quote \" ล้อมรอบตัวหนังสือเพื่อระบุว่าเป็น character-string\r\n",
        "print(ccc)"
      ],
      "execution_count": 9,
      "outputs": [
        {
          "output_type": "stream",
          "text": [
            "123456\n"
          ],
          "name": "stdout"
        }
      ]
    },
    {
      "cell_type": "code",
      "metadata": {
        "colab": {
          "base_uri": "https://localhost:8080/"
        },
        "id": "YGPEud9KP55_",
        "outputId": "577ef313-4128-4010-db36-d46b6ac83bb6"
      },
      "source": [
        "aaa+bbb  #float + int = float"
      ],
      "execution_count": 10,
      "outputs": [
        {
          "output_type": "execute_result",
          "data": {
            "text/plain": [
              "1103.0"
            ]
          },
          "metadata": {
            "tags": []
          },
          "execution_count": 10
        }
      ]
    },
    {
      "cell_type": "code",
      "metadata": {
        "colab": {
          "base_uri": "https://localhost:8080/"
        },
        "id": "_U-Zdaa7QEhi",
        "outputId": "38b8e1e8-e757-49b7-8c2b-81c728f4f6b6"
      },
      "source": [
        "ddd = 'วิฆเนศ'   #สามาถใช้ภาษาไทยได้\r\n",
        "print(ddd)"
      ],
      "execution_count": 12,
      "outputs": [
        {
          "output_type": "stream",
          "text": [
            "วิฆเนศ\n"
          ],
          "name": "stdout"
        }
      ]
    },
    {
      "cell_type": "markdown",
      "metadata": {
        "id": "B2lpSVmjQ4aq"
      },
      "source": [
        "##การเปลี่ยนชนิดของตัวแปร variable casting"
      ]
    },
    {
      "cell_type": "code",
      "metadata": {
        "colab": {
          "base_uri": "https://localhost:8080/"
        },
        "id": "GW4dmWrSQyi_",
        "outputId": "19ffee9c-42bf-4009-a67e-21bba34b95e5"
      },
      "source": [
        "aaa + int(ccc)  #ใส่ int หน้า ccc เพื่อแปลงเป็นจำนวนเต็ม\r\n"
      ],
      "execution_count": 15,
      "outputs": [
        {
          "output_type": "execute_result",
          "data": {
            "text/plain": [
              "124548"
            ]
          },
          "metadata": {
            "tags": []
          },
          "execution_count": 15
        }
      ]
    },
    {
      "cell_type": "code",
      "metadata": {
        "colab": {
          "base_uri": "https://localhost:8080/"
        },
        "id": "nydm8G09RnVF",
        "outputId": "dae68a14-5ccd-49b0-98c5-9d0f37c3fe06"
      },
      "source": [
        "aaa + float(ccc)   #ใส่ float หน้า ccc เพื่อแปลงเป็นจำนวนจริง   /    int + float = float\r\n"
      ],
      "execution_count": 14,
      "outputs": [
        {
          "output_type": "execute_result",
          "data": {
            "text/plain": [
              "124548.0"
            ]
          },
          "metadata": {
            "tags": []
          },
          "execution_count": 14
        }
      ]
    },
    {
      "cell_type": "code",
      "metadata": {
        "colab": {
          "base_uri": "https://localhost:8080/",
          "height": 35
        },
        "id": "mtZhxQFaRsbj",
        "outputId": "6b4cc148-910a-41c1-a71f-f7243d57a824"
      },
      "source": [
        "str(aaa)   # ใส่ str หน้า aaa เพื่อแปลงเป็นตัวอักษร"
      ],
      "execution_count": 50,
      "outputs": [
        {
          "output_type": "execute_result",
          "data": {
            "application/vnd.google.colaboratory.intrinsic+json": {
              "type": "string"
            },
            "text/plain": [
              "'1092'"
            ]
          },
          "metadata": {
            "tags": []
          },
          "execution_count": 50
        }
      ]
    },
    {
      "cell_type": "markdown",
      "metadata": {
        "id": "9n6CVH_ySZM0"
      },
      "source": [
        "##การดำเนินการ Operation (Operator +,-,*,/,%)"
      ]
    },
    {
      "cell_type": "code",
      "metadata": {
        "colab": {
          "base_uri": "https://localhost:8080/",
          "height": 163
        },
        "id": "bWYXlR4dR0Ua",
        "outputId": "59f4ecbb-806a-4a19-aca1-804da67d1e12"
      },
      "source": [
        "a+b   # Error เพราะ ไม่มีตัวแปร b"
      ],
      "execution_count": 17,
      "outputs": [
        {
          "output_type": "error",
          "ename": "NameError",
          "evalue": "ignored",
          "traceback": [
            "\u001b[0;31m---------------------------------------------------------------------------\u001b[0m",
            "\u001b[0;31mNameError\u001b[0m                                 Traceback (most recent call last)",
            "\u001b[0;32m<ipython-input-17-ca730b97bf8a>\u001b[0m in \u001b[0;36m<module>\u001b[0;34m()\u001b[0m\n\u001b[0;32m----> 1\u001b[0;31m \u001b[0ma\u001b[0m\u001b[0;34m+\u001b[0m\u001b[0mb\u001b[0m\u001b[0;34m\u001b[0m\u001b[0;34m\u001b[0m\u001b[0m\n\u001b[0m",
            "\u001b[0;31mNameError\u001b[0m: name 'b' is not defined"
          ]
        }
      ]
    },
    {
      "cell_type": "code",
      "metadata": {
        "colab": {
          "base_uri": "https://localhost:8080/"
        },
        "id": "Ktv1iGecS1Wx",
        "outputId": "259b61d4-7bf2-4ff8-b5cf-01ad6edf50dd"
      },
      "source": [
        "aaa+bbb              #บวกเลข   /   int + float  = float"
      ],
      "execution_count": 18,
      "outputs": [
        {
          "output_type": "execute_result",
          "data": {
            "text/plain": [
              "1103.0"
            ]
          },
          "metadata": {
            "tags": []
          },
          "execution_count": 18
        }
      ]
    },
    {
      "cell_type": "code",
      "metadata": {
        "colab": {
          "base_uri": "https://localhost:8080/"
        },
        "id": "iM4bSEqEf-nG",
        "outputId": "ae77d18d-8c42-46ac-8483-412a25cb94b0"
      },
      "source": [
        "aaa-bbb               #ลบเลข    /   int - float  = float"
      ],
      "execution_count": 42,
      "outputs": [
        {
          "output_type": "execute_result",
          "data": {
            "text/plain": [
              "1081.0"
            ]
          },
          "metadata": {
            "tags": []
          },
          "execution_count": 42
        }
      ]
    },
    {
      "cell_type": "code",
      "metadata": {
        "colab": {
          "base_uri": "https://localhost:8080/"
        },
        "id": "qti5F93rS3-z",
        "outputId": "b85598a1-8b62-46c5-bf30-f5c40f16495b"
      },
      "source": [
        "ab = aaa*bbb      #aaa คูณ bbb ในตัวแปร ab แล้วแสดงผลตัวแปร ab\r\n",
        "print(ab)"
      ],
      "execution_count": 19,
      "outputs": [
        {
          "output_type": "stream",
          "text": [
            "12012.0\n"
          ],
          "name": "stdout"
        }
      ]
    },
    {
      "cell_type": "code",
      "metadata": {
        "colab": {
          "base_uri": "https://localhost:8080/"
        },
        "id": "tFBpQkiBTFbo",
        "outputId": "309d080f-e2cc-48b9-fd81-475891d6c5ab"
      },
      "source": [
        "ab+int(ccc)          #ใส่ int หน้า ccc เพื่อแปลงเป็นจำนวนเต็ม แล้วบวกกับตัวแปร ab    /   float + int = float"
      ],
      "execution_count": 20,
      "outputs": [
        {
          "output_type": "execute_result",
          "data": {
            "text/plain": [
              "135468.0"
            ]
          },
          "metadata": {
            "tags": []
          },
          "execution_count": 20
        }
      ]
    },
    {
      "cell_type": "markdown",
      "metadata": {
        "id": "-e5E5eqGTMMI"
      },
      "source": [
        "###% คือ modulo "
      ]
    },
    {
      "cell_type": "code",
      "metadata": {
        "colab": {
          "base_uri": "https://localhost:8080/"
        },
        "id": "-f3z59wuTJ_o",
        "outputId": "7d57f5eb-4ef4-4752-87ec-7671abb46a39"
      },
      "source": [
        "5%3  #หารเอาเศษ"
      ],
      "execution_count": 21,
      "outputs": [
        {
          "output_type": "execute_result",
          "data": {
            "text/plain": [
              "2"
            ]
          },
          "metadata": {
            "tags": []
          },
          "execution_count": 21
        }
      ]
    },
    {
      "cell_type": "code",
      "metadata": {
        "colab": {
          "base_uri": "https://localhost:8080/"
        },
        "id": "fLL-KJLoTmfH",
        "outputId": "bd22547b-731b-4f21-9b1f-91d0e8bb5cd2"
      },
      "source": [
        "7%3  #หารเอาเศษ"
      ],
      "execution_count": 22,
      "outputs": [
        {
          "output_type": "execute_result",
          "data": {
            "text/plain": [
              "1"
            ]
          },
          "metadata": {
            "tags": []
          },
          "execution_count": 22
        }
      ]
    },
    {
      "cell_type": "markdown",
      "metadata": {
        "id": "AFThDxWsTzZJ"
      },
      "source": [
        "#คำสั่ง print แบบพิเศษ (การ format string)"
      ]
    },
    {
      "cell_type": "code",
      "metadata": {
        "colab": {
          "base_uri": "https://localhost:8080/"
        },
        "id": "IADLB-xGTtW1",
        "outputId": "60c36055-045e-44dd-8a31-999608faa08a"
      },
      "source": [
        "print('ตัวแปร')  #สิ่งที่อยู่ในวงเล็บคือ ตัวแปร และ string"
      ],
      "execution_count": 23,
      "outputs": [
        {
          "output_type": "stream",
          "text": [
            "ตัวแปร\n"
          ],
          "name": "stdout"
        }
      ]
    },
    {
      "cell_type": "code",
      "metadata": {
        "colab": {
          "base_uri": "https://localhost:8080/"
        },
        "id": "xW3IWUHAUT2a",
        "outputId": "37121644-9838-4278-ced7-a149e692052a"
      },
      "source": [
        "print(f'% คือการหารเอาเศษ เช่น 7%3 = {7%3}')  #เพื่ม f หน้า 'string' และใช้ {} ใส่ code ข้างในปีกกาใส่โค้ด"
      ],
      "execution_count": 24,
      "outputs": [
        {
          "output_type": "stream",
          "text": [
            "% คือการหารเอาเศษ เช่น 7%3 = 1\n"
          ],
          "name": "stdout"
        }
      ]
    },
    {
      "cell_type": "code",
      "metadata": {
        "colab": {
          "base_uri": "https://localhost:8080/"
        },
        "id": "8V-qC3IUUuLZ",
        "outputId": "992f9640-b0eb-4aef-996b-492ce0bf50ca"
      },
      "source": [
        "print(f'% คือการหารเอาเศษ เช่น {7%3}\\ \r\n",
        "แต่\\n/คือการหารปกติ เช่น 7/3 ={7/3}\\\r\n",
        "และ\\n//คือการหารเอาเศษ เช่น 7//3 = {7//3}\\\r\n",
        "หรือ\\nใช้int() เพื่อหารเอาส่วน เช่น int(7/3) = {int(7/3)}')  #\\nคือการขึ้นบรรทัดใหม่ คอมเห็น   \\ทำให้คอมมองไม่เห็นแต่เราเห็น"
      ],
      "execution_count": 25,
      "outputs": [
        {
          "output_type": "stream",
          "text": [
            "% คือการหารเอาเศษ เช่น 1\\ แต่\n",
            "/คือการหารปกติ เช่น 7/3 =2.3333333333333335\\และ\n",
            "//คือการหารเอาเศษ เช่น 7//3 = 2\\หรือ\n",
            "ใช้int() เพื่อหารเอาส่วน เช่น int(7/3) = 2\n"
          ],
          "name": "stdout"
        }
      ]
    },
    {
      "cell_type": "markdown",
      "metadata": {
        "id": "m5MudCkzXABD"
      },
      "source": [
        "#DATA STRUCTURE(โครงสร้างข้อมูล)"
      ]
    },
    {
      "cell_type": "code",
      "metadata": {
        "colab": {
          "base_uri": "https://localhost:8080/"
        },
        "id": "Qiq0YmHiWWqy",
        "outputId": "79ff4556-ce2d-4ef2-facf-5f1dde38727d"
      },
      "source": [
        "[111,'c','งง',aaa]     # ข้อมูล list out put"
      ],
      "execution_count": 28,
      "outputs": [
        {
          "output_type": "execute_result",
          "data": {
            "text/plain": [
              "[111, 'c', 'งง', 1092]"
            ]
          },
          "metadata": {
            "tags": []
          },
          "execution_count": 28
        }
      ]
    },
    {
      "cell_type": "markdown",
      "metadata": {
        "id": "kr53VHeBXKRo"
      },
      "source": [
        "##list คือ การเอาข้อมูลหลายๆตัวมาเรียงต่อกัน\r\n",
        "###list สามารถสร้างได้2แบบ ดังนี้"
      ]
    },
    {
      "cell_type": "markdown",
      "metadata": {
        "id": "MMp3CO9dXqeI"
      },
      "source": [
        "### แบบที่1 > square brackets"
      ]
    },
    {
      "cell_type": "code",
      "metadata": {
        "colab": {
          "base_uri": "https://localhost:8080/"
        },
        "id": "JnWuUPgOXixe",
        "outputId": "bfca8321-8886-4ec9-d132-4fe322307413"
      },
      "source": [
        "list_a = []  #listว่าง\r\n",
        "print(list_a)"
      ],
      "execution_count": 29,
      "outputs": [
        {
          "output_type": "stream",
          "text": [
            "[]\n"
          ],
          "name": "stdout"
        }
      ]
    },
    {
      "cell_type": "code",
      "metadata": {
        "colab": {
          "base_uri": "https://localhost:8080/"
        },
        "id": "BI7tWQQmX66m",
        "outputId": "286dfe0e-810f-4203-c7a0-69de9213a411"
      },
      "source": [
        "list_b = [111,'c','งง',aaa]   # แสดงผลตัวแปร \r\n",
        "print(list_b)"
      ],
      "execution_count": 30,
      "outputs": [
        {
          "output_type": "stream",
          "text": [
            "[111, 'c', 'งง', 1092]\n"
          ],
          "name": "stdout"
        }
      ]
    },
    {
      "cell_type": "markdown",
      "metadata": {
        "id": "vgzbvVv_YGCS"
      },
      "source": [
        "####ลำดับที่อยู่ใน list มีความสำคัญ (ลำดับใน list เริ่มจาก 0,1,2,...)"
      ]
    },
    {
      "cell_type": "code",
      "metadata": {
        "colab": {
          "base_uri": "https://localhost:8080/",
          "height": 35
        },
        "id": "2W76rXTQYYXP",
        "outputId": "105a5729-60da-40e2-8faf-9550fbda4dc2"
      },
      "source": [
        "list_b[2]   # แสดงผล ตัวที่3ใน list_b"
      ],
      "execution_count": 53,
      "outputs": [
        {
          "output_type": "execute_result",
          "data": {
            "application/vnd.google.colaboratory.intrinsic+json": {
              "type": "string"
            },
            "text/plain": [
              "'งง'"
            ]
          },
          "metadata": {
            "tags": []
          },
          "execution_count": 53
        }
      ]
    },
    {
      "cell_type": "markdown",
      "metadata": {
        "id": "rEWMn3buYUMi"
      },
      "source": [
        "###แบบที่2"
      ]
    },
    {
      "cell_type": "code",
      "metadata": {
        "colab": {
          "base_uri": "https://localhost:8080/"
        },
        "id": "8LourXWtYFSf",
        "outputId": "61d5307f-46f4-47bc-bf10-e11f942af778"
      },
      "source": [
        "list_c = list()   #list ว่าง\r\n",
        "print(list_c)"
      ],
      "execution_count": 31,
      "outputs": [
        {
          "output_type": "stream",
          "text": [
            "[]\n"
          ],
          "name": "stdout"
        }
      ]
    },
    {
      "cell_type": "markdown",
      "metadata": {
        "id": "-ZfuTo8DYlzG"
      },
      "source": [
        "###append() เพิ่มสมาชิกใน list"
      ]
    },
    {
      "cell_type": "code",
      "metadata": {
        "colab": {
          "base_uri": "https://localhost:8080/"
        },
        "id": "rWfurFFkYkcg",
        "outputId": "dae68444-8abc-46f1-94ca-35a8f912d482"
      },
      "source": [
        "list_b.append('u')   # เพิ่ม u ใน list_b\r\n",
        "print(list_b)"
      ],
      "execution_count": 32,
      "outputs": [
        {
          "output_type": "stream",
          "text": [
            "[111, 'c', 'งง', 1092, 'u']\n"
          ],
          "name": "stdout"
        }
      ]
    },
    {
      "cell_type": "markdown",
      "metadata": {
        "id": "-jD-QAJFZV09"
      },
      "source": [
        "ตัวที่อยู่ในวงเล็บหลังจากตัวแปร list เรียกว่า index ใช้สำหรับชี้ข้อมูลใน list\r\n",
        "\r\n",
        "(ชี้จากข้างหน้า,ชี้จากข้างหลัง)\r\n",
        "\r\n",
        "0 คือสมาชิกตัวแรก , -1 คือสมาชิกตัวสุดท้าย"
      ]
    },
    {
      "cell_type": "code",
      "metadata": {
        "colab": {
          "base_uri": "https://localhost:8080/",
          "height": 35
        },
        "id": "gdzzCsJ4Y1BK",
        "outputId": "35705a30-9179-4882-870a-dcde6b7c1688"
      },
      "source": [
        "list_b[-1]   # แสดงผลตัวที่1นับจากสุดท้ายใน list_b "
      ],
      "execution_count": 34,
      "outputs": [
        {
          "output_type": "execute_result",
          "data": {
            "application/vnd.google.colaboratory.intrinsic+json": {
              "type": "string"
            },
            "text/plain": [
              "'u'"
            ]
          },
          "metadata": {
            "tags": []
          },
          "execution_count": 34
        }
      ]
    },
    {
      "cell_type": "markdown",
      "metadata": {
        "id": "LHO8MIatZl9n"
      },
      "source": [
        "###String > list of characters\r\n",
        "\r\n"
      ]
    },
    {
      "cell_type": "code",
      "metadata": {
        "colab": {
          "base_uri": "https://localhost:8080/"
        },
        "id": "K4pOsTY9Y40M",
        "outputId": "e99c1c95-906f-454b-ad6a-3e8a269c73fc"
      },
      "source": [
        "t = 'python is easy'       # แสดงตัวหนังสือ\r\n",
        "print(t)"
      ],
      "execution_count": 35,
      "outputs": [
        {
          "output_type": "stream",
          "text": [
            "python is easy\n"
          ],
          "name": "stdout"
        }
      ]
    },
    {
      "cell_type": "code",
      "metadata": {
        "colab": {
          "base_uri": "https://localhost:8080/",
          "height": 35
        },
        "id": "xfactSNdZ8Ck",
        "outputId": "4a1f37a0-8b7b-4423-bc93-1b499da486ca"
      },
      "source": [
        "t[1]                         #ตัวหนังสือตัวที่2 (โดยนับจากข้างหน้า 0,1,...)"
      ],
      "execution_count": 36,
      "outputs": [
        {
          "output_type": "execute_result",
          "data": {
            "application/vnd.google.colaboratory.intrinsic+json": {
              "type": "string"
            },
            "text/plain": [
              "'y'"
            ]
          },
          "metadata": {
            "tags": []
          },
          "execution_count": 36
        }
      ]
    },
    {
      "cell_type": "code",
      "metadata": {
        "colab": {
          "base_uri": "https://localhost:8080/",
          "height": 35
        },
        "id": "MuCxGj4oZ-Xp",
        "outputId": "370387d3-7b4e-4416-ec6d-5e507d11681f"
      },
      "source": [
        "t[-4]                        #ตัวหนังสือตัวที่4 (โดยนับจากข้างหลัง)"
      ],
      "execution_count": 37,
      "outputs": [
        {
          "output_type": "execute_result",
          "data": {
            "application/vnd.google.colaboratory.intrinsic+json": {
              "type": "string"
            },
            "text/plain": [
              "'e'"
            ]
          },
          "metadata": {
            "tags": []
          },
          "execution_count": 37
        }
      ]
    },
    {
      "cell_type": "code",
      "metadata": {
        "colab": {
          "base_uri": "https://localhost:8080/",
          "height": 35
        },
        "id": "b9iJoveTaCRH",
        "outputId": "99443c52-23cd-4b91-8efa-ee8b2c9e98fb"
      },
      "source": [
        "t[4]                         #ตัวหนังสือตัวที่4 (โดยนับจากข้างหน้า 0,1,2,3,4,...)"
      ],
      "execution_count": 38,
      "outputs": [
        {
          "output_type": "execute_result",
          "data": {
            "application/vnd.google.colaboratory.intrinsic+json": {
              "type": "string"
            },
            "text/plain": [
              "'o'"
            ]
          },
          "metadata": {
            "tags": []
          },
          "execution_count": 38
        }
      ]
    },
    {
      "cell_type": "code",
      "metadata": {
        "colab": {
          "base_uri": "https://localhost:8080/",
          "height": 35
        },
        "id": "vJkoGjSPaO3f",
        "outputId": "cf4b8fb4-3c88-495c-b26c-aa1edc91ef50"
      },
      "source": [
        "t[6]                         #ตัวหนังสือตัวที่6 (โดยนับจากข้างหน้า 0,1,2,3,4,5,6,...)"
      ],
      "execution_count": 39,
      "outputs": [
        {
          "output_type": "execute_result",
          "data": {
            "application/vnd.google.colaboratory.intrinsic+json": {
              "type": "string"
            },
            "text/plain": [
              "' '"
            ]
          },
          "metadata": {
            "tags": []
          },
          "execution_count": 39
        }
      ]
    },
    {
      "cell_type": "markdown",
      "metadata": {
        "id": "TFO2_wJniy5a"
      },
      "source": [
        "จบ5/1/64"
      ]
    }
  ]
}