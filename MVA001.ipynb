{
  "nbformat": 4,
  "nbformat_minor": 0,
  "metadata": {
    "colab": {
      "name": "MVA001.ipynb",
      "provenance": [],
      "toc_visible": true,
      "include_colab_link": true
    },
    "kernelspec": {
      "name": "python3",
      "display_name": "Python 3"
    }
  },
  "cells": [
    {
      "cell_type": "markdown",
      "metadata": {
        "id": "view-in-github",
        "colab_type": "text"
      },
      "source": [
        "<a href=\"https://colab.research.google.com/github/Wikanes-k/multivariate/blob/main/MVA001.ipynb\" target=\"_parent\"><img src=\"https://colab.research.google.com/assets/colab-badge.svg\" alt=\"Open In Colab\"/></a>"
      ]
    },
    {
      "cell_type": "markdown",
      "metadata": {
        "id": "vvZaTokES8gT"
      },
      "source": [
        "Scalar, Vector, Matrix"
      ]
    },
    {
      "cell_type": "markdown",
      "metadata": {
        "id": "C_z7nG5_Y1Z1"
      },
      "source": [
        "##Scalar"
      ]
    },
    {
      "cell_type": "code",
      "metadata": {
        "id": "n5z5dWDDTwm7"
      },
      "source": [
        "import numpy as np"
      ],
      "execution_count": 1,
      "outputs": []
    },
    {
      "cell_type": "code",
      "metadata": {
        "colab": {
          "base_uri": "https://localhost:8080/"
        },
        "id": "S_yOUGFJS3oD",
        "outputId": "27efb4e8-9ac8-4f06-ba72-d6a63d34d35d"
      },
      "source": [
        "scalar_a = 10  #scalar บอกขนาด\r\n",
        "print(scalar_a)"
      ],
      "execution_count": 2,
      "outputs": [
        {
          "output_type": "stream",
          "text": [
            "10\n"
          ],
          "name": "stdout"
        }
      ]
    },
    {
      "cell_type": "markdown",
      "metadata": {
        "id": "Z8O_NVejXWhr"
      },
      "source": [
        "##Vector"
      ]
    },
    {
      "cell_type": "code",
      "metadata": {
        "colab": {
          "base_uri": "https://localhost:8080/"
        },
        "id": "b6gXe_OATmrL",
        "outputId": "2e8957b2-dc9c-48b6-ca46-cd6b4bfb34ef"
      },
      "source": [
        "vector_b = np.zeros([2,1])  #vector มีขนาดและทิศทาง\r\n",
        "vector_b[0,0] = 2\r\n",
        "vector_b[1,0] = 3\r\n",
        "print(vector_b)\r\n",
        "print(vector_b.shape)"
      ],
      "execution_count": 3,
      "outputs": [
        {
          "output_type": "stream",
          "text": [
            "[[2.]\n",
            " [3.]]\n",
            "(2, 1)\n"
          ],
          "name": "stdout"
        }
      ]
    },
    {
      "cell_type": "code",
      "metadata": {
        "colab": {
          "base_uri": "https://localhost:8080/"
        },
        "id": "LWmspz7IUsQs",
        "outputId": "d5b2d283-ba52-46e1-ee00-a4ac855e62d5"
      },
      "source": [
        "vector_c = np.array([[1],[3]])    #1=x, 3=y\r\n",
        "print(vector_c)\r\n",
        "print(vector_c.shape)"
      ],
      "execution_count": 4,
      "outputs": [
        {
          "output_type": "stream",
          "text": [
            "[[1]\n",
            " [3]]\n",
            "(2, 1)\n"
          ],
          "name": "stdout"
        }
      ]
    },
    {
      "cell_type": "code",
      "metadata": {
        "id": "Y68hQez9U-LB"
      },
      "source": [
        "from matplotlib import pyplot as plt"
      ],
      "execution_count": 5,
      "outputs": []
    },
    {
      "cell_type": "code",
      "metadata": {
        "colab": {
          "base_uri": "https://localhost:8080/",
          "height": 282
        },
        "id": "5K0hUhpGVIGs",
        "outputId": "67ed5172-0eeb-4b3f-baf4-cdd73f0bcc3a"
      },
      "source": [
        "plt.plot(vector_b[0,0],vector_b[1,0],'or')    #จุด1,3"
      ],
      "execution_count": 6,
      "outputs": [
        {
          "output_type": "execute_result",
          "data": {
            "text/plain": [
              "[<matplotlib.lines.Line2D at 0x7f3a452dc9e8>]"
            ]
          },
          "metadata": {
            "tags": []
          },
          "execution_count": 6
        },
        {
          "output_type": "display_data",
          "data": {
            "image/png": "[encoded data removed]",
            "text/plain": [
              "<Figure size 432x288 with 1 Axes>"
            ]
          },
          "metadata": {
            "tags": [],
            "needs_background": "light"
          }
        }
      ]
    },
    {
      "cell_type": "markdown",
      "metadata": {
        "id": "I81vQQcHXxMs"
      },
      "source": [
        "ขนาดของ vector คำนวณได้โดย พิธากอรัส"
      ]
    },
    {
      "cell_type": "code",
      "metadata": {
        "colab": {
          "base_uri": "https://localhost:8080/"
        },
        "id": "u4HLLZtaVjLS",
        "outputId": "9c45ebfe-2b74-43aa-b6df-151f52e27ab1"
      },
      "source": [
        "vector_b_size = ((vector_b[0,0]**2) + (vector_b[1,0]**2))**0.5\r\n",
        "print (vector_b_size)"
      ],
      "execution_count": 7,
      "outputs": [
        {
          "output_type": "stream",
          "text": [
            "3.605551275463989\n"
          ],
          "name": "stdout"
        }
      ]
    },
    {
      "cell_type": "markdown",
      "metadata": {
        "id": "3zb5yZnaZFAj"
      },
      "source": [
        "##Matrix"
      ]
    },
    {
      "cell_type": "code",
      "metadata": {
        "colab": {
          "base_uri": "https://localhost:8080/"
        },
        "id": "c9iqsOHzWm5J",
        "outputId": "eb067ae5-8514-4271-a13a-f5dfff41c020"
      },
      "source": [
        "matrix_d = np.array([[2,3],[1,4],[-1,1]])\r\n",
        "print(matrix_d)"
      ],
      "execution_count": 8,
      "outputs": [
        {
          "output_type": "stream",
          "text": [
            "[[ 2  3]\n",
            " [ 1  4]\n",
            " [-1  1]]\n"
          ],
          "name": "stdout"
        }
      ]
    },
    {
      "cell_type": "code",
      "metadata": {
        "colab": {
          "base_uri": "https://localhost:8080/"
        },
        "id": "wbLeDui0Z-B8",
        "outputId": "d6301b4d-e07e-47b0-9312-7045219a0f80"
      },
      "source": [
        "matrix_d = matrix_d.T\r\n",
        "print(matrix_d)"
      ],
      "execution_count": 9,
      "outputs": [
        {
          "output_type": "stream",
          "text": [
            "[[ 2  1 -1]\n",
            " [ 3  4  1]]\n"
          ],
          "name": "stdout"
        }
      ]
    },
    {
      "cell_type": "code",
      "metadata": {
        "colab": {
          "base_uri": "https://localhost:8080/"
        },
        "id": "9iPcJ1NecrKD",
        "outputId": "fe23b54c-4379-4a06-a400-084433d4c257"
      },
      "source": [
        "matrix_d[0,:]  #ตัดมาแถวx"
      ],
      "execution_count": 10,
      "outputs": [
        {
          "output_type": "execute_result",
          "data": {
            "text/plain": [
              "array([ 2,  1, -1])"
            ]
          },
          "metadata": {
            "tags": []
          },
          "execution_count": 10
        }
      ]
    },
    {
      "cell_type": "code",
      "metadata": {
        "colab": {
          "base_uri": "https://localhost:8080/",
          "height": 282
        },
        "id": "N7ez2X2LaO0w",
        "outputId": "12df55b0-7d8b-4148-9063-f862b1d3e86b"
      },
      "source": [
        "plt.plot(matrix_d[0,:],matrix_d[1,:], 'or')   #plot(ค่าx,ค่าy,หน้าตาของจุด)  /  พอตจุดลงไปในสเปส\r\n",
        "plt.plot(0,0,'.b')                    #มีx1จุด,yจุด แสดงว่ามี1จุด\r\n",
        "plt.plot ([0,0],[-1,5],'--b')      #มีx2จุด,y2จุด แสดงว่ามี2จุด\r\n",
        "plt.plot ([-1.5,2.5],[0,0],'--b')"
      ],
      "execution_count": 11,
      "outputs": [
        {
          "output_type": "execute_result",
          "data": {
            "text/plain": [
              "[<matplotlib.lines.Line2D at 0x7f3a44dbdd68>]"
            ]
          },
          "metadata": {
            "tags": []
          },
          "execution_count": 11
        },
        {
          "output_type": "display_data",
          "data": {
            "image/png": "[encoded data removed]",
            "text/plain": [
              "<Figure size 432x288 with 1 Axes>"
            ]
          },
          "metadata": {
            "tags": [],
            "needs_background": "light"
          }
        }
      ]
    },
    {
      "cell_type": "markdown",
      "metadata": {
        "id": "Pv6HK-HqkFl0"
      },
      "source": [
        "##Transpose"
      ]
    },
    {
      "cell_type": "code",
      "metadata": {
        "colab": {
          "base_uri": "https://localhost:8080/"
        },
        "id": "SJLnEYimbHQc",
        "outputId": "e7e30a94-0972-43f8-eecc-9fd588fb9358"
      },
      "source": [
        "A = np.array([[3,-1,2],[1,5,4]])\r\n",
        "print (A)"
      ],
      "execution_count": 12,
      "outputs": [
        {
          "output_type": "stream",
          "text": [
            "[[ 3 -1  2]\n",
            " [ 1  5  4]]\n"
          ],
          "name": "stdout"
        }
      ]
    },
    {
      "cell_type": "code",
      "metadata": {
        "colab": {
          "base_uri": "https://localhost:8080/"
        },
        "id": "NUYyM_Bykayk",
        "outputId": "8cf779f2-f94f-4b7f-f483-14683ad75e24"
      },
      "source": [
        "A.T"
      ],
      "execution_count": 13,
      "outputs": [
        {
          "output_type": "execute_result",
          "data": {
            "text/plain": [
              "array([[ 3,  1],\n",
              "       [-1,  5],\n",
              "       [ 2,  4]])"
            ]
          },
          "metadata": {
            "tags": []
          },
          "execution_count": 13
        }
      ]
    },
    {
      "cell_type": "markdown",
      "metadata": {
        "id": "r34WweSMlhSK"
      },
      "source": [
        "##Matrix Multiply\r\n",
        "\r\n",
        "$B = A*A'$"
      ]
    },
    {
      "cell_type": "code",
      "metadata": {
        "colab": {
          "base_uri": "https://localhost:8080/"
        },
        "id": "MCNhN3gIkdGz",
        "outputId": "a0c9f258-fc48-4c3b-897c-b0a035e83de5"
      },
      "source": [
        "B = np.dot(A,A.T)\r\n",
        "print(B)"
      ],
      "execution_count": 14,
      "outputs": [
        {
          "output_type": "stream",
          "text": [
            "[[14  6]\n",
            " [ 6 42]]\n"
          ],
          "name": "stdout"
        }
      ]
    },
    {
      "cell_type": "markdown",
      "metadata": {
        "id": "zrdkG9ipmEOI"
      },
      "source": [
        "##Determinant\r\n",
        "$Det(B)$"
      ]
    },
    {
      "cell_type": "code",
      "metadata": {
        "colab": {
          "base_uri": "https://localhost:8080/"
        },
        "id": "zJOvW6KTl6p3",
        "outputId": "dae64a56-4624-4aaa-8cdb-4fed5d3b3189"
      },
      "source": [
        "np.linalg.det(B)"
      ],
      "execution_count": 15,
      "outputs": [
        {
          "output_type": "execute_result",
          "data": {
            "text/plain": [
              "551.9999999999998"
            ]
          },
          "metadata": {
            "tags": []
          },
          "execution_count": 15
        }
      ]
    },
    {
      "cell_type": "markdown",
      "metadata": {
        "id": "__icnCQfrz2S"
      },
      "source": [
        "lianlg = linear algebra"
      ]
    },
    {
      "cell_type": "markdown",
      "metadata": {
        "id": "PfDWDT7mtV-y"
      },
      "source": [
        "matrix algebra เพิ่มเติม"
      ]
    },
    {
      "cell_type": "code",
      "metadata": {
        "id": "2dU7X6pTmh-S",
        "colab": {
          "base_uri": "https://localhost:8080/",
          "height": 282
        },
        "outputId": "a717feab-82aa-4e30-f965-29a605b2931c"
      },
      "source": [
        "plt.plot([0,1],[0,1],'-r')           #vector [1,1]\r\n",
        "plt.plot(0,0,'.b')                    #มีx1จุด,yจุด แสดงว่ามี1จุด\r\n",
        "plt.plot ([0,0],[-1,5],'^:k')      #มีx2จุด,y2จุด แสดงว่ามี2จุด\r\n",
        "plt.plot ([-1.5,2.5],[0,0],'>:k')"
      ],
      "execution_count": 16,
      "outputs": [
        {
          "output_type": "execute_result",
          "data": {
            "text/plain": [
              "[<matplotlib.lines.Line2D at 0x7f3a44d3a860>]"
            ]
          },
          "metadata": {
            "tags": []
          },
          "execution_count": 16
        },
        {
          "output_type": "display_data",
          "data": {
            "image/png": "[encoded data removed]",
            "text/plain": [
              "<Figure size 432x288 with 1 Axes>"
            ]
          },
          "metadata": {
            "tags": [],
            "needs_background": "light"
          }
        }
      ]
    },
    {
      "cell_type": "code",
      "metadata": {
        "colab": {
          "base_uri": "https://localhost:8080/"
        },
        "id": "dMGpKkt7to9N",
        "outputId": "b5675234-d283-42a0-faa7-3d951719501c"
      },
      "source": [
        "B = np.array([[1,2],[3,4]])\r\n",
        "B"
      ],
      "execution_count": 17,
      "outputs": [
        {
          "output_type": "execute_result",
          "data": {
            "text/plain": [
              "array([[1, 2],\n",
              "       [3, 4]])"
            ]
          },
          "metadata": {
            "tags": []
          },
          "execution_count": 17
        }
      ]
    },
    {
      "cell_type": "markdown",
      "metadata": {
        "id": "YUG3KT-lvop_"
      },
      "source": [
        "###การคูณ Matrix $B.v$ คือ การทำ linear transformation"
      ]
    },
    {
      "cell_type": "code",
      "metadata": {
        "id": "pagThCDS381G",
        "colab": {
          "base_uri": "https://localhost:8080/"
        },
        "outputId": "ef8b679a-5ebe-4e86-9e84-f73b298b3073"
      },
      "source": [
        "v = np.array([[1],[1]])\r\n",
        "v"
      ],
      "execution_count": 18,
      "outputs": [
        {
          "output_type": "execute_result",
          "data": {
            "text/plain": [
              "array([[1],\n",
              "       [1]])"
            ]
          },
          "metadata": {
            "tags": []
          },
          "execution_count": 18
        }
      ]
    },
    {
      "cell_type": "code",
      "metadata": {
        "colab": {
          "base_uri": "https://localhost:8080/"
        },
        "id": "O5vqKRDYuqQ0",
        "outputId": "e86ff6c9-bb8d-4895-a8be-1b353c83af0a"
      },
      "source": [
        "Bv = np.dot(B,np.array([[1],[1]]))\r\n",
        "Bv"
      ],
      "execution_count": 19,
      "outputs": [
        {
          "output_type": "execute_result",
          "data": {
            "text/plain": [
              "array([[3],\n",
              "       [7]])"
            ]
          },
          "metadata": {
            "tags": []
          },
          "execution_count": 19
        }
      ]
    },
    {
      "cell_type": "code",
      "metadata": {
        "colab": {
          "base_uri": "https://localhost:8080/",
          "height": 0
        },
        "id": "QcxiVXFovCdM",
        "outputId": "1c0097eb-9dd2-4687-e91d-e5b36112d86e"
      },
      "source": [
        "plt.plot([0,Bv[0,0]],[0,Bv[1,0]],'-g') # vector [1,1]\r\n",
        "plt.plot([0,1],[0,1],'-r') \r\n",
        "plt.plot(0,0,'.k')\r\n",
        "plt.plot([0,0],[-1,5],'^:k')\r\n",
        "plt.plot([-1.5,2.5],[0,0],'>:k')"
      ],
      "execution_count": 20,
      "outputs": [
        {
          "output_type": "execute_result",
          "data": {
            "text/plain": [
              "[<matplotlib.lines.Line2D at 0x7f3a44d34cc0>]"
            ]
          },
          "metadata": {
            "tags": []
          },
          "execution_count": 20
        },
        {
          "output_type": "display_data",
          "data": {
            "image/png": "[encoded data removed]",
            "text/plain": [
              "<Figure size 432x288 with 1 Axes>"
            ]
          },
          "metadata": {
            "tags": [],
            "needs_background": "light"
          }
        }
      ]
    },
    {
      "cell_type": "markdown",
      "metadata": {
        "id": "Fr4MPfOLwRm5"
      },
      "source": [
        "###Determinant ของ Matrix $Det(B)$  คือ พื้นที่ของ unit vector ที่ถูกเปลี่ยนไป โดย Matrix นั้นๆ"
      ]
    },
    {
      "cell_type": "code",
      "metadata": {
        "colab": {
          "base_uri": "https://localhost:8080/",
          "height": 0
        },
        "id": "kY63d4LXwqEW",
        "outputId": "6e6bff5d-f808-4903-c457-c586b20eed3d"
      },
      "source": [
        "plt.plot([0,Bv[0,0]],[0,Bv[1,0]],'-g') # vector Bv\r\n",
        "plt.plot([3,3],[0,7],':c') #วาดจุดไข่ปลา พื้นที่ของ Bv\r\n",
        "plt.plot([3,0],[7,7],':c') #วาดจุดไข่ปลา พื้นที่ของ Bv\r\n",
        "plt.plot([0,1],[0,1],'-r')  #vector v ([1,1])\r\n",
        "plt.plot([1,1],[1,0],':r') #วาดจุดไข่ปลา พื้นที่ของ v\r\n",
        "plt.plot([1,0],[1,1],':r') #วาดจุดไข่ปลา พื้นที่ของ v\r\n",
        "plt.plot(0,0,'.b')\r\n",
        "plt.plot([0,0],[-1,5],'^:k')\r\n",
        "plt.plot([-1.5,2.5],[0,0],'>:k')"
      ],
      "execution_count": 21,
      "outputs": [
        {
          "output_type": "execute_result",
          "data": {
            "text/plain": [
              "[<matplotlib.lines.Line2D at 0x7f3a44cb6668>]"
            ]
          },
          "metadata": {
            "tags": []
          },
          "execution_count": 21
        },
        {
          "output_type": "display_data",
          "data": {
            "image/png": "[encoded data removed]",
            "text/plain": [
              "<Figure size 432x288 with 1 Axes>"
            ]
          },
          "metadata": {
            "tags": [],
            "needs_background": "light"
          }
        }
      ]
    },
    {
      "cell_type": "markdown",
      "metadata": {
        "id": "WE1t1LUp1T3s"
      },
      "source": [
        "Identity matrix ($I$)\r\n",
        "\r\n",
        "$BI = B = IB$"
      ]
    },
    {
      "cell_type": "code",
      "metadata": {
        "id": "-Z2rxdW5xDmu"
      },
      "source": [
        "iden2 = np.identity(2)"
      ],
      "execution_count": 22,
      "outputs": []
    },
    {
      "cell_type": "code",
      "metadata": {
        "colab": {
          "base_uri": "https://localhost:8080/"
        },
        "id": "PCaB4NNb2LyL",
        "outputId": "17460d8a-2da9-43c2-927f-5096ecd36b86"
      },
      "source": [
        "B"
      ],
      "execution_count": 23,
      "outputs": [
        {
          "output_type": "execute_result",
          "data": {
            "text/plain": [
              "array([[1, 2],\n",
              "       [3, 4]])"
            ]
          },
          "metadata": {
            "tags": []
          },
          "execution_count": 23
        }
      ]
    },
    {
      "cell_type": "code",
      "metadata": {
        "colab": {
          "base_uri": "https://localhost:8080/"
        },
        "id": "3h5Mbh0l2Mw0",
        "outputId": "94360292-964d-4190-8c19-2412319cdc05"
      },
      "source": [
        "np.dot(B,iden2)"
      ],
      "execution_count": 24,
      "outputs": [
        {
          "output_type": "execute_result",
          "data": {
            "text/plain": [
              "array([[1., 2.],\n",
              "       [3., 4.]])"
            ]
          },
          "metadata": {
            "tags": []
          },
          "execution_count": 24
        }
      ]
    },
    {
      "cell_type": "code",
      "metadata": {
        "colab": {
          "base_uri": "https://localhost:8080/"
        },
        "id": "OuHkFeDr2S-_",
        "outputId": "ee53ed0b-e96a-41a0-cee9-d5b72763774c"
      },
      "source": [
        "C = np.array([[-1,2],[2,4]])\r\n",
        "C"
      ],
      "execution_count": 25,
      "outputs": [
        {
          "output_type": "execute_result",
          "data": {
            "text/plain": [
              "array([[-1,  2],\n",
              "       [ 2,  4]])"
            ]
          },
          "metadata": {
            "tags": []
          },
          "execution_count": 25
        }
      ]
    },
    {
      "cell_type": "code",
      "metadata": {
        "colab": {
          "base_uri": "https://localhost:8080/"
        },
        "id": "rfNDIfVO2l_d",
        "outputId": "11515088-cd9d-4a22-d60e-79ac90ffccbd"
      },
      "source": [
        "np.dot(B,C)"
      ],
      "execution_count": 26,
      "outputs": [
        {
          "output_type": "execute_result",
          "data": {
            "text/plain": [
              "array([[ 3, 10],\n",
              "       [ 5, 22]])"
            ]
          },
          "metadata": {
            "tags": []
          },
          "execution_count": 26
        }
      ]
    },
    {
      "cell_type": "code",
      "metadata": {
        "colab": {
          "base_uri": "https://localhost:8080/"
        },
        "id": "Tbi2RuY02ryn",
        "outputId": "59753b9f-44a9-438d-bcfd-6a6adbf8739b"
      },
      "source": [
        "np.dot(C,B)"
      ],
      "execution_count": 27,
      "outputs": [
        {
          "output_type": "execute_result",
          "data": {
            "text/plain": [
              "array([[ 5,  6],\n",
              "       [14, 20]])"
            ]
          },
          "metadata": {
            "tags": []
          },
          "execution_count": 27
        }
      ]
    },
    {
      "cell_type": "markdown",
      "metadata": {
        "id": "nJa2sITW3u8o"
      },
      "source": [
        "##การบ้านในห้อง (Quiz 1)"
      ]
    },
    {
      "cell_type": "markdown",
      "metadata": {
        "id": "AslAr2P14hlu"
      },
      "source": [
        "![image.png](data:image/png;base64,iVBORw0KGgoAAAANSUhEUgAAAQoAAAEsCAYAAAA7Pv3iAAAZLklEQVR4Ae2dP2vjyhqH/TVUp023X8CVm623dZHmFNsb0m1xO0GqUy0YlgsLB4IgcJpLwCxcThNQceEUwd1yCG62WIyLJQTxXmRn7JE0+jMaOXFmnkCQNJoZaZ539NO8o5nxSPiDAAQg0EJg1HKe0xCAAAQEoaASQAACrQQQilZERIAABBAK6gAEINBKAKFoRUQECEAAoaAOQAACrQQQilZERIAABBAK6gAEINBKAKFoRUQECEAAoaAOQAACrQQQilZERIAABBAK6gAEINBKAKFoRUQECEAAoaAOQAACrQSOLhSj0Uj0/9Y7IgIEIDA4Af0ZzPdt/+xTWF7B9QYtL0d0CEDAQMD1OUQoDFAJgoBvBBAK3yxKeSBwBAIIxRGgkiUEfCOAUPhmUcoDgSMQQCiOAJUsIeAbAYTCN4tSHggcgQBCcQSoZAkB3wggFL5ZlPJA4AgEEIojQCVLCPhGwH+h2CxlkXyVeHpeGAo+Gk1kNr+Wm3QlmW9WPdHyZKtUkngq0eg3SVZPJ3qXgdxWtpL0JpEk+SyzcaQ9G2cyTf6pQPBYKNayTC5lXJorUi5wfhxNf5e71WMFDgFDEHiUVfqnzGcTrTIiFEOQtc/DZItIxrPPkiRJ40uz/NzYXvs0h3BnD7K41CtmcWJZudDb4/EnWSAWtvZviL+W5eIPQ0sutwVC0QDuCKcy2Sz/U7RFNJU4SWXVsTldfmZsb/IEheKnpPF77e3VQSRUq2N8JemmIzlbUqHE3zZpy83Zsg0QiperDuWWdd6CSGRpWc89E4pMNunVs7txLtP4a6k5lSvrN7ne+snlypsfn8tF8p0+i961OJP14l9yEX+V5CZ/W61leXsl06jMGqHojdgm4eZekoLLN5FZci8bmzye4/olFJs7ifOOmfGlJMt1A45MNvdfDBV4JKPJXJY0KhrY2Z76Jcv5h1ILD6GwpWgbP1v9JVeFDvyJXC4eer8EPRKK5wrZua9Bb33obzwqsW2lbIv/lMZypty77RbGbcxczmerW7ksfMlwE4n8XvwRivVCZtF7idOfFox/yGL2rgSBSmwBsFNUhKITpmEibf6WeaElcS7T+d+93A39hvwRCnmU1fK7JZAnWSW/FYUiupTFGt9DrySu+wiFK8GO6bPvklwUxwtFF4k8DFCdPRKKjjBL0cqVOJotpKl3o5Scww4Eyoz5PNoBmnWUR3lIPkqku3jRR0kehhkfhFAU/Gdb18XamkEmQCiOb/bsIZGLwtelSMbxnWULu/4+AxcK3fUYFmw98vDOIBRHtrnB5RgN2JrI7z5wodA6MxlsdbTajFAcDa2ImL/eDe1CBy0U2XIuk9yn6/xJ9ZgG9zdvhOKItjW1JkYfZL78NehFwxUK9RkJkRi0QpkyQyhMVIYJ27/s9E5MbdBgPmP3JkkMo5HtZk+HKRRKJLZTzf+UlMlgw9TamlwQihowzsGmUa+RTOb/k4fKjF19UGFxv8vs6cCEIp9m++/S/Psc2kRmX+46z6Rztm9gGSAURzJ4di/zib6WRFkAYrnezrlR18/nOi1KU/6f07RMewhCKHbNr7YZjfm6FF/k3nJWnTIB23oCCEU9G6czq0SmusvxvB9NY0kaF2R6lNXiU3WtlgY33HOh2EgajyufdsqF1o8RC6eqa0yMUBixOAdWudpMalzL/fyiOEArX8SpZiSn/ozk+7Z/9iksr+B6g4fL7aaYJ9exedboXpkZT3FgNsxetUIzn8adrD4G6OByWH0WVbOt93U/z8c86ND1OXxDQqGbpm6dhGfgAw9W0a8c4j5CcQyrm1vLZ3Eq3VcjNQz7zlsVhmkMgQrFs+EqC3soZc57ju97z90/RrV4y3kiFMewnkkoetTb7axrVe/Vi7I6MTJsocjtt/9UWoRlUtVjmDuEPBGKY1jZJBTmFbSbr66NTt67INUBWwhFzRBYVrpqrl42ZxEKG1pd4w4lFKaxGGOJ0+KCeQhFbhfTMNizWNLuzl5X6wYZD6E4htlND3ifFkW+zull6esHQlFjMUMPMkJRw8o+GKGwZ9aewvSA9+ijEJGqfRCKWv6VMfPTRFa1sTlhQ6BaEfk8asOvLm6lztZ8sahLr8K72AfXQ9EqjXKz+8ykMmFrItClIprSEdZC4CmV+KzYCd+nb61iH0NrGqFQtigIxTuZLX6oM2wdCVQqIr8U5khUJe/2xULFrtuW7WP64odQPNMrNOO0abp1cAnvTqBcEVkzszu7tpiFerv9vGnbT1HuFDW/JBGKrSV0WPxaWFvltD2PUNgSs4lvaFVYvehK6WvSIhS5TbTRaXWTYmxMR9wiAYSiyGPoo+rCut1fdsUWiXmeR36/3giF/hNq7dNsNVPpv3zeMM1WS8GuJQGEwhKYdXTDnI0u85UK44eaJ0N6IhSmUWr5rzb/u3n1Kn2uByJhXT27JqgKRXWIcNe8iFdH4Kek8fvCm79xyQT9BdkwvVxdzWOhUJ+N8rUBS8vdbZaySNRCNv1+Bl4BZNtGQO//UTYxd5i15cT5FgLZSu6upsVRluOZzAurXK1lufhD4v3PDkYyvrxtXd3NE6EQqf4wq6qUddtcID7LTeNKQC2G4XQzgWwlaVKz/kc0lThJWyto8wU4WyXQsoTCfuLXSEa5DW6XnX4kyBuh2ALbthSuzWsC5oByMNeJJMk3WbLkXbWODRLyjyTTs0ITuFzJjMeMhB2E/j6TXKRvTM/CuUzjr5IUWhn7VLU7ZZvVRqw58UYXrqkpDcEQgICRAEJhxEIgBCCgE0AodBrsQwACRgIIhRELgRCAgE4AodBpsA8BCBgJIBRGLARCAAI6AYRCp8E+BCBgJIBQGLEQCAEI6AQQCp0G+xCAgJEAQmHEQiAEIKATQCh0GuxDAAJGAgiFEQuBEICATgCh0GmwDwEIGAkgFEYsBEIAAjoBhEKnwT4EIGAkgFAYsRAIAQjoBBAKnQb7EICAkQBCYcRCIAQgoBNAKHQa7EMAAkYCCIURC4EQgIBOAKHQabAPAQgYCSAURiwEQgACOgGEQqfBPgQgYCSAUBixEAgBCOgEEAqdBvsQgICRAEJhxEIgBCCgE0AodBrsQwACRgIIhRELgRCAgE4AodBpsA8BCBgJIBRGLARCAAI6AYRCp8E+BCBgJIBQGLEQCAEI6AQQCp0G+xCAgJEAQmHEQiAEIKATQCh0GuxDAAJGAgiFEQuBEICATgCh0GmwDwEIGAkgFEYsBEIAAjoBhEKnwT4EIGAkgFAYsRAIAQjoBBAKnQb7EICAkQBCYcRCIAQgoBNAKHQa7EMAAkYCCIURC4EQgIBOAKHQabAPAQgYCSAURiwEQgACOgGEQqfB/gsT+Clp/F5UJTyLU3l64Tvgct0IKBupbbdUh1ijw+5x9tSNqW37VX7IYvZuX/lUuv7b3yRZUX3budvGyGSTXsl4NNrbCqGwZdgUP5P14lIijW/7MxDJZH4vmSHbclpDlMag0xOK9UJm0aHylQtofTyZy9JErhELJ1sJbO4kHkd7kcjtglC0UuseIbuX+aTIt7XuRx8leXg0XqOc1hipIfDEhKKPijaJSr3CNjDhVCuBosuhKiFC0QquY4R+z0E0W8i65grKRmpbE602+MSEYmi344PMl79qC8+JPgSqLoeqfAhFH56GNH1aE6P3Eqc/DZntgpSN1LY2Ys2JkxKK7CGRC9yOGlOdSPDe5Xgn4/EZrsfgZunXmhi1uNhKINTW9rZPSCh+yXL+4bniRTKefZZksZSNVYmKedR17FhlSeQDgey7JBfnMhpFMo5vZRGPEYoDnWH29q2J5haC7cWUQKitdXrbBLbx1Y2pbW16BSiaytXdythzW5tWnVB5bHuKcTsUlmG2j/KQfNz1wo+vJN2sJUUohkG7z+XQmoguEnkYsBNePX9qu79kx52TaVFky7lMWvys5jIdIG9htDTFmvPibJnAwS1Ub7oNQlGG5Hq8f9Epxq4ZHtIrgVDbw5lueyciFLnLcCEXyfd+LYltWfWO0HcyW/zoRoBY7QT2Lse5TOd/P7uDCEU7OJsYhxfd0K2J/C6UQKitzZ1t09smsI2vbkxtzenXslz8V5Ybh7aWPv4iupTF2iEv800GGnpwOYoVGKEYtELsWxPPn/ujqcTXiSQ3qawGqMrq+VNb23s/kRaF7W2X4x/UOAfR9D25nJLjJgKZbO6/yDT/ElUZzINQNJGzO1esv+phPmx3nfs3ac++O39aFHZYq7FxO6pMBgjZfwo9N7iFCMUAhHdZlFsTDcO2o2ksSQ/BOIjOrsVie+9+tChwO2zt3iH+YfRl0eVQSREKRcJt29aaMI08Ppfp1V9WLglCIUXQuB1u1XaXWht9WXE5VP4IhSLhtLVoTZQf9mj6u9ytzHM7yvdUTls+33bsQYsCt6PNyNbn9y5H02c6hMKaa2uCvFP/RpIkkeQ63vUNNbgh24d//EkWHcQCocDtaK1+dhGUy5GPvrxrGBmLUNhx7Rc7W6VyM58VpvOXH3qza1i8XjlN8Wz70RtvUehuBzNF283dFuNRVotPu0q5HX3Z9F0OoWijOej5zVJu42nN+hTtdT9soSj4dwzZdq2Y1dGXTTkiFE10jnPuUVZ3v5tdktq+pN2dBC0Uu2Hfz73CDNl2q5v70ZdtLoe6DEKhSLzsVhvbUui/aG5VBCwUzBQdroJqoy+nX+S+0whZhGI4/rY5aV+ldLFoeFmGKxS4Hba1qzb+3uVoab4WM0Aoijxe+kh1OmvjLBqmLgQrFLgdA1XMvcthGn3ZdA2EoonOi5zTv/htWxb1/XSBCgVuxzAVcS3384ttT3qXT2zFayIURR6vcaQ/B3nLYixxal7qKUyhwO0YplauEpnqPu4R9llHcxhTmXPRhwfkQkGLosBJdzvs34SFrMI+QCjevP31Z2E0qv8NmwBbFHpziwVqnGo6QuGE7yQS6zbkq4dmEt3taOjl1VKwexQC9FEcBatlpk9pLGdbl5FxFBq6ok/GTFENzYvvIhQvjrxyQb11Xd8/kScLzPVgpmilrrxaAELxaujVhbXWddtLMyyh0L8b43ao6vJKW4TilcA/X/Ywmra6TGH1zgISCtyOqvlfMwSheD36+hDuiVwuHlpXrw9IKHA7Xq9imq6MUJio2IXlC9XMZTaOJF8L87rTL+OtZZlcPq9Pof98QvOVwxEK3e1oXSuhGRpnhyCAULhSLI6B2M3ZqF08d7OURfJV4mn+k4553G4tCXWPgQiF7nY0fwZSYNgemwBC4UrYJBTlB9p0HE2v5Ha5trp8OR+rxPlXE9sEtvFdb3B3Pd3taP4MZHt/xO9LAKHoS+6Q7jDXpvycGI/HM5l3ck8OV1B75fxUeNft2xAK3e1oGH3WtdDEG4IAQjEERZFMNstvNYvp7n74J0luZGHZgijfWxhCUS41xxCAgBUBhMIKF5EhECYBhCJMu1NqCFgRQCiscBEZAmESQCjCtDulhoAVAYTCCheRIRAmAYQiTLtTaghYEUAorHARGQJhEkAowrQ7pYaAFQGEwgoXkSEQJgGEIky7U2oIWBFAKKxwERkCYRJAKMK0O6WGgBUBhMIKF5EhECYBhCJMu1NqCFgRQCiscBEZAmESQCjCtDulhoAVAYTCCheRIRAmAYQiTLtTaghYEUAorHARGQJhEkAowrQ7pYaAFQGEwgoXkSEQJgGEIky7U2oIWBFAKKxwERkCYRJAKMK0O6WGgBUBhMIKF5EhECYBhCJMu1NqCFgRQCiscBEZAmESQCjCtDulhoAVAYTCCheRIRAmAYQiTLtTaghYEUAorHARGQJhEkAowrQ7pYaAFQGEwgoXkSEQJgGEIky7U2oIWBFAKKxwERkCYRJAKMK0O6WGgBUBhMIKF5EhECYBhCJMu1NqCFgRQCiscBEZAmESQCjCtDulhoAVAYTCCheRIRAmAYQiTLtTaghYEUAorHARGQJhEkAowrQ7pYaAFQHPhSKTzfKbJMlnmY0jKRZ2IrP5tSSLpWyskBEZAm+LQLZKJYmnEo1+k2T11Ovmi8/OyDoP+xSWl+h7g9nqTr7MJiVxGJmPxzP5kq4ks7w3og9J4IcsZu/M9hnV2K0xvP9DMWSpXi+vR1mlf8q88Az0Z9L3OVTlP0GhyGRz/0WmkW3lOpfp1V+yQi2UbV92u17IzNpmDTaezGUZpC3Xslz8IfH03CC6CMW+UmcPiVz0rnCRjC9vEYs9zZfayWS9uJSosYXQIAqVdJFM5vdhtRCzlaQ3Jhdb54ZQ7Gp09l2Si4OSRtNYrpNvstxor5Yt0K81iptDPZeL5HtYleyl9KD2OkO7HR9kvvxVezX/TuRC+y+5iL9KcpPKKlvL8vbK0KpGKEREeytFU4lv2zop17JMLmVceRuNZBRdymKtiYt/NeukSuTWCtTfmM/7wbodull/yXL+oeR+IBQi2b3MJ5GMoguZ3691Yg37j/KQfDQ0eQNsujZQOu4pvUJHMp597vElqphHcG5HjYGe0ljOCi9ChEKy5VwmvdyGmmbvNJFVjQEIHpDAXuCncnXX88uTymP7UITmdtTbAqGosHmSVfKbRBeJPPTwGHYiU2rCnsWS9vvkXLk7AuoJ7Ni/lzj9WR+p8YzmcuZCgduxp4VQ7FGonY2k8QeZLX6oALtt4Y30LBgIhR3DXrFzl+HCsfNYbxG+618Het3/aSdCKAa3j17ZEIrB8dZmmH/z/2/xq1Rt3JoT+vgLOqELkBCKAo4hDvIWybjYQ0wfxRBgj5xH0e2IZgvp2o195Bs7iewRisHNUBYKvnoMjvgoGeotQdyOMmKEokzE+VivcLnrQc+5M9KXyAC3o5EyQtGIp8fJcmcmPec9IL50EtyONuIIRRshy/PFz6M0YS3xvVJ0vRWIzUxGQChMVHqH6aP6+A7fG+NLJ8TtaCWOULQisohQcDtcBv5YXJOojgR0t4OO5zqYCEUdGevwYoUbx3esdmXN8BUSFMSdjuc6CyAUdWRswzd3Eqsl8sZXkurT0W3zIv6LESj0KdHxXMsdoahFY3NCnzmKy2FD7nXj6n1KuB1NtkAomuh0PHdYAyHwhWqeUonPShPiClOThz7Xf6rz1rS4HR1ruAhC0RlVTcS9y8HSd/LGhAK3o6ZOG4IRCgOU7kE/JY3fb+d19J2W3v1abyDmmxIK3A6bGoVQ2NAqxD30S0TTL3JP52WBzskf4HZYmQihsMKlImeySa92a2SOP8li9ahOsH0jBHS3g9Zgu9EQinZGpRjab30gEiU2b+VQdzsYst3FaghFF0panP0XjuijJA+0JDQ0b2dXdztYoKaT3RCKTph2kbLVrVzmg6qsVue2uABRX4CAPoJ2JCxQ0w05QtGNkyASHUGdfDRmivYxEULRgdpeJEYTuVw89Prlr63LcsaPAXXAfdwozBTtxRehaME2hEjI5m+ZT89p5rawPv5p3I6+jBGKBnKuIpGtUrm5jp9/t5GZiQ2oX+gUbkdf0AhFDbmDSAw0P4GZiTWkXzBYdzuY4WsFvioU/V98o9L8H6sbEZGRbQLb+N1uUBsnUSpQOX33Y2Ym2tpq+Pi624E97Pjq407Ui7P/+JPyc2N3LychFMcQiRxsf/W1hUj8OgK624E96ihVwrOVpIlyn5VIPG+jqcRJKivLn970QCj+kWR6VvzxngFaFQwRrlS/lw/Q3Q7cwBb+PZ+Djj905YFQtPDjNAQg4EwAoXBGSAYQ8J8AQuG/jSkhBJwJIBTOCMkAAv4TQCj8tzElhIAzAYTCGSEZQMB/AgiF/zamhBBwJoBQOCMkAwj4TwCh8N/GlBACzgQQCmeEZAAB/wkgFP7bmBJCwJkAQuGMkAwg4D8BhMJ/G1NCCDgTQCicEZIBBPwngFD4b2NKCAFnAgiFM0IygID/BBAK/21MCSHgTAChcEZIBhDwnwBC4b+NKSEEnAkgFM4IyQAC/hNAKPy3MSWEgDOBkxcK5xKSAQQg8OoEjv4DQK9eQm4AAhBwJoBQOCMkAwj4TwCh8N/GlBACzgQQCmeEZAAB/wkgFP7bmBJCwJkAQuGMkAwg4D8BhMJ/G1NCCDgTQCicEZIBBPwngFD4b2NKCAFnAgiFM0IygID/BBAK/21MCSHgTAChcEZIBhDwnwBC4b+NKSEEnAkgFM4IyQAC/hNAKPy3MSWEgDMBhMIZIRlAwH8CCIX/NqaEEHAmgFA4IyQDCPhPAKHw38aUEALOBBAKZ4RkAAH/CSAU/tuYEkLAmQBC4YyQDCDgPwGEwn8bU0IIOBNAKJwRkgEE/CeAUPhvY0oIAWcCCIUzQjKAgP8EEAr/bUwJIeBMAKFwRkgGEPCfAELhv40pIQScCSAUzgjJAAL+E0Ao/LcxJYSAMwGEwhkhGUDAfwIIhf82poQQcCaAUDgjJAMI+E8AofDfxpQQAs4EEApnhGQAAf8JIBT+25gSQsCZAELhjJAMIOA/AYTCfxtTQgg4E0AonBGSAQT8J4BQ+G9jSggBZwIIhTNCMoCA/wQQCv9tTAkh4EwAoXBGSAYQ8J8AQuG/jSkhBJwJIBTOCMkAAv4TQCj8tzElhIAzAYTCGSEZQMB/AgiF/zamhBBwJoBQOCMkAwj4T+D/Wmio13+e7Z8AAAAASUVORK5CYII=)"
      ]
    },
    {
      "cell_type": "code",
      "metadata": {
        "colab": {
          "base_uri": "https://localhost:8080/"
        },
        "id": "VPdWDCUX2vbM",
        "outputId": "540ecd5f-88a3-4178-ea88-abbfa4b5c5d8"
      },
      "source": [
        "Q = np.array([[3,1,6],[7,4,5],[2,-7,1]])\r\n",
        "Q"
      ],
      "execution_count": 28,
      "outputs": [
        {
          "output_type": "execute_result",
          "data": {
            "text/plain": [
              "array([[ 3,  1,  6],\n",
              "       [ 7,  4,  5],\n",
              "       [ 2, -7,  1]])"
            ]
          },
          "metadata": {
            "tags": []
          },
          "execution_count": 28
        }
      ]
    },
    {
      "cell_type": "code",
      "metadata": {
        "colab": {
          "base_uri": "https://localhost:8080/"
        },
        "id": "50tlre153b7j",
        "outputId": "997c5314-0d0b-4d19-d7f4-7cbde4b5c816"
      },
      "source": [
        "np.linalg.det(Q)"
      ],
      "execution_count": 29,
      "outputs": [
        {
          "output_type": "execute_result",
          "data": {
            "text/plain": [
              "-221.99999999999997"
            ]
          },
          "metadata": {
            "tags": []
          },
          "execution_count": 29
        }
      ]
    },
    {
      "cell_type": "markdown",
      "metadata": {
        "id": "qfAotKpf6vac"
      },
      "source": [
        "Eigen value กับ Eigen vector\r\n",
        "\r\n",
        "- Eigen value ($\\lambda$)-> $|A-\\lambda I| = 0$        (latex)\r\n",
        "- Eigen vector ($x$) -> $Ax = \\lambda x$"
      ]
    },
    {
      "cell_type": "markdown",
      "metadata": {
        "id": "L4Pk_nCl-F2y"
      },
      "source": [
        "##HW 5 หา Eigen value กับ Eigen vector"
      ]
    },
    {
      "cell_type": "markdown",
      "metadata": {
        "id": "S7abbcTi5EY_"
      },
      "source": [
        "![image.png](data:image/png;base64,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)"
      ]
    },
    {
      "cell_type": "code",
      "metadata": {
        "id": "T_Uf0GI15SQY",
        "colab": {
          "base_uri": "https://localhost:8080/"
        },
        "outputId": "d943f592-630a-49c7-fa07-f42755f000f4"
      },
      "source": [
        "H = np.array([[1,0],[1,3]])\r\n",
        "H"
      ],
      "execution_count": 30,
      "outputs": [
        {
          "output_type": "execute_result",
          "data": {
            "text/plain": [
              "array([[1, 0],\n",
              "       [1, 3]])"
            ]
          },
          "metadata": {
            "tags": []
          },
          "execution_count": 30
        }
      ]
    },
    {
      "cell_type": "markdown",
      "metadata": {
        "id": "U_vbO3ul5xIA"
      },
      "source": [
        "####Eigen vector"
      ]
    },
    {
      "cell_type": "code",
      "metadata": {
        "id": "miArztxq6DYG",
        "colab": {
          "base_uri": "https://localhost:8080/"
        },
        "outputId": "ab5f475f-addd-42ce-d749-053b1c0b7963"
      },
      "source": [
        "HW = np.array([[1,0], [1,3]])\r\n",
        "H,W = np.linalg.eig(HW)\r\n",
        "H;W"
      ],
      "execution_count": 34,
      "outputs": [
        {
          "output_type": "execute_result",
          "data": {
            "text/plain": [
              "array([[ 0.        ,  0.89442719],\n",
              "       [ 1.        , -0.4472136 ]])"
            ]
          },
          "metadata": {
            "tags": []
          },
          "execution_count": 34
        }
      ]
    },
    {
      "cell_type": "markdown",
      "metadata": {
        "id": "xUCKVV1w5ZSa"
      },
      "source": [
        "####Eigen value"
      ]
    },
    {
      "cell_type": "code",
      "metadata": {
        "id": "QgXiKPkq6Dtl",
        "colab": {
          "base_uri": "https://localhost:8080/"
        },
        "outputId": "077a43aa-91b9-4eb1-fc39-cccf61a28679"
      },
      "source": [
        "HW = np.array([[1,0], [1,3]])\r\n",
        "np.linalg.eigvals(HW)"
      ],
      "execution_count": 35,
      "outputs": [
        {
          "output_type": "execute_result",
          "data": {
            "text/plain": [
              "array([3., 1.])"
            ]
          },
          "metadata": {
            "tags": []
          },
          "execution_count": 35
        }
      ]
    },
    {
      "cell_type": "markdown",
      "metadata": {
        "id": "P0Eek_hPYcup"
      },
      "source": [
        "เฉลยการบ้าน"
      ]
    },
    {
      "cell_type": "code",
      "metadata": {
        "id": "LkOUA0AuYcde",
        "outputId": "879533b8-310f-4c96-eff2-01cbe94bfc42",
        "colab": {
          "base_uri": "https://localhost:8080/"
        }
      },
      "source": [
        "J=np.array([[1,0],[1,3]])\r\n",
        "J"
      ],
      "execution_count": 36,
      "outputs": [
        {
          "output_type": "execute_result",
          "data": {
            "text/plain": [
              "array([[1, 0],\n",
              "       [1, 3]])"
            ]
          },
          "metadata": {
            "tags": []
          },
          "execution_count": 36
        }
      ]
    },
    {
      "cell_type": "code",
      "metadata": {
        "id": "4OgGcpo6YqT_",
        "outputId": "19cb877b-7532-4b22-de64-b55b72bf1cfa",
        "colab": {
          "base_uri": "https://localhost:8080/"
        }
      },
      "source": [
        "W,V = np.linalg.eig(J)\r\n",
        "print(W)\r\n",
        "print(V)"
      ],
      "execution_count": 37,
      "outputs": [
        {
          "output_type": "stream",
          "text": [
            "[3. 1.]\n",
            "[[ 0.          0.89442719]\n",
            " [ 1.         -0.4472136 ]]\n"
          ],
          "name": "stdout"
        }
      ]
    },
    {
      "cell_type": "code",
      "metadata": {
        "id": "s3NM2jPDZLo_",
        "outputId": "6cc26232-063b-4968-cec9-c3f1daa35103",
        "colab": {
          "base_uri": "https://localhost:8080/"
        }
      },
      "source": [
        "print(f'eigen value = {W[0]} มี eigen vector คือ {V[:,0]}')"
      ],
      "execution_count": 38,
      "outputs": [
        {
          "output_type": "stream",
          "text": [
            "eigen value = 3.0 มี eigen vector คือ [0. 1.]\n"
          ],
          "name": "stdout"
        }
      ]
    },
    {
      "cell_type": "markdown",
      "metadata": {
        "id": "-oYDYv7gaFgY"
      },
      "source": [
        "eigen vectors and eigen values of covarience matrix of data\r\n",
        "\r\n",
        "จากรูป มีจุดข้อมูล 16 จุด และมี attribute 2 มิติ เราจะสร้างเป็น data matrix ที่มีรูปร่าง (shape) ? = (2,16)\r\n",
        "\r\n",
        "![image.png](data:image/png;base64,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)"
      ]
    },
    {
      "cell_type": "code",
      "metadata": {
        "id": "GPjAzUujdQ7W",
        "outputId": "10ebdb58-2b3d-433e-ab98-3489b0872df8",
        "colab": {
          "base_uri": "https://localhost:8080/"
        }
      },
      "source": [
        "X = np.array([[1,2,-3,4],[4,5,-3,2]])\r\n",
        "print(f'data X \\n {X}')\r\n",
        "C_X = np.cov (X)\r\n",
        "print(f'Covarien ของ x คือ \\n {C_X}')"
      ],
      "execution_count": 39,
      "outputs": [
        {
          "output_type": "stream",
          "text": [
            "data X \n",
            " [[ 1  2 -3  4]\n",
            " [ 4  5 -3  2]]\n",
            "Covarien ของ x คือ \n",
            " [[ 8.66666667  7.66666667]\n",
            " [ 7.66666667 12.66666667]]\n"
          ],
          "name": "stdout"
        }
      ]
    },
    {
      "cell_type": "code",
      "metadata": {
        "id": "cmS1Jg1VfFVg"
      },
      "source": [
        "W,V = np.linalg.eig(C_X)"
      ],
      "execution_count": 40,
      "outputs": []
    },
    {
      "cell_type": "code",
      "metadata": {
        "id": "vlaIApjOfRED",
        "outputId": "3a212309-7075-4492-be80-9a08ed68cbe4",
        "colab": {
          "base_uri": "https://localhost:8080/"
        }
      },
      "source": [
        "W"
      ],
      "execution_count": 41,
      "outputs": [
        {
          "output_type": "execute_result",
          "data": {
            "text/plain": [
              "array([ 2.74342378, 18.58990955])"
            ]
          },
          "metadata": {
            "tags": []
          },
          "execution_count": 41
        }
      ]
    },
    {
      "cell_type": "code",
      "metadata": {
        "id": "2H0Hls_5fTuD",
        "outputId": "c612d980-8da7-4fff-c5aa-52036e27a4d9",
        "colab": {
          "base_uri": "https://localhost:8080/"
        }
      },
      "source": [
        "print(W[1])\r\n",
        "print(V[:,1])"
      ],
      "execution_count": 42,
      "outputs": [
        {
          "output_type": "stream",
          "text": [
            "18.589909549336475\n",
            "[-0.6113829  -0.79133492]\n"
          ],
          "name": "stdout"
        }
      ]
    },
    {
      "cell_type": "code",
      "metadata": {
        "id": "gUtTYMOHfb8D",
        "outputId": "968d3dae-6635-466c-f117-420f7c3292c3",
        "colab": {
          "base_uri": "https://localhost:8080/",
          "height": 282
        }
      },
      "source": [
        "plt.plot(X[0,:],X[1,:], 'or')\r\n",
        "plt.plot([0,3*V[0,1]],[0,3*V[1,1]],'<-b')"
      ],
      "execution_count": 46,
      "outputs": [
        {
          "output_type": "execute_result",
          "data": {
            "text/plain": [
              "[<matplotlib.lines.Line2D at 0x7f3a3c6cb438>]"
            ]
          },
          "metadata": {
            "tags": []
          },
          "execution_count": 46
        },
        {
          "output_type": "display_data",
          "data": {
            "image/png": "[encoded data removed]",
            "text/plain": [
              "<Figure size 432x288 with 1 Axes>"
            ]
          },
          "metadata": {
            "tags": [],
            "needs_background": "light"
          }
        }
      ]
    },
    {
      "cell_type": "markdown",
      "metadata": {
        "id": "ysAN12oP9BOK"
      },
      "source": [
        "##Inverse Matrix\r\n",
        "inverse ของ $A$ เขียน $A^{-1}$\r\n",
        "นิยาม $A*A^{-1} = I = A^{-1}*A$"
      ]
    },
    {
      "cell_type": "code",
      "metadata": {
        "id": "gS1Mi5TBj6BB",
        "outputId": "1e9f7a2e-62d2-42e6-9315-b3ca48743784",
        "colab": {
          "base_uri": "https://localhost:8080/"
        }
      },
      "source": [
        "C_X"
      ],
      "execution_count": 48,
      "outputs": [
        {
          "output_type": "execute_result",
          "data": {
            "text/plain": [
              "array([[ 8.66666667,  7.66666667],\n",
              "       [ 7.66666667, 12.66666667]])"
            ]
          },
          "metadata": {
            "tags": []
          },
          "execution_count": 48
        }
      ]
    },
    {
      "cell_type": "code",
      "metadata": {
        "id": "-mvcn5plg8xq",
        "outputId": "92893c11-fe24-45f3-a8b5-45276e5ff0f8",
        "colab": {
          "base_uri": "https://localhost:8080/"
        }
      },
      "source": [
        "inv_C_X = np.linalg.inv(C_X)\r\n",
        "print(inv_C_X)"
      ],
      "execution_count": 49,
      "outputs": [
        {
          "output_type": "stream",
          "text": [
            "[[ 0.24836601 -0.1503268 ]\n",
            " [-0.1503268   0.16993464]]\n"
          ],
          "name": "stdout"
        }
      ]
    },
    {
      "cell_type": "markdown",
      "metadata": {
        "id": "vYpvn9_IkIDO"
      },
      "source": [
        "ตรวจสอบ"
      ]
    },
    {
      "cell_type": "code",
      "metadata": {
        "id": "T_kbMqW3j3Oc",
        "outputId": "fd1dc22b-46e8-4dff-86df-4d4b2706c662",
        "colab": {
          "base_uri": "https://localhost:8080/"
        }
      },
      "source": [
        "np.dot(C_X,inv_C_X)\r\n"
      ],
      "execution_count": 50,
      "outputs": [
        {
          "output_type": "execute_result",
          "data": {
            "text/plain": [
              "array([[1.00000000e+00, 2.23193529e-16],\n",
              "       [1.26018779e-16, 1.00000000e+00]])"
            ]
          },
          "metadata": {
            "tags": []
          },
          "execution_count": 50
        }
      ]
    },
    {
      "cell_type": "code",
      "metadata": {
        "id": "OsG78YHZkvUI",
        "outputId": "4ba47a4c-e1fc-4fe6-87a5-614080c6e6d3",
        "colab": {
          "base_uri": "https://localhost:8080/"
        }
      },
      "source": [
        "np.dot(inv_C_X,C_X)"
      ],
      "execution_count": 53,
      "outputs": [
        {
          "output_type": "execute_result",
          "data": {
            "text/plain": [
              "array([[1.00000000e+00, 1.26018779e-16],\n",
              "       [2.23193529e-16, 1.00000000e+00]])"
            ]
          },
          "metadata": {
            "tags": []
          },
          "execution_count": 53
        }
      ]
    },
    {
      "cell_type": "code",
      "metadata": {
        "id": "9MvQ6r_Lk6Mb",
        "outputId": "a34ec9da-9789-4e1a-959b-705777eaf476",
        "colab": {
          "base_uri": "https://localhost:8080/"
        }
      },
      "source": [
        "np.linalg.inv(inv_C_X)"
      ],
      "execution_count": 54,
      "outputs": [
        {
          "output_type": "execute_result",
          "data": {
            "text/plain": [
              "array([[ 8.66666667,  7.66666667],\n",
              "       [ 7.66666667, 12.66666667]])"
            ]
          },
          "metadata": {
            "tags": []
          },
          "execution_count": 54
        }
      ]
    },
    {
      "cell_type": "markdown",
      "metadata": {
        "id": "lKskObd-l2IQ"
      },
      "source": [
        "## การ load data"
      ]
    },
    {
      "cell_type": "code",
      "metadata": {
        "id": "yRYk-ZcWlQy4"
      },
      "source": [
        "import pandas as pd"
      ],
      "execution_count": 57,
      "outputs": []
    },
    {
      "cell_type": "code",
      "metadata": {
        "id": "Y1qS1BCLmESl",
        "outputId": "14a63188-3f5f-4ac2-d2a0-f4b78bfd3f37",
        "colab": {
          "base_uri": "https://localhost:8080/",
          "height": 1000
        }
      },
      "source": [
        "pollution_data = pd.read_csv('/content/pollution.txt',sep='\\t')   #\\t คือการใช้TABแบ่งข้อมูล  \\s+ คือการใช้spaceแบ่งข้อมูล\r\n",
        "pollution_data"
      ],
      "execution_count": 60,
      "outputs": [
        {
          "output_type": "execute_result",
          "data": {
            "text/html": [
              "<div>\n",
              "<style scoped>\n",
              "    .dataframe tbody tr th:only-of-type {\n",
              "        vertical-align: middle;\n",
              "    }\n",
              "\n",
              "    .dataframe tbody tr th {\n",
              "        vertical-align: top;\n",
              "    }\n",
              "\n",
              "    .dataframe thead th {\n",
              "        text-align: right;\n",
              "    }\n",
              "</style>\n",
              "<table border=\"1\" class=\"dataframe\">\n",
              "  <thead>\n",
              "    <tr style=\"text-align: right;\">\n",
              "      <th></th>\n",
              "      <th>City</th>\n",
              "      <th>SO2</th>\n",
              "      <th>Temp</th>\n",
              "      <th>Man</th>\n",
              "      <th>Pop</th>\n",
              "      <th>Wind</th>\n",
              "      <th>Rain</th>\n",
              "      <th>RainDays</th>\n",
              "    </tr>\n",
              "  </thead>\n",
              "  <tbody>\n",
              "    <tr>\n",
              "      <th>0</th>\n",
              "      <td>Phoenix</td>\n",
              "      <td>10</td>\n",
              "      <td>70.3</td>\n",
              "      <td>213</td>\n",
              "      <td>582</td>\n",
              "      <td>6.0</td>\n",
              "      <td>7.05</td>\n",
              "      <td>36</td>\n",
              "    </tr>\n",
              "    <tr>\n",
              "      <th>1</th>\n",
              "      <td>Little Rock</td>\n",
              "      <td>13</td>\n",
              "      <td>61.0</td>\n",
              "      <td>91</td>\n",
              "      <td>132</td>\n",
              "      <td>8.2</td>\n",
              "      <td>48.52</td>\n",
              "      <td>100</td>\n",
              "    </tr>\n",
              "    <tr>\n",
              "      <th>2</th>\n",
              "      <td>San Francisco</td>\n",
              "      <td>12</td>\n",
              "      <td>56.7</td>\n",
              "      <td>453</td>\n",
              "      <td>716</td>\n",
              "      <td>8.7</td>\n",
              "      <td>20.66</td>\n",
              "      <td>67</td>\n",
              "    </tr>\n",
              "    <tr>\n",
              "      <th>3</th>\n",
              "      <td>Denver</td>\n",
              "      <td>17</td>\n",
              "      <td>51.9</td>\n",
              "      <td>454</td>\n",
              "      <td>515</td>\n",
              "      <td>9.0</td>\n",
              "      <td>12.95</td>\n",
              "      <td>86</td>\n",
              "    </tr>\n",
              "    <tr>\n",
              "      <th>4</th>\n",
              "      <td>Hartford</td>\n",
              "      <td>56</td>\n",
              "      <td>49.1</td>\n",
              "      <td>412</td>\n",
              "      <td>158</td>\n",
              "      <td>9.0</td>\n",
              "      <td>43.37</td>\n",
              "      <td>127</td>\n",
              "    </tr>\n",
              "    <tr>\n",
              "      <th>5</th>\n",
              "      <td>Wilmington</td>\n",
              "      <td>36</td>\n",
              "      <td>54.0</td>\n",
              "      <td>80</td>\n",
              "      <td>80</td>\n",
              "      <td>9.0</td>\n",
              "      <td>40.25</td>\n",
              "      <td>114</td>\n",
              "    </tr>\n",
              "    <tr>\n",
              "      <th>6</th>\n",
              "      <td>Washington</td>\n",
              "      <td>29</td>\n",
              "      <td>57.3</td>\n",
              "      <td>434</td>\n",
              "      <td>757</td>\n",
              "      <td>9.3</td>\n",
              "      <td>38.89</td>\n",
              "      <td>111</td>\n",
              "    </tr>\n",
              "    <tr>\n",
              "      <th>7</th>\n",
              "      <td>Jacksonville</td>\n",
              "      <td>14</td>\n",
              "      <td>68.4</td>\n",
              "      <td>136</td>\n",
              "      <td>529</td>\n",
              "      <td>8.8</td>\n",
              "      <td>54.47</td>\n",
              "      <td>116</td>\n",
              "    </tr>\n",
              "    <tr>\n",
              "      <th>8</th>\n",
              "      <td>Miami</td>\n",
              "      <td>10</td>\n",
              "      <td>75.5</td>\n",
              "      <td>207</td>\n",
              "      <td>335</td>\n",
              "      <td>9.0</td>\n",
              "      <td>59.80</td>\n",
              "      <td>128</td>\n",
              "    </tr>\n",
              "    <tr>\n",
              "      <th>9</th>\n",
              "      <td>Atlanta</td>\n",
              "      <td>24</td>\n",
              "      <td>61.5</td>\n",
              "      <td>368</td>\n",
              "      <td>497</td>\n",
              "      <td>9.1</td>\n",
              "      <td>48.34</td>\n",
              "      <td>115</td>\n",
              "    </tr>\n",
              "    <tr>\n",
              "      <th>10</th>\n",
              "      <td>Chicago</td>\n",
              "      <td>110</td>\n",
              "      <td>50.6</td>\n",
              "      <td>3344</td>\n",
              "      <td>3369</td>\n",
              "      <td>10.4</td>\n",
              "      <td>34.44</td>\n",
              "      <td>122</td>\n",
              "    </tr>\n",
              "    <tr>\n",
              "      <th>11</th>\n",
              "      <td>Indianapolis</td>\n",
              "      <td>28</td>\n",
              "      <td>52.3</td>\n",
              "      <td>361</td>\n",
              "      <td>746</td>\n",
              "      <td>9.7</td>\n",
              "      <td>38.74</td>\n",
              "      <td>121</td>\n",
              "    </tr>\n",
              "    <tr>\n",
              "      <th>12</th>\n",
              "      <td>Des Moines</td>\n",
              "      <td>17</td>\n",
              "      <td>49.0</td>\n",
              "      <td>104</td>\n",
              "      <td>201</td>\n",
              "      <td>11.2</td>\n",
              "      <td>30.85</td>\n",
              "      <td>103</td>\n",
              "    </tr>\n",
              "    <tr>\n",
              "      <th>13</th>\n",
              "      <td>Wichita</td>\n",
              "      <td>8</td>\n",
              "      <td>56.6</td>\n",
              "      <td>125</td>\n",
              "      <td>277</td>\n",
              "      <td>12.7</td>\n",
              "      <td>30.58</td>\n",
              "      <td>82</td>\n",
              "    </tr>\n",
              "    <tr>\n",
              "      <th>14</th>\n",
              "      <td>Louisville</td>\n",
              "      <td>30</td>\n",
              "      <td>55.6</td>\n",
              "      <td>291</td>\n",
              "      <td>593</td>\n",
              "      <td>8.3</td>\n",
              "      <td>43.11</td>\n",
              "      <td>123</td>\n",
              "    </tr>\n",
              "    <tr>\n",
              "      <th>15</th>\n",
              "      <td>New Orleans</td>\n",
              "      <td>9</td>\n",
              "      <td>68.3</td>\n",
              "      <td>204</td>\n",
              "      <td>361</td>\n",
              "      <td>8.4</td>\n",
              "      <td>56.77</td>\n",
              "      <td>113</td>\n",
              "    </tr>\n",
              "    <tr>\n",
              "      <th>16</th>\n",
              "      <td>Baltimore</td>\n",
              "      <td>47</td>\n",
              "      <td>55.0</td>\n",
              "      <td>625</td>\n",
              "      <td>905</td>\n",
              "      <td>9.6</td>\n",
              "      <td>41.31</td>\n",
              "      <td>111</td>\n",
              "    </tr>\n",
              "    <tr>\n",
              "      <th>17</th>\n",
              "      <td>Detroit</td>\n",
              "      <td>35</td>\n",
              "      <td>49.9</td>\n",
              "      <td>1064</td>\n",
              "      <td>1513</td>\n",
              "      <td>10.1</td>\n",
              "      <td>30.96</td>\n",
              "      <td>129</td>\n",
              "    </tr>\n",
              "    <tr>\n",
              "      <th>18</th>\n",
              "      <td>Minn-St. Paul</td>\n",
              "      <td>29</td>\n",
              "      <td>43.5</td>\n",
              "      <td>699</td>\n",
              "      <td>744</td>\n",
              "      <td>10.6</td>\n",
              "      <td>25.94</td>\n",
              "      <td>137</td>\n",
              "    </tr>\n",
              "    <tr>\n",
              "      <th>19</th>\n",
              "      <td>Kansas City</td>\n",
              "      <td>14</td>\n",
              "      <td>54.5</td>\n",
              "      <td>381</td>\n",
              "      <td>507</td>\n",
              "      <td>10.0</td>\n",
              "      <td>37.00</td>\n",
              "      <td>99</td>\n",
              "    </tr>\n",
              "    <tr>\n",
              "      <th>20</th>\n",
              "      <td>St. Louis</td>\n",
              "      <td>56</td>\n",
              "      <td>55.9</td>\n",
              "      <td>775</td>\n",
              "      <td>622</td>\n",
              "      <td>9.5</td>\n",
              "      <td>35.89</td>\n",
              "      <td>105</td>\n",
              "    </tr>\n",
              "    <tr>\n",
              "      <th>21</th>\n",
              "      <td>Omaha</td>\n",
              "      <td>14</td>\n",
              "      <td>51.5</td>\n",
              "      <td>181</td>\n",
              "      <td>347</td>\n",
              "      <td>10.9</td>\n",
              "      <td>30.18</td>\n",
              "      <td>98</td>\n",
              "    </tr>\n",
              "    <tr>\n",
              "      <th>22</th>\n",
              "      <td>Albuquerque</td>\n",
              "      <td>11</td>\n",
              "      <td>56.8</td>\n",
              "      <td>46</td>\n",
              "      <td>244</td>\n",
              "      <td>8.9</td>\n",
              "      <td>7.77</td>\n",
              "      <td>58</td>\n",
              "    </tr>\n",
              "    <tr>\n",
              "      <th>23</th>\n",
              "      <td>Albany</td>\n",
              "      <td>46</td>\n",
              "      <td>47.6</td>\n",
              "      <td>44</td>\n",
              "      <td>116</td>\n",
              "      <td>8.8</td>\n",
              "      <td>33.36</td>\n",
              "      <td>135</td>\n",
              "    </tr>\n",
              "    <tr>\n",
              "      <th>24</th>\n",
              "      <td>Buffalo</td>\n",
              "      <td>11</td>\n",
              "      <td>47.1</td>\n",
              "      <td>391</td>\n",
              "      <td>463</td>\n",
              "      <td>12.4</td>\n",
              "      <td>36.11</td>\n",
              "      <td>166</td>\n",
              "    </tr>\n",
              "    <tr>\n",
              "      <th>25</th>\n",
              "      <td>Cincinnati</td>\n",
              "      <td>23</td>\n",
              "      <td>54.0</td>\n",
              "      <td>462</td>\n",
              "      <td>453</td>\n",
              "      <td>7.1</td>\n",
              "      <td>39.04</td>\n",
              "      <td>132</td>\n",
              "    </tr>\n",
              "    <tr>\n",
              "      <th>26</th>\n",
              "      <td>Cleveland</td>\n",
              "      <td>65</td>\n",
              "      <td>49.7</td>\n",
              "      <td>1007</td>\n",
              "      <td>751</td>\n",
              "      <td>10.9</td>\n",
              "      <td>34.99</td>\n",
              "      <td>155</td>\n",
              "    </tr>\n",
              "    <tr>\n",
              "      <th>27</th>\n",
              "      <td>Columbus</td>\n",
              "      <td>26</td>\n",
              "      <td>51.5</td>\n",
              "      <td>266</td>\n",
              "      <td>540</td>\n",
              "      <td>8.6</td>\n",
              "      <td>37.01</td>\n",
              "      <td>134</td>\n",
              "    </tr>\n",
              "    <tr>\n",
              "      <th>28</th>\n",
              "      <td>Philadelphia</td>\n",
              "      <td>69</td>\n",
              "      <td>54.6</td>\n",
              "      <td>1692</td>\n",
              "      <td>1950</td>\n",
              "      <td>9.6</td>\n",
              "      <td>39.93</td>\n",
              "      <td>115</td>\n",
              "    </tr>\n",
              "    <tr>\n",
              "      <th>29</th>\n",
              "      <td>Pittsburgh</td>\n",
              "      <td>61</td>\n",
              "      <td>50.4</td>\n",
              "      <td>347</td>\n",
              "      <td>520</td>\n",
              "      <td>9.4</td>\n",
              "      <td>36.22</td>\n",
              "      <td>147</td>\n",
              "    </tr>\n",
              "    <tr>\n",
              "      <th>30</th>\n",
              "      <td>Providence</td>\n",
              "      <td>94</td>\n",
              "      <td>50.0</td>\n",
              "      <td>343</td>\n",
              "      <td>179</td>\n",
              "      <td>10.6</td>\n",
              "      <td>42.75</td>\n",
              "      <td>125</td>\n",
              "    </tr>\n",
              "    <tr>\n",
              "      <th>31</th>\n",
              "      <td>Memphis</td>\n",
              "      <td>10</td>\n",
              "      <td>61.6</td>\n",
              "      <td>337</td>\n",
              "      <td>624</td>\n",
              "      <td>9.2</td>\n",
              "      <td>49.10</td>\n",
              "      <td>105</td>\n",
              "    </tr>\n",
              "    <tr>\n",
              "      <th>32</th>\n",
              "      <td>Nashville</td>\n",
              "      <td>18</td>\n",
              "      <td>59.4</td>\n",
              "      <td>275</td>\n",
              "      <td>448</td>\n",
              "      <td>7.9</td>\n",
              "      <td>46.00</td>\n",
              "      <td>119</td>\n",
              "    </tr>\n",
              "    <tr>\n",
              "      <th>33</th>\n",
              "      <td>Dallas</td>\n",
              "      <td>9</td>\n",
              "      <td>66.2</td>\n",
              "      <td>641</td>\n",
              "      <td>844</td>\n",
              "      <td>10.9</td>\n",
              "      <td>35.94</td>\n",
              "      <td>78</td>\n",
              "    </tr>\n",
              "    <tr>\n",
              "      <th>34</th>\n",
              "      <td>Houston</td>\n",
              "      <td>10</td>\n",
              "      <td>68.9</td>\n",
              "      <td>721</td>\n",
              "      <td>1233</td>\n",
              "      <td>10.8</td>\n",
              "      <td>48.19</td>\n",
              "      <td>103</td>\n",
              "    </tr>\n",
              "    <tr>\n",
              "      <th>35</th>\n",
              "      <td>Salt Lake City</td>\n",
              "      <td>28</td>\n",
              "      <td>51.0</td>\n",
              "      <td>137</td>\n",
              "      <td>176</td>\n",
              "      <td>8.7</td>\n",
              "      <td>15.17</td>\n",
              "      <td>89</td>\n",
              "    </tr>\n",
              "    <tr>\n",
              "      <th>36</th>\n",
              "      <td>Norfolk</td>\n",
              "      <td>31</td>\n",
              "      <td>59.3</td>\n",
              "      <td>96</td>\n",
              "      <td>308</td>\n",
              "      <td>10.6</td>\n",
              "      <td>44.68</td>\n",
              "      <td>116</td>\n",
              "    </tr>\n",
              "    <tr>\n",
              "      <th>37</th>\n",
              "      <td>Richmond</td>\n",
              "      <td>26</td>\n",
              "      <td>57.8</td>\n",
              "      <td>197</td>\n",
              "      <td>299</td>\n",
              "      <td>7.6</td>\n",
              "      <td>42.59</td>\n",
              "      <td>115</td>\n",
              "    </tr>\n",
              "    <tr>\n",
              "      <th>38</th>\n",
              "      <td>Seattle</td>\n",
              "      <td>29</td>\n",
              "      <td>51.1</td>\n",
              "      <td>379</td>\n",
              "      <td>531</td>\n",
              "      <td>9.4</td>\n",
              "      <td>38.79</td>\n",
              "      <td>164</td>\n",
              "    </tr>\n",
              "    <tr>\n",
              "      <th>39</th>\n",
              "      <td>Charleston</td>\n",
              "      <td>31</td>\n",
              "      <td>55.2</td>\n",
              "      <td>35</td>\n",
              "      <td>71</td>\n",
              "      <td>6.5</td>\n",
              "      <td>40.75</td>\n",
              "      <td>148</td>\n",
              "    </tr>\n",
              "    <tr>\n",
              "      <th>40</th>\n",
              "      <td>Milwaukee</td>\n",
              "      <td>16</td>\n",
              "      <td>45.7</td>\n",
              "      <td>569</td>\n",
              "      <td>717</td>\n",
              "      <td>11.8</td>\n",
              "      <td>29.07</td>\n",
              "      <td>123</td>\n",
              "    </tr>\n",
              "  </tbody>\n",
              "</table>\n",
              "</div>"
            ],
            "text/plain": [
              "              City  SO2  Temp   Man   Pop  Wind   Rain  RainDays\n",
              "0          Phoenix   10  70.3   213   582   6.0   7.05        36\n",
              "1      Little Rock   13  61.0    91   132   8.2  48.52       100\n",
              "2    San Francisco   12  56.7   453   716   8.7  20.66        67\n",
              "3           Denver   17  51.9   454   515   9.0  12.95        86\n",
              "4         Hartford   56  49.1   412   158   9.0  43.37       127\n",
              "5       Wilmington   36  54.0    80    80   9.0  40.25       114\n",
              "6       Washington   29  57.3   434   757   9.3  38.89       111\n",
              "7     Jacksonville   14  68.4   136   529   8.8  54.47       116\n",
              "8            Miami   10  75.5   207   335   9.0  59.80       128\n",
              "9          Atlanta   24  61.5   368   497   9.1  48.34       115\n",
              "10         Chicago  110  50.6  3344  3369  10.4  34.44       122\n",
              "11    Indianapolis   28  52.3   361   746   9.7  38.74       121\n",
              "12      Des Moines   17  49.0   104   201  11.2  30.85       103\n",
              "13         Wichita    8  56.6   125   277  12.7  30.58        82\n",
              "14      Louisville   30  55.6   291   593   8.3  43.11       123\n",
              "15     New Orleans    9  68.3   204   361   8.4  56.77       113\n",
              "16       Baltimore   47  55.0   625   905   9.6  41.31       111\n",
              "17         Detroit   35  49.9  1064  1513  10.1  30.96       129\n",
              "18   Minn-St. Paul   29  43.5   699   744  10.6  25.94       137\n",
              "19     Kansas City   14  54.5   381   507  10.0  37.00        99\n",
              "20       St. Louis   56  55.9   775   622   9.5  35.89       105\n",
              "21           Omaha   14  51.5   181   347  10.9  30.18        98\n",
              "22     Albuquerque   11  56.8    46   244   8.9   7.77        58\n",
              "23          Albany   46  47.6    44   116   8.8  33.36       135\n",
              "24         Buffalo   11  47.1   391   463  12.4  36.11       166\n",
              "25      Cincinnati   23  54.0   462   453   7.1  39.04       132\n",
              "26       Cleveland   65  49.7  1007   751  10.9  34.99       155\n",
              "27        Columbus   26  51.5   266   540   8.6  37.01       134\n",
              "28    Philadelphia   69  54.6  1692  1950   9.6  39.93       115\n",
              "29      Pittsburgh   61  50.4   347   520   9.4  36.22       147\n",
              "30      Providence   94  50.0   343   179  10.6  42.75       125\n",
              "31         Memphis   10  61.6   337   624   9.2  49.10       105\n",
              "32       Nashville   18  59.4   275   448   7.9  46.00       119\n",
              "33          Dallas    9  66.2   641   844  10.9  35.94        78\n",
              "34         Houston   10  68.9   721  1233  10.8  48.19       103\n",
              "35  Salt Lake City   28  51.0   137   176   8.7  15.17        89\n",
              "36         Norfolk   31  59.3    96   308  10.6  44.68       116\n",
              "37        Richmond   26  57.8   197   299   7.6  42.59       115\n",
              "38         Seattle   29  51.1   379   531   9.4  38.79       164\n",
              "39      Charleston   31  55.2    35    71   6.5  40.75       148\n",
              "40       Milwaukee   16  45.7   569   717  11.8  29.07       123"
            ]
          },
          "metadata": {
            "tags": []
          },
          "execution_count": 60
        }
      ]
    },
    {
      "cell_type": "code",
      "metadata": {
        "id": "y00SnTbwm3eX"
      },
      "source": [
        ""
      ],
      "execution_count": null,
      "outputs": []
    }
  ]
}