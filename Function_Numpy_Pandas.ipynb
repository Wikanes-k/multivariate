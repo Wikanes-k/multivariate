{
  "nbformat": 4,
  "nbformat_minor": 0,
  "metadata": {
    "colab": {
      "name": "Function_Numpy_Pandas.ipynb",
      "provenance": [],
      "authorship_tag": "ABX9TyMYelhe9qKV332m1vrdqKB+",
      "include_colab_link": true
    },
    "kernelspec": {
      "name": "python3",
      "display_name": "Python 3"
    }
  },
  "cells": [
    {
      "cell_type": "markdown",
      "metadata": {
        "id": "view-in-github",
        "colab_type": "text"
      },
      "source": [
        "<a href=\"https://colab.research.google.com/github/Wikanes-k/multivariate/blob/main/Function_Numpy_Pandas.ipynb\" target=\"_parent\"><img src=\"https://colab.research.google.com/assets/colab-badge.svg\" alt=\"Open In Colab\"/></a>"
      ]
    },
    {
      "cell_type": "markdown",
      "metadata": {
        "id": "z9ttvR3NSRId"
      },
      "source": [
        "#Function"
      ]
    },
    {
      "cell_type": "markdown",
      "metadata": {
        "id": "kaZY7-eCUbkp"
      },
      "source": [
        ""
      ]
    },
    {
      "cell_type": "markdown",
      "metadata": {
        "id": "ehtlIGZKSV9a"
      },
      "source": [
        "Fungtion มีส่วนสำคัญทั้งหมด 4 ส่วน\r\n",
        "\r\n",
        "1.   บอก python ว่าเราจะเขียนฟังก์ชั่น ชื่ออะไร def function_name():  (ขาดไม่ได้)\r\n",
        "2.   กำหนดตัวแปรที่จะเป็น input Input (ขาดได้)\r\n",
        "3.   ส่วนประมวลผล do_something with Input to get Output (ขาดไม่ได้)\r\n",
        "4.   ส่วน output return Output (ขาดได้)\r\n",
        "\r\n",
        "เราใช้\r\n",
        "\r\n"
      ]
    },
    {
      "cell_type": "markdown",
      "metadata": {
        "id": "DrG0Pf3WfoYa"
      },
      "source": [
        "``` python\r\n",
        "def function_name(_input_):\r\n",
        "  do_something with _Input_ to produce _output_\r\n",
        "  return _output_\r\n",
        "  ```\r\n",
        "\r\n",
        "\r\n",
        "  ``` backtick กด alt -9 6"
      ]
    },
    {
      "cell_type": "code",
      "metadata": {
        "id": "W6Zn4D98SJiA"
      },
      "source": [
        "def print_name(name,surname,ID):\r\n",
        "  st = f'ชื่อ {name} นามสกุล {surname} ID {ID}'    #ต้องเว้นวรรคหน้าสุด / fต้องต่อกัน\r\n",
        "  return st"
      ],
      "execution_count": 1,
      "outputs": []
    },
    {
      "cell_type": "markdown",
      "metadata": {
        "id": "qXSBievtWT-O"
      },
      "source": [
        "การเรียกใช้ฟังชั่น"
      ]
    },
    {
      "cell_type": "code",
      "metadata": {
        "colab": {
          "base_uri": "https://localhost:8080/",
          "height": 35
        },
        "id": "w9bH0rHQVKvc",
        "outputId": "8973ae61-38bc-4552-cb7d-814f4fa47f3a"
      },
      "source": [
        "print_name('วิฆเนศ','เกียรติเกษมสุข','623021055-6')"
      ],
      "execution_count": 2,
      "outputs": [
        {
          "output_type": "execute_result",
          "data": {
            "application/vnd.google.colaboratory.intrinsic+json": {
              "type": "string"
            },
            "text/plain": [
              "'ชื่อ วิฆเนศ นามสกุล เกียรติเกษมสุข ID 623021055-6'"
            ]
          },
          "metadata": {
            "tags": []
          },
          "execution_count": 2
        }
      ]
    },
    {
      "cell_type": "code",
      "metadata": {
        "colab": {
          "base_uri": "https://localhost:8080/"
        },
        "id": "AgPuAJLDXJa4",
        "outputId": "388d4721-c046-49cb-b1ec-0cf8f491e8a1"
      },
      "source": [
        "output_string = print_name('วิฆเนศ','เกียรติเกษมสุข','623021055-6')\r\n",
        "print(output_string)"
      ],
      "execution_count": 3,
      "outputs": [
        {
          "output_type": "stream",
          "text": [
            "ชื่อ วิฆเนศ นามสกุล เกียรติเกษมสุข ID 623021055-6\n"
          ],
          "name": "stdout"
        }
      ]
    },
    {
      "cell_type": "markdown",
      "metadata": {
        "id": "G2mscIAqXgOa"
      },
      "source": [
        "ฟังก์ชั่นไม่จำเป็นต้องมี output"
      ]
    },
    {
      "cell_type": "code",
      "metadata": {
        "id": "3HHVs50GXn7Q"
      },
      "source": [
        "def print_name2(surname,ID,name):\r\n",
        "  st = f'ชื่อ {name} นามสกุล {surname} ID {ID}'\r\n",
        "  print(st)"
      ],
      "execution_count": 6,
      "outputs": []
    },
    {
      "cell_type": "code",
      "metadata": {
        "colab": {
          "base_uri": "https://localhost:8080/"
        },
        "id": "-EJ2euDrX4mI",
        "outputId": "56fb601d-7dcf-4888-d4b1-9711f9178bcc"
      },
      "source": [
        "print_name2('วิฆเนศ','เกียรติเกษมสุข','623021055-6')"
      ],
      "execution_count": 7,
      "outputs": [
        {
          "output_type": "stream",
          "text": [
            "ชื่อ 623021055-6 นามสกุล วิฆเนศ ID เกียรติเกษมสุข\n"
          ],
          "name": "stdout"
        }
      ]
    },
    {
      "cell_type": "code",
      "metadata": {
        "colab": {
          "base_uri": "https://localhost:8080/"
        },
        "id": "S02ZTTjCYT1s",
        "outputId": "e8fb31d5-6e7c-4fe8-ad5d-401bf9219f38"
      },
      "source": [
        "op2 = print_name2('วิฆเนศ','เกียรติเกษมสุข','623021055-6')"
      ],
      "execution_count": 8,
      "outputs": [
        {
          "output_type": "stream",
          "text": [
            "ชื่อ 623021055-6 นามสกุล วิฆเนศ ID เกียรติเกษมสุข\n"
          ],
          "name": "stdout"
        }
      ]
    },
    {
      "cell_type": "code",
      "metadata": {
        "colab": {
          "base_uri": "https://localhost:8080/"
        },
        "id": "zBDb_cNwYgLx",
        "outputId": "7753208c-86bd-4ce2-81c1-63cc34442cb8"
      },
      "source": [
        "print(op2)"
      ],
      "execution_count": 9,
      "outputs": [
        {
          "output_type": "stream",
          "text": [
            "None\n"
          ],
          "name": "stdout"
        }
      ]
    },
    {
      "cell_type": "markdown",
      "metadata": {
        "id": "vWXAZZqpZLNH"
      },
      "source": [
        "ฟังก์ชั่นไม่จำเป็นต้องมี input\r\n"
      ]
    },
    {
      "cell_type": "code",
      "metadata": {
        "id": "IbvfHt_LYkRg"
      },
      "source": [
        "def Pi():\r\n",
        "  return 3.14159265359"
      ],
      "execution_count": 10,
      "outputs": []
    },
    {
      "cell_type": "code",
      "metadata": {
        "colab": {
          "base_uri": "https://localhost:8080/"
        },
        "id": "UP5B0LI9ZbLZ",
        "outputId": "65371836-402c-49e2-ffb2-b99e22c95690"
      },
      "source": [
        "#คำนวนพื้นที่วงกลมที่มีขนาดเส้นผ่านศูนย์กลางเท่ากับ 3\r\n",
        "Pi()*(1.5**2)"
      ],
      "execution_count": 11,
      "outputs": [
        {
          "output_type": "execute_result",
          "data": {
            "text/plain": [
              "7.0685834705775"
            ]
          },
          "metadata": {
            "tags": []
          },
          "execution_count": 11
        }
      ]
    },
    {
      "cell_type": "code",
      "metadata": {
        "id": "cCe2jJ2OZo8-"
      },
      "source": [
        "def print_my_name():\r\n",
        "  print('วิฆเนศ เกียรติเกษมสุข ID623021055-6')"
      ],
      "execution_count": 12,
      "outputs": []
    },
    {
      "cell_type": "code",
      "metadata": {
        "colab": {
          "base_uri": "https://localhost:8080/"
        },
        "id": "p_yPlAbkZ60l",
        "outputId": "2997efb9-5284-4bd2-ef5c-3b6e41d2a534"
      },
      "source": [
        "print_my_name()"
      ],
      "execution_count": 14,
      "outputs": [
        {
          "output_type": "stream",
          "text": [
            "วิฆเนศ เกียรติเกษมสุข ID623021055-6\n"
          ],
          "name": "stdout"
        }
      ]
    },
    {
      "cell_type": "markdown",
      "metadata": {
        "id": "UG4USVKhaNbF"
      },
      "source": [
        "###1.imput ของ function ใน python มีสองแบบ input ที่จำเป็นต้องใส่ กับ input ที่ไม่จำเป็นต้องใส่ (มีค่า default)\r\n",
        "\r\n",
        "###2.เราต้องเรียง input ที่จำเป็นต้องใส่ขึ้นก่อน"
      ]
    },
    {
      "cell_type": "code",
      "metadata": {
        "id": "pSl7ylm7Z91W"
      },
      "source": [
        "def print_2line_default(name,surname,ID,grade='B'):\r\n",
        "  st = f'ชื่อ {name} นามสกุล {surname} ID {ID}'    #ต้องเว้นวรรคหน้าสุด / fต้องต่อกัน\r\n",
        "  print(st)\r\n",
        "  st2=f'เกรดวิชา Multivariate >>> {grade}'\r\n",
        "  print(st2)"
      ],
      "execution_count": 19,
      "outputs": []
    },
    {
      "cell_type": "code",
      "metadata": {
        "colab": {
          "base_uri": "https://localhost:8080/"
        },
        "id": "ULPNju0sbY6R",
        "outputId": "ff7803a3-a362-4f00-cfcf-e561471ea1aa"
      },
      "source": [
        "print_2line_default('วิฆเนศ','เกียรติเกษมสุข','623021055-6')"
      ],
      "execution_count": 20,
      "outputs": [
        {
          "output_type": "stream",
          "text": [
            "ชื่อ วิฆเนศ นามสกุล เกียรติเกษมสุข ID 623021055-6\n",
            "เกรดวิชา Multivariate >>> B\n"
          ],
          "name": "stdout"
        }
      ]
    },
    {
      "cell_type": "code",
      "metadata": {
        "colab": {
          "base_uri": "https://localhost:8080/"
        },
        "id": "CDKEkHyLbfc0",
        "outputId": "90450f9e-ed73-492e-f9f5-b325c0fca590"
      },
      "source": [
        "print_2line_default('วิฆเนศ','เกียรติเกษมสุข','623021055-6','A')"
      ],
      "execution_count": 21,
      "outputs": [
        {
          "output_type": "stream",
          "text": [
            "ชื่อ วิฆเนศ นามสกุล เกียรติเกษมสุข ID 623021055-6\n",
            "เกรดวิชา Multivariate >>> A\n"
          ],
          "name": "stdout"
        }
      ]
    },
    {
      "cell_type": "markdown",
      "metadata": {
        "id": "kahWhocEcHFz"
      },
      "source": [
        "เราสามารถเรียกฟังก์ชั่นโดยใช้ชื่อตัวแปรของฟังก์ชั่นช่วยได้"
      ]
    },
    {
      "cell_type": "code",
      "metadata": {
        "colab": {
          "base_uri": "https://localhost:8080/"
        },
        "id": "wyw_WLxubzUv",
        "outputId": "5f4f6f06-f0ba-4efe-e910-2544b7461eff"
      },
      "source": [
        "print_name2(name='วิฆเนศ',surname='เกียรติเกษมสุข',ID='623021055-6')"
      ],
      "execution_count": 22,
      "outputs": [
        {
          "output_type": "stream",
          "text": [
            "ชื่อ วิฆเนศ นามสกุล เกียรติเกษมสุข ID 623021055-6\n"
          ],
          "name": "stdout"
        }
      ]
    },
    {
      "cell_type": "markdown",
      "metadata": {
        "id": "vjM0mau6cuka"
      },
      "source": [
        "HW3 ให้เขียน function คำนวนจำนวนนาทีจาก เวลาต่อไปนี้\r\n",
        "\r\n",
        "'14-15-31'\r\n",
        "\r\n",
        "'13-00-01'\r\n",
        "\r\n",
        "'05-49-44'\r\n",
        "\r\n",
        "'00-00-16'\r\n",
        "\r\n",
        "และ print ให้สวยงาม"
      ]
    },
    {
      "cell_type": "code",
      "metadata": {
        "id": "v5zaKASeccbO"
      },
      "source": [
        ""
      ],
      "execution_count": null,
      "outputs": []
    }
  ]
}