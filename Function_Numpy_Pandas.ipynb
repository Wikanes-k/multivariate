{
  "nbformat": 4,
  "nbformat_minor": 0,
  "metadata": {
    "colab": {
      "name": "Function_Numpy_Pandas.ipynb",
      "provenance": [],
      "include_colab_link": true
    },
    "kernelspec": {
      "name": "python3",
      "display_name": "Python 3"
    }
  },
  "cells": [
    {
      "cell_type": "markdown",
      "metadata": {
        "id": "view-in-github",
        "colab_type": "text"
      },
      "source": [
        "<a href=\"https://colab.research.google.com/github/Wikanes-k/multivariate/blob/main/Function_Numpy_Pandas.ipynb\" target=\"_parent\"><img src=\"https://colab.research.google.com/assets/colab-badge.svg\" alt=\"Open In Colab\"/></a>"
      ]
    },
    {
      "cell_type": "markdown",
      "metadata": {
        "id": "z9ttvR3NSRId"
      },
      "source": [
        "#Function"
      ]
    },
    {
      "cell_type": "markdown",
      "metadata": {
        "id": "kaZY7-eCUbkp"
      },
      "source": [
        ""
      ]
    },
    {
      "cell_type": "markdown",
      "metadata": {
        "id": "ehtlIGZKSV9a"
      },
      "source": [
        "Fungtion มีส่วนสำคัญทั้งหมด 4 ส่วน\r\n",
        "\r\n",
        "1.   บอก python ว่าเราจะเขียนฟังก์ชั่น ชื่ออะไร def function_name():  (ขาดไม่ได้)\r\n",
        "2.   กำหนดตัวแปรที่จะเป็น input Input (ขาดได้)\r\n",
        "3.   ส่วนประมวลผล do_something with Input to get Output (ขาดไม่ได้)\r\n",
        "4.   ส่วน output return Output (ขาดได้)\r\n",
        "\r\n",
        "เราใช้\r\n",
        "\r\n"
      ]
    },
    {
      "cell_type": "markdown",
      "metadata": {
        "id": "DrG0Pf3WfoYa"
      },
      "source": [
        "``` python\r\n",
        "def function_name(_input_):\r\n",
        "  do_something with _Input_ to produce _output_\r\n",
        "  return _output_\r\n",
        "  ```\r\n",
        "\r\n",
        "\r\n",
        "  ``` backtick กด alt -9 6"
      ]
    },
    {
      "cell_type": "code",
      "metadata": {
        "id": "W6Zn4D98SJiA"
      },
      "source": [
        "def print_name(name,surname,ID):\r\n",
        "  st = f'ชื่อ {name} นามสกุล {surname} ID {ID}'    #ต้องเว้นวรรคหน้าสุด / fต้องต่อกัน /จำคำสั่ง\r\n",
        "  return st"
      ],
      "execution_count": 2,
      "outputs": []
    },
    {
      "cell_type": "markdown",
      "metadata": {
        "id": "qXSBievtWT-O"
      },
      "source": [
        "การเรียกใช้ฟังชั่น"
      ]
    },
    {
      "cell_type": "code",
      "metadata": {
        "colab": {
          "base_uri": "https://localhost:8080/",
          "height": 35
        },
        "id": "w9bH0rHQVKvc",
        "outputId": "507e0bb6-60d6-4dfd-f943-ef2dc1c6e95d"
      },
      "source": [
        "print_name('วิฆเนศ','เกียรติเกษมสุข','623021055-6')    #เรียกใช้คำสั่ง"
      ],
      "execution_count": 3,
      "outputs": [
        {
          "output_type": "execute_result",
          "data": {
            "application/vnd.google.colaboratory.intrinsic+json": {
              "type": "string"
            },
            "text/plain": [
              "'ชื่อ วิฆเนศ นามสกุล เกียรติเกษมสุข ID 623021055-6'"
            ]
          },
          "metadata": {
            "tags": []
          },
          "execution_count": 3
        }
      ]
    },
    {
      "cell_type": "code",
      "metadata": {
        "colab": {
          "base_uri": "https://localhost:8080/"
        },
        "id": "AgPuAJLDXJa4",
        "outputId": "463995f1-1b3d-4ba7-bf8d-a9b32203fc49"
      },
      "source": [
        "output_string = print_name('วิฆเนศ','เกียรติเกษมสุข','623021055-6')   #เรียกคำสั่งเป็นตัวหนังสือ\r\n",
        "print(output_string)"
      ],
      "execution_count": 4,
      "outputs": [
        {
          "output_type": "stream",
          "text": [
            "ชื่อ วิฆเนศ นามสกุล เกียรติเกษมสุข ID 623021055-6\n"
          ],
          "name": "stdout"
        }
      ]
    },
    {
      "cell_type": "markdown",
      "metadata": {
        "id": "G2mscIAqXgOa"
      },
      "source": [
        "ฟังก์ชั่นไม่จำเป็นต้องมี output"
      ]
    },
    {
      "cell_type": "code",
      "metadata": {
        "id": "3HHVs50GXn7Q"
      },
      "source": [
        "def print_name2(surname,ID,name):                  \r\n",
        "  st = f'ชื่อ {name} นามสกุล {surname} ID {ID}'\r\n",
        "  print(st)"
      ],
      "execution_count": 5,
      "outputs": []
    },
    {
      "cell_type": "code",
      "metadata": {
        "colab": {
          "base_uri": "https://localhost:8080/"
        },
        "id": "-EJ2euDrX4mI",
        "outputId": "61e27edd-382d-4ee9-f0b3-01cb47087ac6"
      },
      "source": [
        "print_name2('วิฆเนศ','เกียรติเกษมสุข','623021055-6')"
      ],
      "execution_count": 6,
      "outputs": [
        {
          "output_type": "stream",
          "text": [
            "ชื่อ 623021055-6 นามสกุล วิฆเนศ ID เกียรติเกษมสุข\n"
          ],
          "name": "stdout"
        }
      ]
    },
    {
      "cell_type": "code",
      "metadata": {
        "colab": {
          "base_uri": "https://localhost:8080/"
        },
        "id": "S02ZTTjCYT1s",
        "outputId": "010f7a14-e6e1-4aaa-feaa-f8b03450fd7d"
      },
      "source": [
        "op2 = print_name2('วิฆเนศ','เกียรติเกษมสุข','623021055-6')"
      ],
      "execution_count": 7,
      "outputs": [
        {
          "output_type": "stream",
          "text": [
            "ชื่อ 623021055-6 นามสกุล วิฆเนศ ID เกียรติเกษมสุข\n"
          ],
          "name": "stdout"
        }
      ]
    },
    {
      "cell_type": "code",
      "metadata": {
        "colab": {
          "base_uri": "https://localhost:8080/"
        },
        "id": "zBDb_cNwYgLx",
        "outputId": "22f89868-3b1a-4cb0-8a24-53c4430edbb8"
      },
      "source": [
        "print(op2)"
      ],
      "execution_count": 8,
      "outputs": [
        {
          "output_type": "stream",
          "text": [
            "None\n"
          ],
          "name": "stdout"
        }
      ]
    },
    {
      "cell_type": "markdown",
      "metadata": {
        "id": "vWXAZZqpZLNH"
      },
      "source": [
        "ฟังก์ชั่นไม่จำเป็นต้องมี input\r\n"
      ]
    },
    {
      "cell_type": "code",
      "metadata": {
        "id": "IbvfHt_LYkRg"
      },
      "source": [
        "def Pi():\r\n",
        "  return 3.14159265359"
      ],
      "execution_count": 9,
      "outputs": []
    },
    {
      "cell_type": "code",
      "metadata": {
        "colab": {
          "base_uri": "https://localhost:8080/"
        },
        "id": "UP5B0LI9ZbLZ",
        "outputId": "8a8da54e-9752-47f1-f735-e2166ec3421c"
      },
      "source": [
        "#คำนวนพื้นที่วงกลมที่มีขนาดเส้นผ่านศูนย์กลางเท่ากับ 3\r\n",
        "Pi()*(1.5**2)"
      ],
      "execution_count": 10,
      "outputs": [
        {
          "output_type": "execute_result",
          "data": {
            "text/plain": [
              "7.0685834705775"
            ]
          },
          "metadata": {
            "tags": []
          },
          "execution_count": 10
        }
      ]
    },
    {
      "cell_type": "code",
      "metadata": {
        "id": "cCe2jJ2OZo8-"
      },
      "source": [
        "def print_my_name():\r\n",
        "  print('วิฆเนศ เกียรติเกษมสุข ID623021055-6')"
      ],
      "execution_count": 11,
      "outputs": []
    },
    {
      "cell_type": "code",
      "metadata": {
        "colab": {
          "base_uri": "https://localhost:8080/"
        },
        "id": "p_yPlAbkZ60l",
        "outputId": "80a5a9a5-67ce-4e2b-b69f-e913121a55bb"
      },
      "source": [
        "print_my_name()"
      ],
      "execution_count": 12,
      "outputs": [
        {
          "output_type": "stream",
          "text": [
            "วิฆเนศ เกียรติเกษมสุข ID623021055-6\n"
          ],
          "name": "stdout"
        }
      ]
    },
    {
      "cell_type": "markdown",
      "metadata": {
        "id": "UG4USVKhaNbF"
      },
      "source": [
        "###1.imput ของ function ใน python มีสองแบบ input ที่จำเป็นต้องใส่ กับ input ที่ไม่จำเป็นต้องใส่ (มีค่า default)\r\n",
        "\r\n",
        "###2.เราต้องเรียง input ที่จำเป็นต้องใส่ขึ้นก่อน"
      ]
    },
    {
      "cell_type": "code",
      "metadata": {
        "id": "pSl7ylm7Z91W"
      },
      "source": [
        "def print_2line_default(name,surname,ID,grade='B'):\r\n",
        "  st = f'ชื่อ {name} นามสกุล {surname} ID {ID}'    #ต้องเว้นวรรคหน้าสุด / fต้องต่อกัน\r\n",
        "  print(st)\r\n",
        "  st2=f'เกรดวิชา Multivariate >>> {grade}'\r\n",
        "  print(st2)"
      ],
      "execution_count": 13,
      "outputs": []
    },
    {
      "cell_type": "code",
      "metadata": {
        "colab": {
          "base_uri": "https://localhost:8080/"
        },
        "id": "ULPNju0sbY6R",
        "outputId": "30f7b304-3f59-459c-b50a-397b86a68ebf"
      },
      "source": [
        "print_2line_default('วิฆเนศ','เกียรติเกษมสุข','623021055-6')"
      ],
      "execution_count": 14,
      "outputs": [
        {
          "output_type": "stream",
          "text": [
            "ชื่อ วิฆเนศ นามสกุล เกียรติเกษมสุข ID 623021055-6\n",
            "เกรดวิชา Multivariate >>> B\n"
          ],
          "name": "stdout"
        }
      ]
    },
    {
      "cell_type": "code",
      "metadata": {
        "colab": {
          "base_uri": "https://localhost:8080/"
        },
        "id": "CDKEkHyLbfc0",
        "outputId": "b851538e-6653-4407-9b3a-24699bd4d4b7"
      },
      "source": [
        "print_2line_default('วิฆเนศ','เกียรติเกษมสุข','623021055-6','A')"
      ],
      "execution_count": 15,
      "outputs": [
        {
          "output_type": "stream",
          "text": [
            "ชื่อ วิฆเนศ นามสกุล เกียรติเกษมสุข ID 623021055-6\n",
            "เกรดวิชา Multivariate >>> A\n"
          ],
          "name": "stdout"
        }
      ]
    },
    {
      "cell_type": "markdown",
      "metadata": {
        "id": "kahWhocEcHFz"
      },
      "source": [
        "เราสามารถเรียกฟังก์ชั่นโดยใช้ชื่อตัวแปรของฟังก์ชั่นช่วยได้"
      ]
    },
    {
      "cell_type": "code",
      "metadata": {
        "colab": {
          "base_uri": "https://localhost:8080/"
        },
        "id": "wyw_WLxubzUv",
        "outputId": "ae27e15c-328e-465c-a3cd-251751636d43"
      },
      "source": [
        "print_name2(name='วิฆเนศ',surname='เกียรติเกษมสุข',ID='623021055-6')"
      ],
      "execution_count": 16,
      "outputs": [
        {
          "output_type": "stream",
          "text": [
            "ชื่อ วิฆเนศ นามสกุล เกียรติเกษมสุข ID 623021055-6\n"
          ],
          "name": "stdout"
        }
      ]
    },
    {
      "cell_type": "markdown",
      "metadata": {
        "id": "vjM0mau6cuka"
      },
      "source": [
        "HW3 ให้เขียน function คำนวนจำนวนนาทีจาก เวลาต่อไปนี้\r\n",
        "\r\n",
        "'14-15-31'\r\n",
        "\r\n",
        "'13-00-01'\r\n",
        "\r\n",
        "'05-49-44'\r\n",
        "\r\n",
        "'00-00-16'\r\n",
        "\r\n",
        "และ print ให้สวยงาม"
      ]
    },
    {
      "cell_type": "code",
      "metadata": {
        "id": "v5zaKASeccbO"
      },
      "source": [
        "def print_time(time):\r\n",
        "  time_sp = time.split('-')\r\n",
        "  answer = int(time_sp[0]) * 3600 + int(time_sp[1]) * 60 + int(time_sp[2])\r\n",
        "  print(f'คำนวนเป็นเวลาได้เท่ากับ {answer} วินาที')"
      ],
      "execution_count": 17,
      "outputs": []
    },
    {
      "cell_type": "code",
      "metadata": {
        "id": "1i68vBTRv0cO",
        "outputId": "85da95ea-1f2b-48e3-ac58-2a048508aab9",
        "colab": {
          "base_uri": "https://localhost:8080/"
        }
      },
      "source": [
        "print_time('14-15-31')"
      ],
      "execution_count": 18,
      "outputs": [
        {
          "output_type": "stream",
          "text": [
            "คำนวนเป็นเวลาได้เท่ากับ 51331 วินาที\n"
          ],
          "name": "stdout"
        }
      ]
    },
    {
      "cell_type": "code",
      "metadata": {
        "id": "FBP9jTsIwSW4",
        "outputId": "5a6758ff-9833-4be9-e7f4-056ffedb9f40",
        "colab": {
          "base_uri": "https://localhost:8080/"
        }
      },
      "source": [
        "print_time('13-00-01')"
      ],
      "execution_count": 19,
      "outputs": [
        {
          "output_type": "stream",
          "text": [
            "คำนวนเป็นเวลาได้เท่ากับ 46801 วินาที\n"
          ],
          "name": "stdout"
        }
      ]
    },
    {
      "cell_type": "code",
      "metadata": {
        "id": "ug09cJuVwbEw",
        "outputId": "d26559ea-7adf-46ef-e17d-6aad506ba817",
        "colab": {
          "base_uri": "https://localhost:8080/"
        }
      },
      "source": [
        "print_time('05-49-44')"
      ],
      "execution_count": 20,
      "outputs": [
        {
          "output_type": "stream",
          "text": [
            "คำนวนเป็นเวลาได้เท่ากับ 20984 วินาที\n"
          ],
          "name": "stdout"
        }
      ]
    },
    {
      "cell_type": "code",
      "metadata": {
        "id": "Cdj5ZHprwhS1",
        "outputId": "2f9cf02e-7cb0-49a9-97be-b04c1b52692f",
        "colab": {
          "base_uri": "https://localhost:8080/"
        }
      },
      "source": [
        "print_time('00-00-16')"
      ],
      "execution_count": 21,
      "outputs": [
        {
          "output_type": "stream",
          "text": [
            "คำนวนเป็นเวลาได้เท่ากับ 16 วินาที\n"
          ],
          "name": "stdout"
        }
      ]
    },
    {
      "cell_type": "code",
      "metadata": {
        "id": "HE5W8qHqwlTU"
      },
      "source": [
        ""
      ],
      "execution_count": null,
      "outputs": []
    }
  ]
}