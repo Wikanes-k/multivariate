{
  "nbformat": 4,
  "nbformat_minor": 0,
  "metadata": {
    "colab": {
      "name": "Function_Numpy_Pandas.ipynb",
      "provenance": [],
      "include_colab_link": true
    },
    "kernelspec": {
      "name": "python3",
      "display_name": "Python 3"
    }
  },
  "cells": [
    {
      "cell_type": "markdown",
      "metadata": {
        "id": "view-in-github",
        "colab_type": "text"
      },
      "source": [
        "<a href=\"https://colab.research.google.com/github/Wikanes-k/multivariate/blob/main/Function_Numpy_Pandas.ipynb\" target=\"_parent\"><img src=\"https://colab.research.google.com/assets/colab-badge.svg\" alt=\"Open In Colab\"/></a>"
      ]
    },
    {
      "cell_type": "markdown",
      "metadata": {
        "id": "z9ttvR3NSRId"
      },
      "source": [
        "#Function"
      ]
    },
    {
      "cell_type": "markdown",
      "metadata": {
        "id": "kaZY7-eCUbkp"
      },
      "source": [
        ""
      ]
    },
    {
      "cell_type": "markdown",
      "metadata": {
        "id": "ehtlIGZKSV9a"
      },
      "source": [
        "Fungtion มีส่วนสำคัญทั้งหมด 4 ส่วน\r\n",
        "\r\n",
        "1.   บอก python ว่าเราจะเขียนฟังก์ชั่น ชื่ออะไร def function_name():  (ขาดไม่ได้)\r\n",
        "2.   กำหนดตัวแปรที่จะเป็น input Input (ขาดได้)\r\n",
        "3.   ส่วนประมวลผล do_something with Input to get Output (ขาดไม่ได้)\r\n",
        "4.   ส่วน output return Output (ขาดได้)\r\n",
        "\r\n",
        "เราใช้\r\n",
        "\r\n"
      ]
    },
    {
      "cell_type": "markdown",
      "metadata": {
        "id": "DrG0Pf3WfoYa"
      },
      "source": [
        "``` python\r\n",
        "def function_name(_input_):\r\n",
        "  do_something with _Input_ to produce _output_\r\n",
        "  return _output_\r\n",
        "  ```\r\n",
        "\r\n",
        "\r\n",
        "  ``` backtick กด alt -9 6"
      ]
    },
    {
      "cell_type": "code",
      "metadata": {
        "id": "W6Zn4D98SJiA"
      },
      "source": [
        "def print_name(name,surname,ID):\r\n",
        "  st = f'ชื่อ {name} นามสกุล {surname} ID {ID}'    #ต้องเว้นวรรคหน้าสุด / fต้องต่อกัน /จำคำสั่ง\r\n",
        "  return st"
      ],
      "execution_count": 1,
      "outputs": []
    },
    {
      "cell_type": "markdown",
      "metadata": {
        "id": "qXSBievtWT-O"
      },
      "source": [
        "การเรียกใช้ฟังชั่น"
      ]
    },
    {
      "cell_type": "code",
      "metadata": {
        "colab": {
          "base_uri": "https://localhost:8080/",
          "height": 35
        },
        "id": "w9bH0rHQVKvc",
        "outputId": "45886d6e-6019-4693-e92c-989d78467a0e"
      },
      "source": [
        "print_name('วิฆเนศ','เกียรติเกษมสุข','623021055-6')    #เรียกใช้คำสั่ง"
      ],
      "execution_count": 2,
      "outputs": [
        {
          "output_type": "execute_result",
          "data": {
            "application/vnd.google.colaboratory.intrinsic+json": {
              "type": "string"
            },
            "text/plain": [
              "'ชื่อ วิฆเนศ นามสกุล เกียรติเกษมสุข ID 623021055-6'"
            ]
          },
          "metadata": {
            "tags": []
          },
          "execution_count": 2
        }
      ]
    },
    {
      "cell_type": "code",
      "metadata": {
        "colab": {
          "base_uri": "https://localhost:8080/"
        },
        "id": "AgPuAJLDXJa4",
        "outputId": "e98673fd-442d-4f27-be46-b4dd08bf447b"
      },
      "source": [
        "output_string = print_name('วิฆเนศ','เกียรติเกษมสุข','623021055-6')   #เรียกคำสั่งเป็นตัวหนังสือ\r\n",
        "print(output_string)"
      ],
      "execution_count": 3,
      "outputs": [
        {
          "output_type": "stream",
          "text": [
            "ชื่อ วิฆเนศ นามสกุล เกียรติเกษมสุข ID 623021055-6\n"
          ],
          "name": "stdout"
        }
      ]
    },
    {
      "cell_type": "markdown",
      "metadata": {
        "id": "G2mscIAqXgOa"
      },
      "source": [
        "ฟังก์ชั่นไม่จำเป็นต้องมี output"
      ]
    },
    {
      "cell_type": "code",
      "metadata": {
        "id": "3HHVs50GXn7Q"
      },
      "source": [
        "def print_name2(surname,ID,name):                  \r\n",
        "  st = f'ชื่อ {name} นามสกุล {surname} ID {ID}'\r\n",
        "  print(st)"
      ],
      "execution_count": 4,
      "outputs": []
    },
    {
      "cell_type": "code",
      "metadata": {
        "colab": {
          "base_uri": "https://localhost:8080/"
        },
        "id": "-EJ2euDrX4mI",
        "outputId": "69038b9f-09a3-47f1-dbfc-f41176894932"
      },
      "source": [
        "print_name2('วิฆเนศ','เกียรติเกษมสุข','623021055-6')"
      ],
      "execution_count": 5,
      "outputs": [
        {
          "output_type": "stream",
          "text": [
            "ชื่อ 623021055-6 นามสกุล วิฆเนศ ID เกียรติเกษมสุข\n"
          ],
          "name": "stdout"
        }
      ]
    },
    {
      "cell_type": "code",
      "metadata": {
        "colab": {
          "base_uri": "https://localhost:8080/"
        },
        "id": "S02ZTTjCYT1s",
        "outputId": "03faca9e-8e6b-434c-bff3-2cb890a1f1ea"
      },
      "source": [
        "op2 = print_name2('วิฆเนศ','เกียรติเกษมสุข','623021055-6')"
      ],
      "execution_count": 6,
      "outputs": [
        {
          "output_type": "stream",
          "text": [
            "ชื่อ 623021055-6 นามสกุล วิฆเนศ ID เกียรติเกษมสุข\n"
          ],
          "name": "stdout"
        }
      ]
    },
    {
      "cell_type": "code",
      "metadata": {
        "colab": {
          "base_uri": "https://localhost:8080/"
        },
        "id": "zBDb_cNwYgLx",
        "outputId": "cb0072f3-d868-4635-a4e9-bcdecea0723a"
      },
      "source": [
        "print(op2)"
      ],
      "execution_count": 7,
      "outputs": [
        {
          "output_type": "stream",
          "text": [
            "None\n"
          ],
          "name": "stdout"
        }
      ]
    },
    {
      "cell_type": "markdown",
      "metadata": {
        "id": "vWXAZZqpZLNH"
      },
      "source": [
        "ฟังก์ชั่นไม่จำเป็นต้องมี input\r\n"
      ]
    },
    {
      "cell_type": "code",
      "metadata": {
        "id": "IbvfHt_LYkRg"
      },
      "source": [
        "def Pi():\r\n",
        "  return 3.14159265359"
      ],
      "execution_count": 8,
      "outputs": []
    },
    {
      "cell_type": "code",
      "metadata": {
        "colab": {
          "base_uri": "https://localhost:8080/"
        },
        "id": "UP5B0LI9ZbLZ",
        "outputId": "50fb523c-b92d-422d-a33a-1ec68cca4f35"
      },
      "source": [
        "#คำนวนพื้นที่วงกลมที่มีขนาดเส้นผ่านศูนย์กลางเท่ากับ 3\r\n",
        "Pi()*(1.5**2)"
      ],
      "execution_count": 9,
      "outputs": [
        {
          "output_type": "execute_result",
          "data": {
            "text/plain": [
              "7.0685834705775"
            ]
          },
          "metadata": {
            "tags": []
          },
          "execution_count": 9
        }
      ]
    },
    {
      "cell_type": "code",
      "metadata": {
        "id": "cCe2jJ2OZo8-"
      },
      "source": [
        "def print_my_name():\r\n",
        "  print('วิฆเนศ เกียรติเกษมสุข ID623021055-6')"
      ],
      "execution_count": 10,
      "outputs": []
    },
    {
      "cell_type": "code",
      "metadata": {
        "colab": {
          "base_uri": "https://localhost:8080/"
        },
        "id": "p_yPlAbkZ60l",
        "outputId": "3a77960d-cdd3-4b4f-8a22-7d0b2c3bec1d"
      },
      "source": [
        "print_my_name()"
      ],
      "execution_count": 11,
      "outputs": [
        {
          "output_type": "stream",
          "text": [
            "วิฆเนศ เกียรติเกษมสุข ID623021055-6\n"
          ],
          "name": "stdout"
        }
      ]
    },
    {
      "cell_type": "markdown",
      "metadata": {
        "id": "UG4USVKhaNbF"
      },
      "source": [
        "###1.imput ของ function ใน python มีสองแบบ input ที่จำเป็นต้องใส่ กับ input ที่ไม่จำเป็นต้องใส่ (มีค่า default)\r\n",
        "\r\n",
        "###2.เราต้องเรียง input ที่จำเป็นต้องใส่ขึ้นก่อน"
      ]
    },
    {
      "cell_type": "code",
      "metadata": {
        "id": "pSl7ylm7Z91W"
      },
      "source": [
        "def print_2line_default(name,surname,ID,grade='B'):\r\n",
        "  st = f'ชื่อ {name} นามสกุล {surname} ID {ID}'    #ต้องเว้นวรรคหน้าสุด / fต้องต่อกัน\r\n",
        "  print(st)\r\n",
        "  st2=f'เกรดวิชา Multivariate >>> {grade}'\r\n",
        "  print(st2)"
      ],
      "execution_count": 12,
      "outputs": []
    },
    {
      "cell_type": "code",
      "metadata": {
        "colab": {
          "base_uri": "https://localhost:8080/"
        },
        "id": "ULPNju0sbY6R",
        "outputId": "7ba0a4c3-2e42-4ee5-840d-2fc1bdbe1631"
      },
      "source": [
        "print_2line_default('วิฆเนศ','เกียรติเกษมสุข','623021055-6')"
      ],
      "execution_count": 13,
      "outputs": [
        {
          "output_type": "stream",
          "text": [
            "ชื่อ วิฆเนศ นามสกุล เกียรติเกษมสุข ID 623021055-6\n",
            "เกรดวิชา Multivariate >>> B\n"
          ],
          "name": "stdout"
        }
      ]
    },
    {
      "cell_type": "code",
      "metadata": {
        "colab": {
          "base_uri": "https://localhost:8080/"
        },
        "id": "CDKEkHyLbfc0",
        "outputId": "c6d2e31b-cc46-46e0-8b5a-d736072d93da"
      },
      "source": [
        "print_2line_default('วิฆเนศ','เกียรติเกษมสุข','623021055-6','A')"
      ],
      "execution_count": 14,
      "outputs": [
        {
          "output_type": "stream",
          "text": [
            "ชื่อ วิฆเนศ นามสกุล เกียรติเกษมสุข ID 623021055-6\n",
            "เกรดวิชา Multivariate >>> A\n"
          ],
          "name": "stdout"
        }
      ]
    },
    {
      "cell_type": "markdown",
      "metadata": {
        "id": "kahWhocEcHFz"
      },
      "source": [
        "เราสามารถเรียกฟังก์ชั่นโดยใช้ชื่อตัวแปรของฟังก์ชั่นช่วยได้"
      ]
    },
    {
      "cell_type": "code",
      "metadata": {
        "colab": {
          "base_uri": "https://localhost:8080/"
        },
        "id": "wyw_WLxubzUv",
        "outputId": "d0188538-44aa-419a-b484-058788c502d4"
      },
      "source": [
        "print_name2(name='วิฆเนศ',surname='เกียรติเกษมสุข',ID='623021055-6')"
      ],
      "execution_count": 15,
      "outputs": [
        {
          "output_type": "stream",
          "text": [
            "ชื่อ วิฆเนศ นามสกุล เกียรติเกษมสุข ID 623021055-6\n"
          ],
          "name": "stdout"
        }
      ]
    },
    {
      "cell_type": "markdown",
      "metadata": {
        "id": "vjM0mau6cuka"
      },
      "source": [
        "HW3 ให้เขียน function คำนวนจำนวนนาทีจาก เวลาต่อไปนี้\r\n",
        "\r\n",
        "'14-15-31'\r\n",
        "\r\n",
        "'13-00-01'\r\n",
        "\r\n",
        "'05-49-44'\r\n",
        "\r\n",
        "'00-00-16'\r\n",
        "\r\n",
        "และ print ให้สวยงาม"
      ]
    },
    {
      "cell_type": "code",
      "metadata": {
        "id": "v5zaKASeccbO"
      },
      "source": [
        "def print_time(time):\r\n",
        "  time_sp = time.split('-')\r\n",
        "  answer = int(time_sp[0]) * 3600 + int(time_sp[1]) * 60 + int(time_sp[2])\r\n",
        "  print(f'คำนวนเป็นเวลาได้เท่ากับ {answer} วินาที')"
      ],
      "execution_count": 16,
      "outputs": []
    },
    {
      "cell_type": "code",
      "metadata": {
        "id": "1i68vBTRv0cO",
        "colab": {
          "base_uri": "https://localhost:8080/"
        },
        "outputId": "ca2e5f29-77aa-4072-eb7e-6ac73ed084ca"
      },
      "source": [
        "print_time('14-15-31')"
      ],
      "execution_count": 17,
      "outputs": [
        {
          "output_type": "stream",
          "text": [
            "คำนวนเป็นเวลาได้เท่ากับ 51331 วินาที\n"
          ],
          "name": "stdout"
        }
      ]
    },
    {
      "cell_type": "code",
      "metadata": {
        "id": "FBP9jTsIwSW4",
        "colab": {
          "base_uri": "https://localhost:8080/"
        },
        "outputId": "508fbcf7-9f4d-4662-cbd5-27cb36061e9b"
      },
      "source": [
        "print_time('13-00-01')"
      ],
      "execution_count": 18,
      "outputs": [
        {
          "output_type": "stream",
          "text": [
            "คำนวนเป็นเวลาได้เท่ากับ 46801 วินาที\n"
          ],
          "name": "stdout"
        }
      ]
    },
    {
      "cell_type": "code",
      "metadata": {
        "id": "ug09cJuVwbEw",
        "colab": {
          "base_uri": "https://localhost:8080/"
        },
        "outputId": "88458d60-e184-47a1-8981-47ee1c50603b"
      },
      "source": [
        "print_time('05-49-44')"
      ],
      "execution_count": 19,
      "outputs": [
        {
          "output_type": "stream",
          "text": [
            "คำนวนเป็นเวลาได้เท่ากับ 20984 วินาที\n"
          ],
          "name": "stdout"
        }
      ]
    },
    {
      "cell_type": "code",
      "metadata": {
        "id": "Cdj5ZHprwhS1",
        "colab": {
          "base_uri": "https://localhost:8080/"
        },
        "outputId": "769a3481-4355-4b20-f75b-da65a95d8aad"
      },
      "source": [
        "print_time('00-00-16')"
      ],
      "execution_count": 20,
      "outputs": [
        {
          "output_type": "stream",
          "text": [
            "คำนวนเป็นเวลาได้เท่ากับ 16 วินาที\n"
          ],
          "name": "stdout"
        }
      ]
    },
    {
      "cell_type": "markdown",
      "metadata": {
        "id": "9r0F-1sRQSEo"
      },
      "source": [
        "Numpy -> package สำหรับจัดการกับ Array ที่เป็นตัวเลข (Matrix)\r\n",
        "\r\n",
        "Num + py -> Number - Numerical + python\r\n",
        "\r\n",
        "การใช้ package\r\n",
        "1.   ```import``` ```ชื่อ package``` #เรียกใช้ package\r\n",
        "2.   ```ชื่อ package.ชื่อฟังก์ชั่น``` #เรียกใช้ function\r\n",
        "\r\n"
      ]
    },
    {
      "cell_type": "code",
      "metadata": {
        "id": "iFqedhQDSDQa"
      },
      "source": [
        "import numpy"
      ],
      "execution_count": 23,
      "outputs": []
    },
    {
      "cell_type": "markdown",
      "metadata": {
        "id": "Gw84mjVqSIwr"
      },
      "source": [
        "data structure -> array"
      ]
    },
    {
      "cell_type": "markdown",
      "metadata": {
        "id": "Bfcup9KGUEoJ"
      },
      "source": [
        "สร้าง array (numpy array)"
      ]
    },
    {
      "cell_type": "code",
      "metadata": {
        "id": "hXEb_QSPSHex",
        "outputId": "b995dc34-96d6-4964-ee96-d080129ca950",
        "colab": {
          "base_uri": "https://localhost:8080/"
        }
      },
      "source": [
        "mat_ex1 = numpy.array([[5.2,3.0,4.5],[9.1,0.1,0.3]])\r\n",
        "print(mat_ex1)"
      ],
      "execution_count": 22,
      "outputs": [
        {
          "output_type": "stream",
          "text": [
            "[[5.2 3.  4.5]\n",
            " [9.1 0.1 0.3]]\n"
          ],
          "name": "stdout"
        }
      ]
    },
    {
      "cell_type": "markdown",
      "metadata": {
        "id": "nzf0PmKqUqrC"
      },
      "source": [
        "ชี้ค่าใน numpy array"
      ]
    },
    {
      "cell_type": "code",
      "metadata": {
        "id": "OPaPiWdwUwSA",
        "outputId": "9677aeed-e1f6-42fa-fd75-fa4508ba5494",
        "colab": {
          "base_uri": "https://localhost:8080/"
        }
      },
      "source": [
        "mat_ex1[1,1]   #[แถว,หลัก]  นับ0,1,2..."
      ],
      "execution_count": 25,
      "outputs": [
        {
          "output_type": "execute_result",
          "data": {
            "text/plain": [
              "0.1"
            ]
          },
          "metadata": {
            "tags": []
          },
          "execution_count": 25
        }
      ]
    },
    {
      "cell_type": "markdown",
      "metadata": {
        "id": "-NPouXPHVz4n"
      },
      "source": [
        "ถ้าไม่มี numpy array"
      ]
    },
    {
      "cell_type": "code",
      "metadata": {
        "id": "JJ1xk7SyVvWi",
        "outputId": "676373f6-7e4a-4afb-dc01-6ee3a2e655bc",
        "colab": {
          "base_uri": "https://localhost:8080/"
        }
      },
      "source": [
        "list_ex1 = [[5.2,3.0,4.5],[9.1,0.1,0.3]]\r\n",
        "print(list_ex1)"
      ],
      "execution_count": 26,
      "outputs": [
        {
          "output_type": "stream",
          "text": [
            "[[5.2, 3.0, 4.5], [9.1, 0.1, 0.3]]\n"
          ],
          "name": "stdout"
        }
      ]
    },
    {
      "cell_type": "code",
      "metadata": {
        "id": "WDHqxgUfWCv4",
        "outputId": "ed5ea678-c664-4a8e-9321-5809a8335cab",
        "colab": {
          "base_uri": "https://localhost:8080/"
        }
      },
      "source": [
        "list_ex1[1][1]"
      ],
      "execution_count": 36,
      "outputs": [
        {
          "output_type": "execute_result",
          "data": {
            "text/plain": [
              "0.1"
            ]
          },
          "metadata": {
            "tags": []
          },
          "execution_count": 36
        }
      ]
    },
    {
      "cell_type": "code",
      "metadata": {
        "id": "JZD6IPNQXZuB",
        "outputId": "896f9f2c-2f15-4eff-e428-d25c27473fea",
        "colab": {
          "base_uri": "https://localhost:8080/"
        }
      },
      "source": [
        "print(list_ex1)\r\n",
        "a = list_ex1[1]\r\n",
        "print(a)\r\n",
        "print(a[1])"
      ],
      "execution_count": 38,
      "outputs": [
        {
          "output_type": "stream",
          "text": [
            "[[5.2, 3.0, 4.5], [9.1, 0.1, 0.3]]\n",
            "[9.1, 0.1, 0.3]\n",
            "0.1\n"
          ],
          "name": "stdout"
        }
      ]
    },
    {
      "cell_type": "markdown",
      "metadata": {
        "id": "wzEbsce2X-f3"
      },
      "source": [
        "Matrix Operations\r\n",
        "\r\n",
        "data 2 แบบ -> matrix (2D array) , scalar (ตัวเลขค่าคงที)"
      ]
    },
    {
      "cell_type": "code",
      "metadata": {
        "id": "6H1xjVbHXzkw",
        "outputId": "44a26e80-ee07-42f4-f13b-3f3a4d89c141",
        "colab": {
          "base_uri": "https://localhost:8080/"
        }
      },
      "source": [
        "mat_ex1 = numpy.array([[5.2,3.0,4.5],[9.1,0.1,0.3]])\r\n",
        "print(mat_ex1)\r\n",
        "mat_ex2 = numpy.array([[2,3.7,5.9],[91,1.5,7.3]])\r\n",
        "print(mat_ex2)"
      ],
      "execution_count": 39,
      "outputs": [
        {
          "output_type": "stream",
          "text": [
            "[[5.2 3.  4.5]\n",
            " [9.1 0.1 0.3]]\n",
            "[[ 2.   3.7  5.9]\n",
            " [91.   1.5  7.3]]\n"
          ],
          "name": "stdout"
        }
      ]
    },
    {
      "cell_type": "markdown",
      "metadata": {
        "id": "AYqyQiDnZFKX"
      },
      "source": [
        "##บวกกับลบ matrix เอาตัวเลขเลขตำแหน่งเดียวกันมาบวกกัน"
      ]
    },
    {
      "cell_type": "code",
      "metadata": {
        "id": "FpWvYp0jZuux",
        "outputId": "74f6c938-ebdf-4c80-ed67-9cd8a83a9fdf",
        "colab": {
          "base_uri": "https://localhost:8080/"
        }
      },
      "source": [
        "mat_ex0 = numpy.array([[1,2],[3,4]])\r\n",
        "print(mat_ex0)"
      ],
      "execution_count": 42,
      "outputs": [
        {
          "output_type": "stream",
          "text": [
            "[[1 2]\n",
            " [3 4]]\n"
          ],
          "name": "stdout"
        }
      ]
    },
    {
      "cell_type": "code",
      "metadata": {
        "id": "iy5XN73hYpFP",
        "outputId": "f7b19743-ae95-461f-fba5-7666f1e20dce",
        "colab": {
          "base_uri": "https://localhost:8080/"
        }
      },
      "source": [
        "mat_ex3 = mat_ex1 + mat_ex2  \r\n",
        "print(mat_ex3)\r\n",
        "mat_ex4 = mat_ex1 - mat_ex2 \r\n",
        "print(mat_ex4)"
      ],
      "execution_count": 41,
      "outputs": [
        {
          "output_type": "stream",
          "text": [
            "[[  7.2   6.7  10.4]\n",
            " [100.1   1.6   7.6]]\n",
            "[[  3.2  -0.7  -1.4]\n",
            " [-81.9  -1.4  -7. ]]\n"
          ],
          "name": "stdout"
        }
      ]
    },
    {
      "cell_type": "markdown",
      "metadata": {
        "id": "gOtTNTZwZ_Rw"
      },
      "source": [
        "การตรวจสอบขนาดของ matrix  ใช้ shape"
      ]
    },
    {
      "cell_type": "code",
      "metadata": {
        "id": "HnHJhCjJaPGh",
        "outputId": "6a94c59a-2881-46f3-f551-4f425b17f678",
        "colab": {
          "base_uri": "https://localhost:8080/"
        }
      },
      "source": [
        "mat_ex3.shape"
      ],
      "execution_count": 43,
      "outputs": [
        {
          "output_type": "execute_result",
          "data": {
            "text/plain": [
              "(2, 3)"
            ]
          },
          "metadata": {
            "tags": []
          },
          "execution_count": 43
        }
      ]
    },
    {
      "cell_type": "code",
      "metadata": {
        "id": "U89d36eqav0P",
        "outputId": "1919b240-9ee6-40fd-a742-4e1c6400393c",
        "colab": {
          "base_uri": "https://localhost:8080/"
        }
      },
      "source": [
        "mat_ex3.shape[0]"
      ],
      "execution_count": 44,
      "outputs": [
        {
          "output_type": "execute_result",
          "data": {
            "text/plain": [
              "2"
            ]
          },
          "metadata": {
            "tags": []
          },
          "execution_count": 44
        }
      ]
    },
    {
      "cell_type": "markdown",
      "metadata": {
        "id": "9M0ESi6Ma--H"
      },
      "source": [
        "## คูณ matrix"
      ]
    },
    {
      "cell_type": "code",
      "metadata": {
        "id": "U8Eiybfjbcaf",
        "outputId": "e277fbeb-d56a-4be0-fddf-0db9c4faade1",
        "colab": {
          "base_uri": "https://localhost:8080/"
        }
      },
      "source": [
        "mat_ex1 * mat_ex2   #คูณที่ผิด"
      ],
      "execution_count": 48,
      "outputs": [
        {
          "output_type": "execute_result",
          "data": {
            "text/plain": [
              "array([[1.040e+01, 1.110e+01, 2.655e+01],\n",
              "       [8.281e+02, 1.500e-01, 2.190e+00]])"
            ]
          },
          "metadata": {
            "tags": []
          },
          "execution_count": 48
        }
      ]
    },
    {
      "cell_type": "markdown",
      "metadata": {
        "id": "cXneneKMevkP"
      },
      "source": [
        "##การคูณ matrix (แถวคูณหลัก)\r\n",
        "(หลักของ Matrix ตัวข้างหน้า ต้องเท่ากับแถวของ Matrix ตัวข้างหลัง)\r\n",
        "\r\n",
        "dot product ((AAA,x),(x,ZZZ) = (AAA,ZZZ)"
      ]
    },
    {
      "cell_type": "code",
      "metadata": {
        "id": "0KXqYtCWflBY",
        "outputId": "b7307581-413a-4802-dd92-1d5f7aef2400",
        "colab": {
          "base_uri": "https://localhost:8080/"
        }
      },
      "source": [
        "print(mat_ex1)\r\n",
        "print(mat_ex1.shape)\r\n",
        "print(mat_ex2)\r\n",
        "print(mat_ex2.shape)"
      ],
      "execution_count": 50,
      "outputs": [
        {
          "output_type": "stream",
          "text": [
            "[[5.2 3.  4.5]\n",
            " [9.1 0.1 0.3]]\n",
            "(2, 3)\n",
            "[[ 2.   3.7  5.9]\n",
            " [91.   1.5  7.3]]\n",
            "(2, 3)\n"
          ],
          "name": "stdout"
        }
      ]
    },
    {
      "cell_type": "markdown",
      "metadata": {
        "id": "uj_PlBTmf90M"
      },
      "source": [
        "# Transpose กลับแถวเป็นหลักกลับหลักเป็นแถว\r\n",
        "\r\n",
        "matrix.T"
      ]
    },
    {
      "cell_type": "code",
      "metadata": {
        "id": "VITLqMDkhD0P",
        "outputId": "3971f40d-79a6-43dc-895d-bf9b3fdf8504",
        "colab": {
          "base_uri": "https://localhost:8080/"
        }
      },
      "source": [
        "print(mat_ex2)\r\n",
        "print(mat_ex2.shape)"
      ],
      "execution_count": 52,
      "outputs": [
        {
          "output_type": "stream",
          "text": [
            "[[ 2.   3.7  5.9]\n",
            " [91.   1.5  7.3]]\n",
            "(2, 3)\n"
          ],
          "name": "stdout"
        }
      ]
    },
    {
      "cell_type": "code",
      "metadata": {
        "id": "RdzeyqGDhE3n",
        "outputId": "3198edad-7b0d-4b8c-f38b-21f7086e11f5",
        "colab": {
          "base_uri": "https://localhost:8080/"
        }
      },
      "source": [
        "print(mat_ex2.T)\r\n",
        "print(mat_ex2.T.shape)"
      ],
      "execution_count": 53,
      "outputs": [
        {
          "output_type": "stream",
          "text": [
            "[[ 2.  91. ]\n",
            " [ 3.7  1.5]\n",
            " [ 5.9  7.3]]\n",
            "(3, 2)\n"
          ],
          "name": "stdout"
        }
      ]
    },
    {
      "cell_type": "code",
      "metadata": {
        "id": "Ly2Nmrm6ccbX",
        "outputId": "98973ac1-fd78-43d4-ad9f-39d3aa77fd2b",
        "colab": {
          "base_uri": "https://localhost:8080/"
        }
      },
      "source": [
        "numpy.dot(mat_ex1,mat_ex2.T)  #(2,3).(3,2) = (2,2)"
      ],
      "execution_count": 56,
      "outputs": [
        {
          "output_type": "execute_result",
          "data": {
            "text/plain": [
              "array([[ 48.05, 510.55],\n",
              "       [ 20.34, 830.44]])"
            ]
          },
          "metadata": {
            "tags": []
          },
          "execution_count": 56
        }
      ]
    },
    {
      "cell_type": "code",
      "metadata": {
        "id": "21hmJtRCgbtI",
        "outputId": "96261f55-5530-43ee-e4b9-7f8e8aef2356",
        "colab": {
          "base_uri": "https://localhost:8080/"
        }
      },
      "source": [
        "numpy.dot(mat_ex1.T,mat_ex2)  #(3.2).(2.3) = (3,3)"
      ],
      "execution_count": 57,
      "outputs": [
        {
          "output_type": "execute_result",
          "data": {
            "text/plain": [
              "array([[838.5 ,  32.89,  97.11],\n",
              "       [ 15.1 ,  11.25,  18.43],\n",
              "       [ 36.3 ,  17.1 ,  28.74]])"
            ]
          },
          "metadata": {
            "tags": []
          },
          "execution_count": 57
        }
      ]
    },
    {
      "cell_type": "markdown",
      "metadata": {
        "id": "RJQAR-gzi6H2"
      },
      "source": [
        "HW4 อธิบายการหา Determinant และ Inverse matrix (รูปและคำอธิบาย)"
      ]
    },
    {
      "cell_type": "markdown",
      "metadata": {
        "id": "OtxTc4qkQKad"
      },
      "source": [
        "~panda~"
      ]
    }
  ]
}